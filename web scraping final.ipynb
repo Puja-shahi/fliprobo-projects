{
 "cells": [
  {
   "cell_type": "markdown",
   "metadata": {},
   "source": [
    "## Q1.Program to scrape data for “Data Analyst” Job position in “Bangalore” location from https://www.naukri.com/"
   ]
  },
  {
   "cell_type": "code",
   "execution_count": null,
   "metadata": {},
   "outputs": [],
   "source": [
    "# !pip install selenium"
   ]
  },
  {
   "cell_type": "code",
   "execution_count": null,
   "metadata": {},
   "outputs": [],
   "source": [
    "import pandas as pd\n",
    "import selenium\n",
    "from selenium import webdriver"
   ]
  },
  {
   "cell_type": "code",
   "execution_count": null,
   "metadata": {},
   "outputs": [],
   "source": [
    "driver=webdriver.Chrome('chromedriver.exe')\n",
    "driver"
   ]
  },
  {
   "cell_type": "code",
   "execution_count": null,
   "metadata": {},
   "outputs": [],
   "source": [
    "url='https://www.naukri.com/'\n",
    "driver.get(url)"
   ]
  },
  {
   "cell_type": "code",
   "execution_count": null,
   "metadata": {},
   "outputs": [],
   "source": [
    "job=driver.find_element_by_xpath(\"//input[@id='qsb-keyword-sugg']\")\n",
    "job"
   ]
  },
  {
   "cell_type": "code",
   "execution_count": null,
   "metadata": {},
   "outputs": [],
   "source": [
    "job.send_keys('Data Analyst')"
   ]
  },
  {
   "cell_type": "code",
   "execution_count": null,
   "metadata": {},
   "outputs": [],
   "source": [
    "search_loc=driver.find_element_by_xpath(\"//input[@id='qsb-location-sugg']\")\n",
    "search_loc"
   ]
  },
  {
   "cell_type": "code",
   "execution_count": null,
   "metadata": {},
   "outputs": [],
   "source": [
    "search_loc.send_keys('Bangalore')"
   ]
  },
  {
   "cell_type": "code",
   "execution_count": null,
   "metadata": {},
   "outputs": [],
   "source": [
    "btn=driver.find_element_by_xpath(\"//button[@class='btn']\")\n",
    "btn"
   ]
  },
  {
   "cell_type": "code",
   "execution_count": null,
   "metadata": {},
   "outputs": [],
   "source": [
    "btn.click()"
   ]
  },
  {
   "cell_type": "code",
   "execution_count": null,
   "metadata": {},
   "outputs": [],
   "source": [
    "loc_=driver.find_element_by_xpath(\"//span[@class='fr geoLocBtn later']\")\n",
    "loc_.click()"
   ]
  },
  {
   "cell_type": "code",
   "execution_count": null,
   "metadata": {},
   "outputs": [],
   "source": [
    "title=driver.find_elements_by_xpath(\"//a[@class='title fw500 ellipsis']\")\n",
    "title\n",
    "# using for loop to extracting text\n",
    "job_title=[]\n",
    "for i in title:\n",
    "    job_title.append(i.text)\n",
    "print('\\n Job Title',job_title)"
   ]
  },
  {
   "cell_type": "code",
   "execution_count": null,
   "metadata": {},
   "outputs": [],
   "source": [
    "c_name=driver.find_elements_by_xpath(\"//a[@class='subTitle ellipsis fleft']\")\n",
    "company=[]\n",
    "for i in c_name:\n",
    "    company.append(i.text)\n",
    "print('\\n company name \\n\\n',company)"
   ]
  },
  {
   "cell_type": "code",
   "execution_count": null,
   "metadata": {},
   "outputs": [],
   "source": [
    "loc=driver.find_elements_by_xpath(\"//li[@class='fleft grey-text br2 placeHolderLi location']\") \n",
    "job_loc=[]\n",
    "for i in loc:\n",
    "    job_loc.append(i.text)\n",
    "print('\\n Job Location \\n\\n',job_loc)"
   ]
  },
  {
   "cell_type": "code",
   "execution_count": null,
   "metadata": {},
   "outputs": [],
   "source": [
    "exp=driver.find_elements_by_xpath(\"//li[@class='fleft grey-text br2 placeHolderLi experience']//span\")\n",
    "exp_req=[]\n",
    "for i in exp:\n",
    "    exp_req.append(i.text)\n",
    "print('\\n Experience Required',exp_req)"
   ]
  },
  {
   "cell_type": "code",
   "execution_count": null,
   "metadata": {},
   "outputs": [],
   "source": [
    "print('length of Job Title: ',len(job_title),\n",
    "     '\\nlength of Job Location: ',len(job_loc),\n",
    "      '\\nlength of Company Name: ',len(company),\n",
    "      '\\nLength of Experience Required: ',len(exp_req))"
   ]
  },
  {
   "cell_type": "code",
   "execution_count": null,
   "metadata": {},
   "outputs": [],
   "source": [
    "data=pd.DataFrame({'Title':job_title,'Location':job_loc,'Company Name':company,'Experience Required':exp_req})\n",
    "data.iloc[0:10,]"
   ]
  },
  {
   "cell_type": "markdown",
   "metadata": {},
   "source": [
    "# "
   ]
  },
  {
   "cell_type": "markdown",
   "metadata": {},
   "source": [
    "## Q2 Program to scrape data for “Data Scientist” Job position in “Bangalore” location from https://www.naukri.com/"
   ]
  },
  {
   "cell_type": "code",
   "execution_count": null,
   "metadata": {},
   "outputs": [],
   "source": [
    "import pandas as pd\n",
    "import selenium\n",
    "from selenium import webdriver"
   ]
  },
  {
   "cell_type": "code",
   "execution_count": null,
   "metadata": {},
   "outputs": [],
   "source": [
    "driver=webdriver.Chrome('chromedriver.exe')\n",
    "driver"
   ]
  },
  {
   "cell_type": "code",
   "execution_count": null,
   "metadata": {},
   "outputs": [],
   "source": [
    "url='https://www.naukri.com/'\n",
    "driver.get(url)"
   ]
  },
  {
   "cell_type": "code",
   "execution_count": null,
   "metadata": {},
   "outputs": [],
   "source": [
    "job_path=driver.find_element_by_id('qsb-keyword-sugg')\n",
    "job_path.send_keys('Data Scientist')"
   ]
  },
  {
   "cell_type": "code",
   "execution_count": null,
   "metadata": {},
   "outputs": [],
   "source": [
    "loc_path=driver.find_element_by_id('qsb-location-sugg')\n",
    "loc_path.send_keys('Bangalore')"
   ]
  },
  {
   "cell_type": "code",
   "execution_count": null,
   "metadata": {},
   "outputs": [],
   "source": [
    "search_click=driver.find_element_by_xpath(\"//button[@class='btn']\")\n",
    "search_click.click()"
   ]
  },
  {
   "cell_type": "code",
   "execution_count": null,
   "metadata": {},
   "outputs": [],
   "source": [
    "titles=driver.find_elements_by_xpath(\"//a[@class='title fw500 ellipsis']\")\n",
    "titles\n",
    "\n",
    "job_titles=[]\n",
    "for i in titles:\n",
    "    job_titles.append(i.text)\n",
    "job_titles=job_titles[0:10]\n",
    "print('\\n Job Title\\n',job_titles)"
   ]
  },
  {
   "cell_type": "code",
   "execution_count": null,
   "metadata": {},
   "outputs": [],
   "source": [
    "loc_=driver.find_elements_by_xpath(\"//li[@class='fleft grey-text br2 placeHolderLi location']//span\")\n",
    "job_loc_=[]\n",
    "for i in loc_:\n",
    "    job_loc_.append(i.text)\n",
    "job_loc_=job_loc_[0:10]\n",
    "print('\\n Job Location \\n\\n',job_loc_)"
   ]
  },
  {
   "cell_type": "code",
   "execution_count": null,
   "metadata": {},
   "outputs": [],
   "source": [
    "c_names=driver.find_elements_by_xpath(\"//a[@class='subTitle ellipsis fleft']\")\n",
    "com_names=[]\n",
    "for i in c_names:\n",
    "    com_names.append(i.text)\n",
    "com_names=com_names[0:10]\n",
    "print('\\n company name \\n',com_names)"
   ]
  },
  {
   "cell_type": "code",
   "execution_count": null,
   "metadata": {},
   "outputs": [],
   "source": [
    "url=driver.find_elements_by_xpath(\"//a[@class='title fw500 ellipsis']\")\n",
    "job_opening_url=[]\n",
    "for i in url:\n",
    "    job_opening_url.append(i.get_attribute('href'))\n",
    "job_opening_url=job_opening_url[0:17]\n",
    "job_opening_url\n"
   ]
  },
  {
   "cell_type": "code",
   "execution_count": null,
   "metadata": {},
   "outputs": [],
   "source": [
    "job_des=[]\n",
    "for i in job_opening_url:\n",
    "    driver.get(i)\n",
    "    des=driver.find_elements_by_xpath(\"//div[@class='dang-inner-html']\")\n",
    "    for i in des:\n",
    "        job_des.append(i.text.replace('\\n',' '))\n",
    "job_des=job_des[0:10]\n",
    "print('\\n Full Job Description \\n\\n',job_des)"
   ]
  },
  {
   "cell_type": "code",
   "execution_count": null,
   "metadata": {},
   "outputs": [],
   "source": [
    "print('length of Job Title: ',len(job_titles),\n",
    "     '\\nlength of Job Location: ',len(job_loc_),\n",
    "      '\\nlength of Company Name: ',len(com_names),\n",
    "      '\\nLength of Full Job Description: ',len(job_des))"
   ]
  },
  {
   "cell_type": "code",
   "execution_count": null,
   "metadata": {},
   "outputs": [],
   "source": [
    "data=pd.DataFrame({'Title':job_titles,'Location':job_loc_,'Company Name':com_names,'Job Description':job_des})\n",
    "data\n"
   ]
  },
  {
   "cell_type": "markdown",
   "metadata": {},
   "source": [
    "# "
   ]
  },
  {
   "cell_type": "markdown",
   "metadata": {},
   "source": [
    "# 3.In this question you have to scrape data using the filters available....."
   ]
  },
  {
   "cell_type": "code",
   "execution_count": null,
   "metadata": {},
   "outputs": [],
   "source": [
    "import pandas as pd\n",
    "import selenium\n",
    "from selenium import webdriver"
   ]
  },
  {
   "cell_type": "code",
   "execution_count": null,
   "metadata": {},
   "outputs": [],
   "source": [
    "# connecting to driver\n",
    "driver=webdriver.Chrome('chromedriver.exe')\n",
    "driver"
   ]
  },
  {
   "cell_type": "code",
   "execution_count": null,
   "metadata": {},
   "outputs": [],
   "source": [
    "url='https://www.naukri.com/'\n",
    "driver.get(url)"
   ]
  },
  {
   "cell_type": "code",
   "execution_count": null,
   "metadata": {},
   "outputs": [],
   "source": [
    "job_path=driver.find_element_by_id('qsb-keyword-sugg')\n",
    "job_path.send_keys('Data Scientist')"
   ]
  },
  {
   "cell_type": "code",
   "execution_count": null,
   "metadata": {},
   "outputs": [],
   "source": [
    "search_click=driver.find_element_by_xpath(\"//button[@class='btn']\")\n",
    "search_click.click()"
   ]
  },
  {
   "cell_type": "code",
   "execution_count": null,
   "metadata": {},
   "outputs": [],
   "source": [
    "loc=driver.find_element_by_xpath('//span[@class=\"fw500\"]')\n",
    "loc.click()"
   ]
  },
  {
   "cell_type": "code",
   "execution_count": null,
   "metadata": {},
   "outputs": [],
   "source": [
    "sal=driver.find_element_by_xpath('/html/body/div[1]/div[3]/div[2]/section[1]/div[2]/div[3]/div[2]/div[2]/label/p/span[1]')\n",
    "sal.click()"
   ]
  },
  {
   "cell_type": "code",
   "execution_count": null,
   "metadata": {},
   "outputs": [],
   "source": [
    "titles=driver.find_elements_by_xpath(\"//a[@class='title fw500 ellipsis']\")\n",
    "titles\n",
    "job_titles=[]\n",
    "for i in titles:\n",
    "    job_titles.append(i.text)\n",
    "print('\\n Job Title \\n\\n',job_titles)"
   ]
  },
  {
   "cell_type": "code",
   "execution_count": null,
   "metadata": {},
   "outputs": [],
   "source": [
    "c_names=driver.find_elements_by_xpath(\"//a[@class='subTitle ellipsis fleft']\")\n",
    "com_names=[]\n",
    "for i in c_names:\n",
    "    com_names.append(i.text)\n",
    "print('\\n company name \\n\\n',com_names)"
   ]
  },
  {
   "cell_type": "code",
   "execution_count": null,
   "metadata": {},
   "outputs": [],
   "source": [
    "loc_=driver.find_elements_by_xpath(\"//li[@class='fleft grey-text br2 placeHolderLi location']//span\") \n",
    "job_loc_=[]\n",
    "for i in loc_:\n",
    "    job_loc_.append(i.text)\n",
    "print('\\n Job Location \\n\\n',job_loc_)"
   ]
  },
  {
   "cell_type": "code",
   "execution_count": null,
   "metadata": {},
   "outputs": [],
   "source": [
    "exp=driver.find_elements_by_xpath(\"//li[@class='fleft grey-text br2 placeHolderLi experience']//span\")\n",
    "exp_req=[]\n",
    "for i in exp:\n",
    "    exp_req.append(i.text)\n",
    "print('\\n Experience Required \\n\\n',exp_req)"
   ]
  },
  {
   "cell_type": "code",
   "execution_count": null,
   "metadata": {},
   "outputs": [],
   "source": [
    "print('length of Job Title: ',len(job_titles),\n",
    "     '\\nlength of Job Location: ',len(job_loc_),\n",
    "      '\\nlength of Company Name: ',len(com_names),\n",
    "      '\\nLength of Experience Required: ',len(exp_req))"
   ]
  },
  {
   "cell_type": "code",
   "execution_count": null,
   "metadata": {},
   "outputs": [],
   "source": [
    "df=pd.DataFrame({'Title':job_titles,'Location':job_loc_,'Company Name':com_names,'Experience Required':exp_req})\n",
    "df.iloc[0:10,]"
   ]
  },
  {
   "cell_type": "markdown",
   "metadata": {},
   "source": [
    "# "
   ]
  },
  {
   "cell_type": "markdown",
   "metadata": {},
   "source": [
    "## Q4.Program to scrape data for first 10 job results for Data scientist Designation in Noida location from https://www.glassdoor.co.in/index.htm"
   ]
  },
  {
   "cell_type": "code",
   "execution_count": null,
   "metadata": {},
   "outputs": [],
   "source": [
    "import pandas as pd\n",
    "import selenium\n",
    "from selenium import webdriver"
   ]
  },
  {
   "cell_type": "code",
   "execution_count": null,
   "metadata": {},
   "outputs": [],
   "source": [
    "driver=webdriver.Chrome('chromedriver.exe')\n",
    "driver"
   ]
  },
  {
   "cell_type": "code",
   "execution_count": null,
   "metadata": {},
   "outputs": [],
   "source": [
    "url='https://www.glassdoor.co.in/index.htm'\n",
    "driver.get(url)"
   ]
  },
  {
   "cell_type": "code",
   "execution_count": null,
   "metadata": {},
   "outputs": [],
   "source": [
    "job_path=driver.find_element_by_xpath(\"//input[@class='css-1etjok6']\")\n",
    "job_path.send_keys('Data Scientist')"
   ]
  },
  {
   "cell_type": "code",
   "execution_count": null,
   "metadata": {},
   "outputs": [],
   "source": [
    "loc_path=driver.find_element_by_id(\"sc.location\")\n",
    "loc_path.send_keys('Noida')"
   ]
  },
  {
   "cell_type": "code",
   "execution_count": null,
   "metadata": {},
   "outputs": [],
   "source": [
    "search_click=driver.find_element_by_xpath(\"//button[@class='gd-ui-button ml-std col-auto SearchStyles__newSearchButton css-iixdfr']\")\n",
    "search_click.click()"
   ]
  },
  {
   "cell_type": "code",
   "execution_count": null,
   "metadata": {},
   "outputs": [],
   "source": [
    "cname=driver.find_elements_by_xpath(\"//a[@class=' css-l2wjgv e1n63ojh0 jobLink']\")\n",
    "com_name=[]\n",
    "for i in cname:\n",
    "    com_name.append(i.text)\n",
    "print('\\n Company Name \\n\\n',com_name)"
   ]
  },
  {
   "cell_type": "code",
   "execution_count": null,
   "metadata": {},
   "outputs": [],
   "source": [
    "days=driver.find_elements_by_xpath(\"//div[@class='d-flex align-items-end pl-std css-mi55ob']\")\n",
    "no_of_days=[]\n",
    "for i in days:\n",
    "    no_of_days.append(i.text)\n",
    "print('\\n No. Of Days \\n\\n',no_of_days)"
   ]
  },
  {
   "cell_type": "code",
   "execution_count": null,
   "metadata": {},
   "outputs": [],
   "source": [
    "rating=driver.find_elements_by_xpath(\"//div[@class='d-flex flex-column css-x75kgh e1rrn5ka3']\")\n",
    "rating_=[]\n",
    "for i in rating:\n",
    "    rating_.append(i.text)\n",
    "print('\\n Job Title \\n\\n',rating_)"
   ]
  },
  {
   "cell_type": "code",
   "execution_count": null,
   "metadata": {},
   "outputs": [],
   "source": [
    "print('length of Company Name: ',len(com_name),\n",
    "     '\\nlength of No. of Days: ',len(no_of_days),\n",
    "      '\\nlength of Company Rating: ',len(rating_))"
   ]
  },
  {
   "cell_type": "code",
   "execution_count": null,
   "metadata": {},
   "outputs": [],
   "source": [
    "df=pd.DataFrame({'Company Name':com_name,'No.of Days Ago':no_of_days,'Company Rating':rating_})\n",
    "df.iloc[0:10,]"
   ]
  },
  {
   "cell_type": "markdown",
   "metadata": {},
   "source": [
    "# "
   ]
  },
  {
   "cell_type": "markdown",
   "metadata": {},
   "source": [
    "## Q5.Program to scrape the salary data for Data Scientist designation in Noida location.from https://www.glassdoor.co.in/Salaries/index.htm"
   ]
  },
  {
   "cell_type": "code",
   "execution_count": null,
   "metadata": {},
   "outputs": [],
   "source": [
    "import pandas as pd\n",
    "import selenium\n",
    "from selenium import webdriver"
   ]
  },
  {
   "cell_type": "code",
   "execution_count": null,
   "metadata": {},
   "outputs": [],
   "source": [
    "driver=webdriver.Chrome('chromedriver.exe')\n",
    "driver"
   ]
  },
  {
   "cell_type": "code",
   "execution_count": null,
   "metadata": {},
   "outputs": [],
   "source": [
    "url='https://www.glassdoor.co.in/Salaries/index.htm'\n",
    "driver.get(url)"
   ]
  },
  {
   "cell_type": "code",
   "execution_count": null,
   "metadata": {},
   "outputs": [],
   "source": [
    "job_path=driver.find_element_by_id('KeywordSearch')\n",
    "job_path.send_keys('Data Scientist')"
   ]
  },
  {
   "cell_type": "code",
   "execution_count": null,
   "metadata": {},
   "outputs": [],
   "source": [
    "loc_path=driver.find_element_by_id('LocationSearch')\n",
    "loc_path.send_keys('Noida')"
   ]
  },
  {
   "cell_type": "code",
   "execution_count": null,
   "metadata": {},
   "outputs": [],
   "source": [
    "search_click=driver.find_element_by_xpath(\"//button[@class='gd-btn-mkt']\")\n",
    "search_click.click()"
   ]
  },
  {
   "cell_type": "code",
   "execution_count": null,
   "metadata": {},
   "outputs": [],
   "source": [
    "cname=driver.find_elements_by_xpath(\"//a[@class='css-f3vw95 e1aj7ssy3']\")\n",
    "com_name=[]\n",
    "for i in cname:\n",
    "    com_name.append(i.text)\n",
    "print('\\n Company Name \\n',com_name)"
   ]
  },
  {
   "cell_type": "code",
   "execution_count": null,
   "metadata": {},
   "outputs": [],
   "source": [
    "salary=driver.find_elements_by_xpath(\"//div[@class='col-12 col-lg-auto']\")\n",
    "no_of_salaries=[]\n",
    "for i in salary:\n",
    "    no_of_salaries.append(i.text)\n",
    "print('\\n No.of Salaries \\n',no_of_salaries)"
   ]
  },
  {
   "cell_type": "code",
   "execution_count": null,
   "metadata": {},
   "outputs": [],
   "source": [
    "asal=driver.find_elements_by_xpath(\"//div[@class='col-12 col-lg-4 px-lg-0 d-flex align-items-baseline']\")\n",
    "\n",
    "avg_sal=[]\n",
    "for i in asal:\n",
    "    avg_sal.append(i.text.replace('\\n',' '))\n",
    "print('\\n Average Salary \\n',avg_sal)"
   ]
  },
  {
   "cell_type": "code",
   "execution_count": null,
   "metadata": {},
   "outputs": [],
   "source": [
    "maxsal=driver.find_elements_by_xpath(\"//div[@class='d-none d-lg-flex col-2 align-items-center']\")\n",
    "\n",
    "max_sal=[]\n",
    "for i in maxsal:\n",
    "    max_sal.append(i.text.replace('Range: ','').replace('\\n',' '))\n",
    "print('\\n Maximum Salary \\n\\n',max_sal)"
   ]
  },
  {
   "cell_type": "code",
   "execution_count": null,
   "metadata": {},
   "outputs": [],
   "source": [
    "max_s=[]    \n",
    "for p in max_sal:\n",
    "   max_s.append(p[4:]) \n",
    "max_s"
   ]
  },
  {
   "cell_type": "code",
   "execution_count": null,
   "metadata": {},
   "outputs": [],
   "source": [
    "minsal=driver.find_elements_by_xpath(\"//div[@class='d-none d-lg-flex col-2 align-items-center']\")\n",
    "\n",
    "min_sal=[]\n",
    "for i in minsal:\n",
    "    min_sal.append(i.text.replace('Range: ','').replace('\\n',' '))\n",
    "\n",
    "print('\\n Minimum Salary \\n\\n',min_sal)"
   ]
  },
  {
   "cell_type": "code",
   "execution_count": null,
   "metadata": {},
   "outputs": [],
   "source": [
    "min_s=[]    \n",
    "for p in min_sal:\n",
    "    min_s.append(p[:-4]) \n",
    "min_s"
   ]
  },
  {
   "cell_type": "code",
   "execution_count": null,
   "metadata": {},
   "outputs": [],
   "source": [
    "print('length of Company Name: ',len(com_name),\n",
    "     '\\nlength of No. of Salaries: ',len(no_of_salaries),\n",
    "      '\\nlength of Average Salary: ',len(avg_sal),\n",
    "      '\\nlength of Maximum Salary: ',len(max_s),\n",
    "      '\\nlength of Minimum Salary: ',len(min_s))"
   ]
  },
  {
   "cell_type": "code",
   "execution_count": null,
   "metadata": {},
   "outputs": [],
   "source": [
    "df=pd.DataFrame({'Name':com_name,'No.of Salaries':no_of_salaries,'Average Salary':avg_sal,'Minimum Salary':min_s,'Maximun Salary':max_s})\n",
    "df.iloc[0:10,]"
   ]
  },
  {
   "cell_type": "markdown",
   "metadata": {},
   "source": [
    "# "
   ]
  },
  {
   "cell_type": "markdown",
   "metadata": {},
   "source": [
    "# 6.Scrape data of first 100 sunglasses listings on flipkart.com"
   ]
  },
  {
   "cell_type": "code",
   "execution_count": null,
   "metadata": {},
   "outputs": [],
   "source": [
    "import pandas as pd\n",
    "import selenium\n",
    "from selenium import webdriver"
   ]
  },
  {
   "cell_type": "code",
   "execution_count": null,
   "metadata": {},
   "outputs": [],
   "source": [
    "driver=webdriver.Chrome('chromedriver.exe')\n",
    "driver"
   ]
  },
  {
   "cell_type": "code",
   "execution_count": null,
   "metadata": {},
   "outputs": [],
   "source": [
    "driver.get('https://www.flipkart.com/')"
   ]
  },
  {
   "cell_type": "code",
   "execution_count": null,
   "metadata": {},
   "outputs": [],
   "source": [
    "enter=driver.find_element_by_name('q')\n",
    "enter.send_keys('sunglasses')"
   ]
  },
  {
   "cell_type": "code",
   "execution_count": null,
   "metadata": {},
   "outputs": [],
   "source": [
    "search=driver.find_element_by_xpath(\"//button[@class='L0Z3Pu']\")\n",
    "search.click()"
   ]
  },
  {
   "cell_type": "markdown",
   "metadata": {},
   "source": [
    "#### 1st page"
   ]
  },
  {
   "cell_type": "code",
   "execution_count": null,
   "metadata": {},
   "outputs": [],
   "source": [
    "brand=driver.find_elements_by_xpath(\"//div[@class='_2WkVRV']\")\n",
    "# using for loop to extracting text\n",
    "brand_name=[]\n",
    "for i in brand:\n",
    "    brand_name.append(i.text)\n",
    "brand_name=brand_name[:-2]\n",
    "print('\\n Brand Name \\n\\n',brand_name)"
   ]
  },
  {
   "cell_type": "code",
   "execution_count": null,
   "metadata": {},
   "outputs": [],
   "source": [
    "price=driver.find_elements_by_xpath(\"//div[@class='_30jeq3']\")\n",
    "# using for loop to extracting text\n",
    "price_=[]\n",
    "for i in price:\n",
    "    price_.append(i.text)\n",
    "price_=price[:-2]\n",
    "print('\\n Price \\n\\n',price_)"
   ]
  },
  {
   "cell_type": "code",
   "execution_count": null,
   "metadata": {
    "scrolled": true
   },
   "outputs": [],
   "source": [
    "discount=driver.find_elements_by_xpath(\"//div[@class='_3Ay6Sb']\")\n",
    "# using for loop to extracting text\n",
    "discount_=[]\n",
    "for i in discount:\n",
    "    discount_.append(i.text)\n",
    "discount_=discount_[:-2]\n",
    "print('\\n Discount % \\n\\n',discount_)"
   ]
  },
  {
   "cell_type": "code",
   "execution_count": null,
   "metadata": {},
   "outputs": [],
   "source": [
    "product=driver.find_elements_by_xpath(\"//a[@class='B_NuCI']\")\n",
    "product_des=[]\n",
    "for i in product:\n",
    "    product_des.append(i.text)\n",
    "print('\\n Product Description  \\n\\n',product_des)"
   ]
  },
  {
   "cell_type": "code",
   "execution_count": null,
   "metadata": {},
   "outputs": [],
   "source": [
    "print('length of Brand Name: ',len(brand_name),\n",
    "     '\\nlength of Price: ',len(price_),\n",
    "      '\\nlength of Discount Percentage: ',len(discount_),\n",
    "      '\\nlength of Product Description: ',len(product_des))"
   ]
  },
  {
   "cell_type": "code",
   "execution_count": null,
   "metadata": {},
   "outputs": [],
   "source": [
    "first=pd.DataFrame({'Brand Name':brand_name,'Product Description':product_des,'Price':price_,'Discount %':discount_})"
   ]
  },
  {
   "cell_type": "markdown",
   "metadata": {},
   "source": [
    "#### 2nd page"
   ]
  },
  {
   "cell_type": "code",
   "execution_count": null,
   "metadata": {},
   "outputs": [],
   "source": [
    "next=driver.find_element_by_xpath(\"//a[@class='_1LKTO3']\")\n",
    "next.click()"
   ]
  },
  {
   "cell_type": "code",
   "execution_count": null,
   "metadata": {},
   "outputs": [],
   "source": [
    "brand=driver.find_elements_by_xpath(\"//div[@class='_2WkVRV']\")\n",
    "# using for loop to extracting text\n",
    "brand_names=[]\n",
    "for i in brand:\n",
    "    brand_names.append(i.text)\n",
    "brand_names=brand_names[:-1]\n",
    "print('\\n Brand Name \\n\\n',brand_names)"
   ]
  },
  {
   "cell_type": "code",
   "execution_count": null,
   "metadata": {},
   "outputs": [],
   "source": [
    "# extracting  all tags having price\n",
    "price=driver.find_elements_by_xpath(\"//div[@class='_30jeq3']\")\n",
    "# using for loop to extracting text\n",
    "price__=[]\n",
    "for i in price:\n",
    "    price__.append(i.text)\n",
    "price__=price__[:-1]\n",
    "print('\\n Price \\n\\n',price__)"
   ]
  },
  {
   "cell_type": "code",
   "execution_count": null,
   "metadata": {},
   "outputs": [],
   "source": [
    "discount=driver.find_elements_by_xpath(\"//div[@class='_3Ay6Sb']\")\n",
    "# using for loop to extracting text\n",
    "discount__=[]\n",
    "for i in discount:\n",
    "    discount__.append(i.text)\n",
    "discount__=discount__[:-1]\n",
    "print('\\n Discount % \\n\\n',discount__)"
   ]
  },
  {
   "cell_type": "code",
   "execution_count": null,
   "metadata": {},
   "outputs": [],
   "source": [
    "product=driver.find_elements_by_xpath(\"//a[@class='IRpwTa']\")\n",
    "product_desc=[]\n",
    "for i in product:\n",
    "    product_desc.append(i.text)\n",
    "print('\\n Product Description  \\n\\n',product_desc)"
   ]
  },
  {
   "cell_type": "code",
   "execution_count": null,
   "metadata": {},
   "outputs": [],
   "source": [
    "print('length of Brand Name: ',len(brand_names),\n",
    "     '\\nlength of Price: ',len(price__),\n",
    "      '\\nlength of Discount Percentage: ',len(discount__),\n",
    "      '\\nlength of Product Description: ',len(product_desc))"
   ]
  },
  {
   "cell_type": "code",
   "execution_count": null,
   "metadata": {},
   "outputs": [],
   "source": [
    "second=pd.DataFrame({'Brand Name':brand_names,'Product Description':product_desc,'Price':price__,'Discount %':discount__})\n",
    "second"
   ]
  },
  {
   "cell_type": "markdown",
   "metadata": {},
   "source": [
    "#### 3rd page"
   ]
  },
  {
   "cell_type": "code",
   "execution_count": null,
   "metadata": {},
   "outputs": [],
   "source": [
    "next=driver.find_element_by_xpath(\"/html/body/div[1]/div/div[3]/div[1]/div[2]/div[12]/div/div/nav/a[12]\")\n",
    "next.click()"
   ]
  },
  {
   "cell_type": "code",
   "execution_count": null,
   "metadata": {},
   "outputs": [],
   "source": [
    "# extracting  all tags having Brand name\n",
    "brand=driver.find_elements_by_xpath(\"//div[@class='_2WkVRV']\")\n",
    "# using for loop to extracting text\n",
    "brand_name_=[]\n",
    "for i in brand:\n",
    "    brand_name_.append(i.text)\n",
    "brand_name_=brand_name_[0:24]\n",
    "print('\\n Brand Name \\n\\n',brand_name_)"
   ]
  },
  {
   "cell_type": "code",
   "execution_count": null,
   "metadata": {},
   "outputs": [],
   "source": [
    "price=driver.find_elements_by_xpath(\"//div[@class='_30jeq3']\")\n",
    "# using for loop to extracting text\n",
    "price1_=[]\n",
    "for i in price:\n",
    "    price1_.append(i.text)\n",
    "price1_=price1_[0:24]\n",
    "print('\\n Price \\n\\n',price1_)"
   ]
  },
  {
   "cell_type": "code",
   "execution_count": null,
   "metadata": {},
   "outputs": [],
   "source": [
    "discount=driver.find_elements_by_xpath(\"//div[@class='_3Ay6Sb']\")\n",
    "# using for loop to extracting text\n",
    "discount1_=[]\n",
    "for i in discount:\n",
    "    discount1_.append(i.text)\n",
    "discount1_=discount1_[0:24]\n",
    "print('\\n Discount % \\n\\n',discount1_)"
   ]
  },
  {
   "cell_type": "code",
   "execution_count": null,
   "metadata": {},
   "outputs": [],
   "source": [
    "product=driver.find_elements_by_xpath(\"//a[@class='IRpwTa']\")\n",
    "product_descr=[]\n",
    "for i in product:\n",
    "    product_descr.append(i.text)\n",
    "product_descr=product_descr[0:20]\n",
    "print('\\n Product Description  \\n\\n',product_descr)"
   ]
  },
  {
   "cell_type": "code",
   "execution_count": null,
   "metadata": {},
   "outputs": [],
   "source": [
    "print('length of Brand Name: ',len(brand_name_),\n",
    "     '\\nlength of Price: ',len(price1_),\n",
    "      '\\nlength of Discount Percentage: ',len(discount1_),\n",
    "      '\\nlength of Product Description: ',len(product_descr))"
   ]
  },
  {
   "cell_type": "code",
   "execution_count": null,
   "metadata": {},
   "outputs": [],
   "source": [
    "third=pd.DataFrame({'Brand Name':brand_name_,'Product Description':product_descr,'Price':price1_,'Discount %':discount1_})\n",
    "third\n",
    "df=pd.concat([first,second,third],axis=0)\n",
    "df.reset_index()"
   ]
  },
  {
   "cell_type": "markdown",
   "metadata": {},
   "source": [
    "#### adding all pages individual list in one"
   ]
  },
  {
   "cell_type": "code",
   "execution_count": null,
   "metadata": {},
   "outputs": [],
   "source": [
    "bn=brand_name+brand_names+brand_name_\n",
    "p=price_+price__+price1_\n",
    "d=discount_+discount__+discount1_\n",
    "pd=product_des+product_desc+product_descr"
   ]
  },
  {
   "cell_type": "code",
   "execution_count": null,
   "metadata": {},
   "outputs": [],
   "source": [
    "print('length of Brand Name: ',len(bn),\n",
    "     '\\nlength of Price: ',len(p),\n",
    "      '\\nlength of Discount Percentage: ',len(d),\n",
    "      '\\nlength of Product Description: ',len(pd))"
   ]
  },
  {
   "cell_type": "code",
   "execution_count": null,
   "metadata": {},
   "outputs": [],
   "source": [
    "df=pd.DataFrame({'Brand Name':bn,'Product Description'pd:,'Price':p,'Discount %':d})\n",
    "df"
   ]
  },
  {
   "cell_type": "markdown",
   "metadata": {},
   "source": [
    "# "
   ]
  },
  {
   "cell_type": "markdown",
   "metadata": {},
   "source": [
    "## Q7.Scrape 100 reviews data from flipkart.com for iphone11 phone from https://www.flipkart.com/apple-iphone-11-black-64-gb-includes-earpods-power-adapter/p/itm0f37c2240b217?pid=MOBFKCTSVZAXUHGR&lid=LSTMOBFKCTSVZAXUHGREPBFGI&marketplace"
   ]
  },
  {
   "cell_type": "code",
   "execution_count": null,
   "metadata": {},
   "outputs": [],
   "source": [
    "import pandas as pd\n",
    "import selenium\n",
    "from selenium import webdriver"
   ]
  },
  {
   "cell_type": "code",
   "execution_count": null,
   "metadata": {},
   "outputs": [],
   "source": [
    "driver=webdriver.Chrome('chromedriver.exe')\n",
    "driver"
   ]
  },
  {
   "cell_type": "code",
   "execution_count": null,
   "metadata": {},
   "outputs": [],
   "source": [
    "driver.get('https://www.flipkart.com/apple-iphone-11-black-64-gb-includes-earpods-power-adapter/p/itm0f37c2240b217?pid=MOBFKCTSVZAXUHGR&lid=LSTMOBFKCTSVZAXUHGREPBFGI&marketplace')"
   ]
  },
  {
   "cell_type": "code",
   "execution_count": null,
   "metadata": {},
   "outputs": [],
   "source": [
    "allr=driver.find_element_by_xpath(\"//div[@class='_3UAT2v _16PBlm']\")\n",
    "allr.click()"
   ]
  },
  {
   "cell_type": "code",
   "execution_count": null,
   "metadata": {},
   "outputs": [],
   "source": [
    "url=driver.find_elements_by_xpath(\"//div[@class='_2MImiq _1Qnn1K']//a\")\n",
    "url_=[]\n",
    "for i in url:\n",
    "    url_.append(i.get_attribute('href'))\n",
    "url_"
   ]
  },
  {
   "cell_type": "code",
   "execution_count": null,
   "metadata": {},
   "outputs": [],
   "source": [
    "rating=[]\n",
    "for i in url_:\n",
    "    driver.get(i)\n",
    "    rat=driver.find_elements_by_xpath(\"//div[@class='_3LWZlK _1BLPMq']\")\n",
    "    for i in rat:\n",
    "        rating.append(i.text)\n",
    "rating=rating[0:100]\n",
    "print('\\n Rating  \\n\\n',rating)"
   ]
  },
  {
   "cell_type": "code",
   "execution_count": null,
   "metadata": {},
   "outputs": [],
   "source": [
    "review_summary=[]\n",
    "for i in url_:\n",
    "    driver.get(i)\n",
    "    rs=driver.find_elements_by_xpath(\"//p[@class='_2-N8zT']\")\n",
    "    for i in rs:\n",
    "        review_summary.append(i.text)\n",
    "review_summary=review_summary[0:100]\n",
    "print('\\n Review Summary  \\n\\n',review_summary)"
   ]
  },
  {
   "cell_type": "code",
   "execution_count": null,
   "metadata": {},
   "outputs": [],
   "source": [
    "full_review=[]\n",
    "for i in url_:\n",
    "    driver.get(i)\n",
    "    fr=driver.find_elements_by_xpath(\"//div[@class='t-ZTKy']\")\n",
    "    for j in fr:\n",
    "        full_review.append(j.text.replace('\\n',' '))\n",
    "full_review=full_review[0:100]\n",
    "print('\\n Full Review  \\n\\n',full_review)"
   ]
  },
  {
   "cell_type": "code",
   "execution_count": null,
   "metadata": {},
   "outputs": [],
   "source": [
    "print('length of Rating: ',len(rating),\n",
    "     '\\nlength of Review Summary: ',len(review_summary),\n",
    "      '\\nlength of Full Review: ',len(full_review))"
   ]
  },
  {
   "cell_type": "code",
   "execution_count": null,
   "metadata": {},
   "outputs": [],
   "source": [
    "df=pd.DataFrame({'Rating':rating,'Review Summary':review_summary,'Full Review':full_review})\n",
    "df"
   ]
  },
  {
   "cell_type": "markdown",
   "metadata": {},
   "source": [
    "# "
   ]
  },
  {
   "cell_type": "markdown",
   "metadata": {},
   "source": [
    "## Q8.Scrape data for first 100 sneakers you find when you visit flipkart.com and search for “sneakers” in the search field."
   ]
  },
  {
   "cell_type": "code",
   "execution_count": null,
   "metadata": {},
   "outputs": [],
   "source": [
    "import pandas as pd\n",
    "import selenium\n",
    "from selenium import webdriver"
   ]
  },
  {
   "cell_type": "code",
   "execution_count": null,
   "metadata": {},
   "outputs": [],
   "source": [
    "driver=webdriver.Chrome('chromedriver.exe')\n",
    "driver"
   ]
  },
  {
   "cell_type": "code",
   "execution_count": null,
   "metadata": {},
   "outputs": [],
   "source": [
    "driver.get('https://www.flipkart.com/')"
   ]
  },
  {
   "cell_type": "code",
   "execution_count": null,
   "metadata": {},
   "outputs": [],
   "source": [
    "login_box=driver.find_element_by_xpath(\"//button[@class='_2KpZ6l _2doB4z']\")\n",
    "login_box.click()"
   ]
  },
  {
   "cell_type": "code",
   "execution_count": null,
   "metadata": {},
   "outputs": [],
   "source": [
    "enter=driver.find_element_by_name('q')\n",
    "enter.send_keys('sneakers')"
   ]
  },
  {
   "cell_type": "code",
   "execution_count": null,
   "metadata": {},
   "outputs": [],
   "source": [
    "search=driver.find_element_by_xpath(\"//button[@class='L0Z3Pu']\")\n",
    "search.click()"
   ]
  },
  {
   "cell_type": "code",
   "execution_count": null,
   "metadata": {},
   "outputs": [],
   "source": [
    "url=driver.find_elements_by_xpath(\"//div[@class='_2MImiq']//a\")\n",
    "url_=[]\n",
    "for i in url:\n",
    "    url_.append(i.get_attribute('href'))\n",
    "url_=url_[0:10]\n",
    "url_"
   ]
  },
  {
   "cell_type": "code",
   "execution_count": null,
   "metadata": {},
   "outputs": [],
   "source": [
    "brand_name_=[]\n",
    "for i in url_:\n",
    "    driver.get(i)\n",
    "    brand=driver.find_elements_by_xpath(\"//div[@class='_2WkVRV']\")\n",
    "    for i in brand:\n",
    "        brand_name_.append(i.text)\n",
    "brand_name_=brand_name_[0:100]\n",
    "print('\\n Brand Name \\n\\n',brand_name_)"
   ]
  },
  {
   "cell_type": "code",
   "execution_count": null,
   "metadata": {},
   "outputs": [],
   "source": [
    "price1_=[]\n",
    "for i in url_:\n",
    "    driver.get(i)\n",
    "    price=driver.find_elements_by_xpath(\"//div[@class='_30jeq3']\")\n",
    "    for i in price:\n",
    "        price1_.append(i.text)\n",
    "price1_=price1_[0:100]\n",
    "print('\\n Price \\n\\n',price1_)"
   ]
  },
  {
   "cell_type": "code",
   "execution_count": null,
   "metadata": {},
   "outputs": [],
   "source": [
    "discount1_=[]\n",
    "for i in url_:\n",
    "    driver.get(i)\n",
    "    discount=driver.find_elements_by_xpath(\"//div[@class='_3Ay6Sb']\")\n",
    "    # using for loop to extracting text\n",
    "    for i in discount:\n",
    "        discount1_.append(i.text)\n",
    "discount1_=discount1_[0:100]\n",
    "print('\\n Discount % \\n\\n',discount1_)"
   ]
  },
  {
   "cell_type": "code",
   "execution_count": null,
   "metadata": {},
   "outputs": [],
   "source": [
    "product_descr=[]\n",
    "for i in url_:\n",
    "    driver.get(i)\n",
    "    product=driver.find_elements_by_xpath(\"//a[@class='IRpwTa']\")\n",
    "    # using for loop to extracting text\n",
    "    for i in product:\n",
    "        product_descr.append(i.text)\n",
    "product_descr=product_descr[0:100]\n",
    "print('\\n Product Description  \\n\\n',product_descr)"
   ]
  },
  {
   "cell_type": "code",
   "execution_count": null,
   "metadata": {},
   "outputs": [],
   "source": [
    "print('length of Brand Name: ',len(brand_name_),\n",
    "     '\\nlength of Price: ',len(price1_),\n",
    "      '\\nlength of Discount Percentage: ',len(discount1_),\n",
    "      '\\nlength of Product Description: ',len(product_descr))"
   ]
  },
  {
   "cell_type": "code",
   "execution_count": null,
   "metadata": {},
   "outputs": [],
   "source": [
    "df=pd.DataFrame({'Brand Name':brand_name_,'Product Description':product_descr,'Price':price1_,'Discount %':discount1_})\n",
    "df"
   ]
  },
  {
   "cell_type": "markdown",
   "metadata": {},
   "source": [
    "# "
   ]
  },
  {
   "cell_type": "markdown",
   "metadata": {},
   "source": [
    "# 9.Go to the link - https://www.myntra.com/shoes Set Price filter to “Rs. 6649 to Rs. 13099” , Color filter to “Black”"
   ]
  },
  {
   "cell_type": "code",
   "execution_count": null,
   "metadata": {},
   "outputs": [],
   "source": [
    "import pandas \n",
    "import selenium\n",
    "from selenium import webdriver"
   ]
  },
  {
   "cell_type": "code",
   "execution_count": null,
   "metadata": {},
   "outputs": [],
   "source": [
    "driver=webdriver.Chrome('chromedriver.exe')\n",
    "driver"
   ]
  },
  {
   "cell_type": "code",
   "execution_count": null,
   "metadata": {},
   "outputs": [],
   "source": [
    "driver.get('https://www.myntra.com/shoes')"
   ]
  },
  {
   "cell_type": "code",
   "execution_count": null,
   "metadata": {},
   "outputs": [],
   "source": [
    "cf=driver.find_element_by_xpath(\"/html/body/div[2]/div/div[1]/main/div[3]/div[1]/section/div/div[6]/ul/li[1]/label\")\n",
    "cf.click()"
   ]
  },
  {
   "cell_type": "code",
   "execution_count": null,
   "metadata": {},
   "outputs": [],
   "source": [
    "pf=driver.find_element_by_xpath(\"/html/body/div[2]/div/div[1]/main/div[3]/div[1]/section/div/div[5]/ul/li[2]/label/div\")\n",
    "pf.click()"
   ]
  },
  {
   "cell_type": "code",
   "execution_count": null,
   "metadata": {},
   "outputs": [],
   "source": [
    "url=driver.find_elements_by_xpath(\"//div[@class='results-showMoreContainer']//a\")\n",
    "urll=[]\n",
    "for i in url:\n",
    "    urll.append(i.get_attribute('href'))\n",
    "urll=urll[0:5] # reduce to 5 pages\n",
    "urll"
   ]
  },
  {
   "cell_type": "code",
   "execution_count": null,
   "metadata": {},
   "outputs": [],
   "source": [
    "brandd=[]\n",
    "for i in urll:\n",
    "    driver.get(i)\n",
    "    b=driver.find_elements_by_xpath(\"//h3[@class='product-brand']\")\n",
    "    for i in b:\n",
    "        brandd.append(i.text)\n",
    "brandd=brandd[0:100]\n",
    "print('\\n Brand Name  \\n\\n',brandd)"
   ]
  },
  {
   "cell_type": "code",
   "execution_count": null,
   "metadata": {},
   "outputs": [],
   "source": [
    "d=[]\n",
    "for i in urll:\n",
    "    driver.get(i)\n",
    "    pd=driver.find_elements_by_xpath(\"//h4[@class='product-product']\")\n",
    "    for i in pd:\n",
    "        d.append(i.text)\n",
    "d=d[0:100]\n",
    "print('\\n Short Description  \\n\\n',d)"
   ]
  },
  {
   "cell_type": "code",
   "execution_count": null,
   "metadata": {},
   "outputs": [],
   "source": [
    "p=[]\n",
    "for i in urll:\n",
    "    driver.get(i)\n",
    "\n",
    "    pr=driver.find_elements_by_xpath(\"//div[@class='product-price']\")\n",
    "    for i in pr:\n",
    "        p.append(i.text)\n",
    "p=p[0:100]\n",
    "print('\\n Price  \\n\\n',p)"
   ]
  },
  {
   "cell_type": "code",
   "execution_count": null,
   "metadata": {},
   "outputs": [],
   "source": [
    "print('length of Brand Name: ',len(brandd),\n",
    "     '\\nlength of Price: ',len(p),\n",
    "      '\\nlength of Short Description: ',len(d))"
   ]
  },
  {
   "cell_type": "code",
   "execution_count": null,
   "metadata": {},
   "outputs": [],
   "source": [
    "df=pandas.DataFrame({'Brand':brandd,'Price':p,'Short Desc':d})\n",
    "df"
   ]
  },
  {
   "cell_type": "markdown",
   "metadata": {},
   "source": [
    "# "
   ]
  },
  {
   "cell_type": "markdown",
   "metadata": {},
   "source": [
    "# 10.Go to webpage https://www.amazon.in/ Enter “Laptop” in the search field and then click the search icon.Then set CPU Type filter to “Intel Core i7” and “Intel Core i9”"
   ]
  },
  {
   "cell_type": "code",
   "execution_count": null,
   "metadata": {},
   "outputs": [],
   "source": [
    "import pandas \n",
    "import selenium\n",
    "from selenium import webdriver"
   ]
  },
  {
   "cell_type": "code",
   "execution_count": null,
   "metadata": {},
   "outputs": [],
   "source": [
    "driver=webdriver.Chrome('chromedriver.exe')\n",
    "driver"
   ]
  },
  {
   "cell_type": "code",
   "execution_count": null,
   "metadata": {},
   "outputs": [],
   "source": [
    "driver.get('https://www.amazon.in/')"
   ]
  },
  {
   "cell_type": "code",
   "execution_count": null,
   "metadata": {},
   "outputs": [],
   "source": [
    "s=driver.find_element_by_xpath(\"//input[@id='twotabsearchtextbox']\")\n",
    "s.send_keys('Laptop')"
   ]
  },
  {
   "cell_type": "code",
   "execution_count": null,
   "metadata": {},
   "outputs": [],
   "source": [
    "sbc=driver.find_element_by_xpath(\"//input[@id='nav-search-submit-button']\")\n",
    "sbc.click()"
   ]
  },
  {
   "cell_type": "code",
   "execution_count": null,
   "metadata": {},
   "outputs": [],
   "source": [
    "i7=driver.find_element_by_xpath(\"/html/body/div[1]/div[2]/div[1]/div/div[2]/div/div[3]/span/div[1]/span/div/div/div[5]/ul[1]/li[26]/span/a/span\")\n",
    "i7.click()"
   ]
  },
  {
   "cell_type": "code",
   "execution_count": null,
   "metadata": {},
   "outputs": [],
   "source": [
    "i9=driver.find_element_by_xpath(\"/html/body/div[1]/div[2]/div[1]/div/div[2]/div/div[3]/span/div[1]/span/div/div/div[5]/ul[1]/li[28]/span/a/span\")\n",
    "i9.click()"
   ]
  },
  {
   "cell_type": "code",
   "execution_count": null,
   "metadata": {},
   "outputs": [],
   "source": [
    "lt=[]\n",
    "# extracting laptop title\n",
    "lt_=driver.find_elements_by_xpath(\"//h2[@class='a-size-mini a-spacing-none a-color-base s-line-clamp-2']\")\n",
    "for i in lt_:\n",
    "    lt.append(i.text)\n",
    "lt=lt[:-3]\n",
    "print('\\n Laptop Title  \\n\\n',lt)"
   ]
  },
  {
   "cell_type": "code",
   "execution_count": null,
   "metadata": {},
   "outputs": [],
   "source": [
    "# extracting all urls for rating inside page\n",
    "url=driver.find_elements_by_xpath(\"//a[@class='a-link-normal a-text-normal']\")\n",
    "url_=[]\n",
    "for i in url:\n",
    "    url_.append(i.get_attribute('href'))\n",
    "url_\n",
    "# now extracting job desc using extracted urls\n",
    "r_=[]\n",
    "for i in url_:\n",
    "    driver.get(i) # to open the url"
   ]
  },
  {
   "cell_type": "code",
   "execution_count": null,
   "metadata": {},
   "outputs": [],
   "source": [
    "p_=[]\n",
    "# extracting price\n",
    "pr_=driver.find_elements_by_xpath(\"//span[@class='a-price-whole']\")\n",
    "for i in pr_:\n",
    "    p_.append(i.text)\n",
    "p_=p_[:-3]\n",
    "print('\\n Price  \\n\\n',p_)"
   ]
  },
  {
   "cell_type": "code",
   "execution_count": null,
   "metadata": {},
   "outputs": [],
   "source": [
    "# extracting all urls for rating inside page\n",
    "url=driver.find_elements_by_xpath(\"//a[@class='a-link-normal a-text-normal']\")\n",
    "url_=[]\n",
    "for i in url:\n",
    "    url_.append(i.get_attribute('href'))\n",
    "url_"
   ]
  },
  {
   "cell_type": "code",
   "execution_count": null,
   "metadata": {},
   "outputs": [],
   "source": [
    "# now extracting job desc using extracted urls\n",
    "r_=[]\n",
    "for i in url_:\n",
    "    driver.get(i) # to open the url\n",
    "lr=driver.find_elements_by_xpath(\"//div[@class='a-fixed-left-grid-col aok-align-center a-col-right']\")\n",
    "for i in lr:\n",
    "    r_.append(i.text.replace('\\n',' '))\n",
    "print('\\n Full Job Description \\n\\n',r_)"
   ]
  },
  {
   "cell_type": "code",
   "execution_count": null,
   "metadata": {},
   "outputs": [],
   "source": [
    "print('length of Laptop Title: ',len(lt),\n",
    "     '\\nlength of Price: ',len(p_),\n",
    "      '\\nlength of Rating: ',len(r_))"
   ]
  },
  {
   "cell_type": "code",
   "execution_count": null,
   "metadata": {},
   "outputs": [],
   "source": [
    "df=pandas.DataFrame({'Laptop Title':lt,'Price':p_,'Rating':r_})\n",
    "df"
   ]
  },
  {
   "cell_type": "code",
   "execution_count": null,
   "metadata": {},
   "outputs": [],
   "source": []
  }
 ],
 "metadata": {
  "kernelspec": {
   "display_name": "Python 3",
   "language": "python",
   "name": "python3"
  },
  "language_info": {
   "codemirror_mode": {
    "name": "ipython",
    "version": 3
   },
   "file_extension": ".py",
   "mimetype": "text/x-python",
   "name": "python",
   "nbconvert_exporter": "python",
   "pygments_lexer": "ipython3",
   "version": "3.8.5"
  }
 },
 "nbformat": 4,
 "nbformat_minor": 5
}
