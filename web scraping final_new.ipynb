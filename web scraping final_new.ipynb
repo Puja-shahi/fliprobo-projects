{
 "cells": [
  {
   "cell_type": "markdown",
   "metadata": {},
   "source": [
    "## Q1.Program to scrape data for “Data Analyst” Job position in “Bangalore” location from https://www.naukri.com/"
   ]
  },
  {
   "cell_type": "code",
   "execution_count": null,
   "metadata": {},
   "outputs": [],
   "source": [
    "# !pip install selenium"
   ]
  },
  {
   "cell_type": "code",
   "execution_count": 1,
   "metadata": {},
   "outputs": [],
   "source": [
    "import pandas as pd\n",
    "import selenium\n",
    "from selenium import webdriver"
   ]
  },
  {
   "cell_type": "code",
   "execution_count": 2,
   "metadata": {},
   "outputs": [
    {
     "data": {
      "text/plain": [
       "<selenium.webdriver.chrome.webdriver.WebDriver (session=\"6bd2772d68c5a2a39e096b770d444bfe\")>"
      ]
     },
     "execution_count": 2,
     "metadata": {},
     "output_type": "execute_result"
    }
   ],
   "source": [
    "driver=webdriver.Chrome('chromedriver.exe')\n",
    "driver"
   ]
  },
  {
   "cell_type": "code",
   "execution_count": 3,
   "metadata": {},
   "outputs": [],
   "source": [
    "url='https://www.naukri.com/'\n",
    "driver.get(url)"
   ]
  },
  {
   "cell_type": "code",
   "execution_count": 5,
   "metadata": {},
   "outputs": [
    {
     "data": {
      "text/plain": [
       "<selenium.webdriver.remote.webelement.WebElement (session=\"6bd2772d68c5a2a39e096b770d444bfe\", element=\"10290d6c-571a-468f-a3c2-67bf8ba41c18\")>"
      ]
     },
     "execution_count": 5,
     "metadata": {},
     "output_type": "execute_result"
    }
   ],
   "source": [
    "job=driver.find_element_by_xpath(\"//input[@id='qsb-keyword-sugg']\")\n",
    "job"
   ]
  },
  {
   "cell_type": "code",
   "execution_count": 6,
   "metadata": {},
   "outputs": [],
   "source": [
    "job.send_keys('Data Analyst')"
   ]
  },
  {
   "cell_type": "code",
   "execution_count": 7,
   "metadata": {},
   "outputs": [
    {
     "data": {
      "text/plain": [
       "<selenium.webdriver.remote.webelement.WebElement (session=\"6bd2772d68c5a2a39e096b770d444bfe\", element=\"30c56d64-7847-45cd-be85-55ddb7aea20f\")>"
      ]
     },
     "execution_count": 7,
     "metadata": {},
     "output_type": "execute_result"
    }
   ],
   "source": [
    "search_loc=driver.find_element_by_xpath(\"//input[@id='qsb-location-sugg']\")\n",
    "search_loc"
   ]
  },
  {
   "cell_type": "code",
   "execution_count": 8,
   "metadata": {},
   "outputs": [],
   "source": [
    "search_loc.send_keys('Bangalore')"
   ]
  },
  {
   "cell_type": "code",
   "execution_count": 9,
   "metadata": {},
   "outputs": [
    {
     "data": {
      "text/plain": [
       "<selenium.webdriver.remote.webelement.WebElement (session=\"6bd2772d68c5a2a39e096b770d444bfe\", element=\"d0f590f3-19a5-489b-8d16-3b3a5084180b\")>"
      ]
     },
     "execution_count": 9,
     "metadata": {},
     "output_type": "execute_result"
    }
   ],
   "source": [
    "btn=driver.find_element_by_xpath(\"//button[@class='btn']\")\n",
    "btn"
   ]
  },
  {
   "cell_type": "code",
   "execution_count": 10,
   "metadata": {},
   "outputs": [],
   "source": [
    "btn.click()"
   ]
  },
  {
   "cell_type": "code",
   "execution_count": 13,
   "metadata": {},
   "outputs": [
    {
     "name": "stdout",
     "output_type": "stream",
     "text": [
      "\n",
      " Job Title ['Data Scientist / Data Analyst -Business Analyst', 'Data Analyst,1', 'Junior Data Analyst', 'Data Analyst', 'Network Design & Data Analyst', 'Senior Data Analyst', 'Senior Data Analyst', 'Data Analyst', 'Data Analyst', 'Lead Data Analyst', 'Senior Data Analyst Python, ML - Bangalore', 'Data analysts', 'Data Analyst', 'Excel VBA Jobs Bangalore | VBA data analyst Jobs', 'Consultant - Data Analyst', 'Assistant Vice President - MIS & Reporting ( Business Data Analyst)', 'Senior Data Analyst', 'Hot Vacancies - Senior Data Analyst, Bengaluru', 'Data Analyst, 2', 'Lead Data Analyst']\n"
     ]
    }
   ],
   "source": [
    "title=driver.find_elements_by_xpath(\"//a[@class='title fw500 ellipsis']\")\n",
    "title\n",
    "# using for loop to extracting text\n",
    "job_title=[]\n",
    "for i in title:\n",
    "    job_title.append(i.text)\n",
    "print('\\n Job Title',job_title)"
   ]
  },
  {
   "cell_type": "code",
   "execution_count": 14,
   "metadata": {},
   "outputs": [
    {
     "name": "stdout",
     "output_type": "stream",
     "text": [
      "\n",
      " company name \n",
      "\n",
      " ['Inflexion Analytix Private Limited', 'Epsilon', 'Simplilearn', 'Flipkart', 'Dell International Services India Private Limited', 'Aritha Consulting Services Pvt. Ltd.', 'Publicis Groupe', 'Novel Office', 'Harman Connected Services Corporation India Pvt.', 'European Company', '2coms', 'IBM India Pvt. Limited', 'CARNATION INFOTECH PRIVATE LIMITED', 'Mind Circus Innovation', 'Flipkart Internet Private Limited', 'INTERTRUSTVITEOS CORPORATE AND FUND SERVICES PVT. LTD.', 'Harman Connected Services Corporation India Pvt.', 'WSP CONSULTANTS INDIA PRIVATE LIMITED', 'Epsilon', 'Publicis Groupe']\n"
     ]
    }
   ],
   "source": [
    "c_name=driver.find_elements_by_xpath(\"//a[@class='subTitle ellipsis fleft']\")\n",
    "company=[]\n",
    "for i in c_name:\n",
    "    company.append(i.text)\n",
    "print('\\n company name \\n\\n',company)"
   ]
  },
  {
   "cell_type": "code",
   "execution_count": 15,
   "metadata": {},
   "outputs": [
    {
     "name": "stdout",
     "output_type": "stream",
     "text": [
      "\n",
      " Job Location \n",
      "\n",
      " ['Hyderabad/Secunderabad, Chennai, Bangalore/Bengaluru', 'Bangalore/Bengaluru', 'Bangalore/Bengaluru(Sector 2 HSR Layout)\\n(WFH during Covid)', 'Bangalore/Bengaluru', 'Bangalore/Bengaluru', 'Bangalore/Bengaluru', 'Bangalore/Bengaluru', 'Bangalore/Bengaluru', 'Bangalore/Bengaluru', 'Chennai, Bangalore/Bengaluru, Delhi / NCR', 'Bangalore/Bengaluru, Bangalore', 'Bangalore/Bengaluru', 'Lucknow, Bangalore/Bengaluru\\n(WFH during Covid)', 'Coimbatore, Bangalore/Bengaluru, Trivandrum/Thiruvananthapuram', 'Bangalore/Bengaluru', 'Mumbai, Bangalore/Bengaluru', 'Bangalore/Bengaluru', 'Bangalore/Bengaluru', 'Bangalore/Bengaluru', 'Bangalore/Bengaluru']\n"
     ]
    }
   ],
   "source": [
    "loc=driver.find_elements_by_xpath(\"//li[@class='fleft grey-text br2 placeHolderLi location']\") \n",
    "job_loc=[]\n",
    "for i in loc:\n",
    "    job_loc.append(i.text)\n",
    "print('\\n Job Location \\n\\n',job_loc)"
   ]
  },
  {
   "cell_type": "code",
   "execution_count": 16,
   "metadata": {},
   "outputs": [
    {
     "name": "stdout",
     "output_type": "stream",
     "text": [
      "\n",
      " Experience Required ['0-3 Yrs', '0-2 Yrs', '0-2 Yrs', '3-8 Yrs', '0-2 Yrs', '2-4 Yrs', '6-8 Yrs', '0-3 Yrs', '5-7 Yrs', '10-20 Yrs', '2-7 Yrs', '5-10 Yrs', '0-5 Yrs', '0-2 Yrs', '0-2 Yrs', '10-15 Yrs', '2-7 Yrs', '5-10 Yrs', '2-5 Yrs', '8-10 Yrs']\n"
     ]
    }
   ],
   "source": [
    "exp=driver.find_elements_by_xpath(\"//li[@class='fleft grey-text br2 placeHolderLi experience']//span\")\n",
    "exp_req=[]\n",
    "for i in exp:\n",
    "    exp_req.append(i.text)\n",
    "print('\\n Experience Required',exp_req)"
   ]
  },
  {
   "cell_type": "code",
   "execution_count": 17,
   "metadata": {},
   "outputs": [
    {
     "name": "stdout",
     "output_type": "stream",
     "text": [
      "length of Job Title:  20 \n",
      "length of Job Location:  20 \n",
      "length of Company Name:  20 \n",
      "Length of Experience Required:  20\n"
     ]
    }
   ],
   "source": [
    "print('length of Job Title: ',len(job_title),\n",
    "     '\\nlength of Job Location: ',len(job_loc),\n",
    "      '\\nlength of Company Name: ',len(company),\n",
    "      '\\nLength of Experience Required: ',len(exp_req))"
   ]
  },
  {
   "cell_type": "code",
   "execution_count": 18,
   "metadata": {},
   "outputs": [
    {
     "data": {
      "text/html": [
       "<div>\n",
       "<style scoped>\n",
       "    .dataframe tbody tr th:only-of-type {\n",
       "        vertical-align: middle;\n",
       "    }\n",
       "\n",
       "    .dataframe tbody tr th {\n",
       "        vertical-align: top;\n",
       "    }\n",
       "\n",
       "    .dataframe thead th {\n",
       "        text-align: right;\n",
       "    }\n",
       "</style>\n",
       "<table border=\"1\" class=\"dataframe\">\n",
       "  <thead>\n",
       "    <tr style=\"text-align: right;\">\n",
       "      <th></th>\n",
       "      <th>Title</th>\n",
       "      <th>Location</th>\n",
       "      <th>Company Name</th>\n",
       "      <th>Experience Required</th>\n",
       "    </tr>\n",
       "  </thead>\n",
       "  <tbody>\n",
       "    <tr>\n",
       "      <th>0</th>\n",
       "      <td>Data Scientist / Data Analyst -Business Analyst</td>\n",
       "      <td>Hyderabad/Secunderabad, Chennai, Bangalore/Ben...</td>\n",
       "      <td>Inflexion Analytix Private Limited</td>\n",
       "      <td>0-3 Yrs</td>\n",
       "    </tr>\n",
       "    <tr>\n",
       "      <th>1</th>\n",
       "      <td>Data Analyst,1</td>\n",
       "      <td>Bangalore/Bengaluru</td>\n",
       "      <td>Epsilon</td>\n",
       "      <td>0-2 Yrs</td>\n",
       "    </tr>\n",
       "    <tr>\n",
       "      <th>2</th>\n",
       "      <td>Junior Data Analyst</td>\n",
       "      <td>Bangalore/Bengaluru(Sector 2 HSR Layout)\\n(WFH...</td>\n",
       "      <td>Simplilearn</td>\n",
       "      <td>0-2 Yrs</td>\n",
       "    </tr>\n",
       "    <tr>\n",
       "      <th>3</th>\n",
       "      <td>Data Analyst</td>\n",
       "      <td>Bangalore/Bengaluru</td>\n",
       "      <td>Flipkart</td>\n",
       "      <td>3-8 Yrs</td>\n",
       "    </tr>\n",
       "    <tr>\n",
       "      <th>4</th>\n",
       "      <td>Network Design &amp; Data Analyst</td>\n",
       "      <td>Bangalore/Bengaluru</td>\n",
       "      <td>Dell International Services India Private Limited</td>\n",
       "      <td>0-2 Yrs</td>\n",
       "    </tr>\n",
       "    <tr>\n",
       "      <th>5</th>\n",
       "      <td>Senior Data Analyst</td>\n",
       "      <td>Bangalore/Bengaluru</td>\n",
       "      <td>Aritha Consulting Services Pvt. Ltd.</td>\n",
       "      <td>2-4 Yrs</td>\n",
       "    </tr>\n",
       "    <tr>\n",
       "      <th>6</th>\n",
       "      <td>Senior Data Analyst</td>\n",
       "      <td>Bangalore/Bengaluru</td>\n",
       "      <td>Publicis Groupe</td>\n",
       "      <td>6-8 Yrs</td>\n",
       "    </tr>\n",
       "    <tr>\n",
       "      <th>7</th>\n",
       "      <td>Data Analyst</td>\n",
       "      <td>Bangalore/Bengaluru</td>\n",
       "      <td>Novel Office</td>\n",
       "      <td>0-3 Yrs</td>\n",
       "    </tr>\n",
       "    <tr>\n",
       "      <th>8</th>\n",
       "      <td>Data Analyst</td>\n",
       "      <td>Bangalore/Bengaluru</td>\n",
       "      <td>Harman Connected Services Corporation India Pvt.</td>\n",
       "      <td>5-7 Yrs</td>\n",
       "    </tr>\n",
       "    <tr>\n",
       "      <th>9</th>\n",
       "      <td>Lead Data Analyst</td>\n",
       "      <td>Chennai, Bangalore/Bengaluru, Delhi / NCR</td>\n",
       "      <td>European Company</td>\n",
       "      <td>10-20 Yrs</td>\n",
       "    </tr>\n",
       "  </tbody>\n",
       "</table>\n",
       "</div>"
      ],
      "text/plain": [
       "                                             Title  \\\n",
       "0  Data Scientist / Data Analyst -Business Analyst   \n",
       "1                                   Data Analyst,1   \n",
       "2                              Junior Data Analyst   \n",
       "3                                     Data Analyst   \n",
       "4                    Network Design & Data Analyst   \n",
       "5                              Senior Data Analyst   \n",
       "6                              Senior Data Analyst   \n",
       "7                                     Data Analyst   \n",
       "8                                     Data Analyst   \n",
       "9                                Lead Data Analyst   \n",
       "\n",
       "                                            Location  \\\n",
       "0  Hyderabad/Secunderabad, Chennai, Bangalore/Ben...   \n",
       "1                                Bangalore/Bengaluru   \n",
       "2  Bangalore/Bengaluru(Sector 2 HSR Layout)\\n(WFH...   \n",
       "3                                Bangalore/Bengaluru   \n",
       "4                                Bangalore/Bengaluru   \n",
       "5                                Bangalore/Bengaluru   \n",
       "6                                Bangalore/Bengaluru   \n",
       "7                                Bangalore/Bengaluru   \n",
       "8                                Bangalore/Bengaluru   \n",
       "9          Chennai, Bangalore/Bengaluru, Delhi / NCR   \n",
       "\n",
       "                                        Company Name Experience Required  \n",
       "0                 Inflexion Analytix Private Limited             0-3 Yrs  \n",
       "1                                            Epsilon             0-2 Yrs  \n",
       "2                                        Simplilearn             0-2 Yrs  \n",
       "3                                           Flipkart             3-8 Yrs  \n",
       "4  Dell International Services India Private Limited             0-2 Yrs  \n",
       "5               Aritha Consulting Services Pvt. Ltd.             2-4 Yrs  \n",
       "6                                    Publicis Groupe             6-8 Yrs  \n",
       "7                                       Novel Office             0-3 Yrs  \n",
       "8   Harman Connected Services Corporation India Pvt.             5-7 Yrs  \n",
       "9                                   European Company           10-20 Yrs  "
      ]
     },
     "execution_count": 18,
     "metadata": {},
     "output_type": "execute_result"
    }
   ],
   "source": [
    "data=pd.DataFrame({'Title':job_title,'Location':job_loc,'Company Name':company,'Experience Required':exp_req})\n",
    "data.iloc[0:10,]"
   ]
  },
  {
   "cell_type": "markdown",
   "metadata": {},
   "source": [
    "# "
   ]
  },
  {
   "cell_type": "markdown",
   "metadata": {},
   "source": [
    "## Q2 Program to scrape data for “Data Scientist” Job position in “Bangalore” location from https://www.naukri.com/"
   ]
  },
  {
   "cell_type": "code",
   "execution_count": 19,
   "metadata": {},
   "outputs": [],
   "source": [
    "import pandas as pd\n",
    "import selenium\n",
    "from selenium import webdriver"
   ]
  },
  {
   "cell_type": "code",
   "execution_count": 20,
   "metadata": {},
   "outputs": [
    {
     "data": {
      "text/plain": [
       "<selenium.webdriver.chrome.webdriver.WebDriver (session=\"569b22908ba35ec53b6c918132c2d0e6\")>"
      ]
     },
     "execution_count": 20,
     "metadata": {},
     "output_type": "execute_result"
    }
   ],
   "source": [
    "driver=webdriver.Chrome('chromedriver.exe')\n",
    "driver"
   ]
  },
  {
   "cell_type": "code",
   "execution_count": 21,
   "metadata": {},
   "outputs": [],
   "source": [
    "url='https://www.naukri.com/'\n",
    "driver.get(url)"
   ]
  },
  {
   "cell_type": "code",
   "execution_count": 22,
   "metadata": {},
   "outputs": [],
   "source": [
    "job_path=driver.find_element_by_id('qsb-keyword-sugg')\n",
    "job_path.send_keys('Data Scientist')"
   ]
  },
  {
   "cell_type": "code",
   "execution_count": 23,
   "metadata": {},
   "outputs": [],
   "source": [
    "loc_path=driver.find_element_by_id('qsb-location-sugg')\n",
    "loc_path.send_keys('Bangalore')"
   ]
  },
  {
   "cell_type": "code",
   "execution_count": 27,
   "metadata": {},
   "outputs": [
    {
     "name": "stdout",
     "output_type": "stream",
     "text": [
      "\n",
      " Job Title\n",
      " ['Ignitarium is hiring For Senior Data Scientist, Bangalore / Kochi', 'Data Scientist / Data Analyst -Business Analyst', 'Data Scientist', 'Senior Data Scientist For advisory/ teaching/ projects role Remote', 'Sr. Data Scientist', 'Sr . Data Scientist', 'Senior Data Scientist', 'Lead Data Scientist', 'Data Scientist', 'NielsenIQ Applied Data Scientist (Azure/Python/Spark)']\n"
     ]
    }
   ],
   "source": [
    "titles=driver.find_elements_by_xpath(\"//a[@class='title fw500 ellipsis']\")\n",
    "titles\n",
    "\n",
    "job_titles=[]\n",
    "for i in titles:\n",
    "    job_titles.append(i.text)\n",
    "job_titles=job_titles[0:10]\n",
    "print('\\n Job Title\\n',job_titles)"
   ]
  },
  {
   "cell_type": "code",
   "execution_count": 28,
   "metadata": {},
   "outputs": [
    {
     "name": "stdout",
     "output_type": "stream",
     "text": [
      "\n",
      " Job Location \n",
      "\n",
      " ['Kochi/Cochin, Ernakulam, Bangalore/Bengaluru', 'Hyderabad/Secunderabad, Chennai, Bangalore/Bengaluru', 'Bangalore/Bengaluru', 'Hyderabad/Secunderabad, Chennai, Bangalore/Bengaluru', 'Bangalore/Bengaluru', 'Bangalore/Bengaluru', 'Bangalore/Bengaluru', 'Bangalore/Bengaluru', 'Bangalore/Bengaluru', 'Bangalore/Bengaluru']\n"
     ]
    }
   ],
   "source": [
    "loc_=driver.find_elements_by_xpath(\"//li[@class='fleft grey-text br2 placeHolderLi location']//span\")\n",
    "job_loc_=[]\n",
    "for i in loc_:\n",
    "    job_loc_.append(i.text)\n",
    "job_loc_=job_loc_[0:10]\n",
    "print('\\n Job Location \\n\\n',job_loc_)"
   ]
  },
  {
   "cell_type": "code",
   "execution_count": 29,
   "metadata": {},
   "outputs": [
    {
     "name": "stdout",
     "output_type": "stream",
     "text": [
      "\n",
      " company name \n",
      " ['Ignitarium Technology Solutions Private Limited', 'Inflexion Analytix Private Limited', 'Flipkart Internet Private Limited', 'Shikvix LLC', 'Neustar MarketShare', 'Target Corporation India Pvt Ltd', 'Flipkart Internet Private Limited', 'bd', 'Cardinal Drugs Ltd.', 'NielsenIQ']\n"
     ]
    }
   ],
   "source": [
    "c_names=driver.find_elements_by_xpath(\"//a[@class='subTitle ellipsis fleft']\")\n",
    "com_names=[]\n",
    "for i in c_names:\n",
    "    com_names.append(i.text)\n",
    "com_names=com_names[0:10]\n",
    "print('\\n company name \\n',com_names)"
   ]
  },
  {
   "cell_type": "code",
   "execution_count": 30,
   "metadata": {},
   "outputs": [
    {
     "data": {
      "text/plain": [
       "['https://www.naukri.com/job-listings-ignitarium-is-hiring-for-senior-data-scientist-bangalore-kochi-ignitarium-technology-solutions-private-limited-kochi-cochin-ernakulam-bangalore-bengaluru-2-to-6-years-140721005105?src=jobsearchDesk&sid=16263403996477913&xp=1&px=1',\n",
       " 'https://www.naukri.com/job-listings-data-scientist-data-analyst-business-analyst-inflexion-analytix-private-limited-hyderabad-secunderabad-chennai-bangalore-bengaluru-0-to-3-years-020721003625?src=jobsearchDesk&sid=16263403996477913&xp=2&px=1',\n",
       " 'https://www.naukri.com/job-listings-data-scientist-flipkart-internet-private-limited-bangalore-bengaluru-0-to-5-years-080721904425?src=jobsearchDesk&sid=16263403996477913&xp=3&px=1',\n",
       " 'https://www.naukri.com/job-listings-senior-data-scientist-for-advisory-teaching-projects-role-remote-shikvix-llc-hyderabad-secunderabad-chennai-bangalore-bengaluru-3-to-8-years-130721002852?src=jobsearchDesk&sid=16263403996477913&xp=4&px=1',\n",
       " 'https://www.naukri.com/job-listings-sr-data-scientist-neustar-marketshare-bangalore-bengaluru-2-to-5-years-130721500641?src=jobsearchDesk&sid=16263403996477913&xp=5&px=1',\n",
       " 'https://www.naukri.com/job-listings-sr-data-scientist-target-corporation-india-pvt-ltd-bangalore-bengaluru-5-to-8-years-130721500976?src=jobsearchDesk&sid=16263403996477913&xp=6&px=1',\n",
       " 'https://www.naukri.com/job-listings-senior-data-scientist-flipkart-internet-private-limited-bangalore-bengaluru-5-to-10-years-090721908235?src=jobsearchDesk&sid=16263403996477913&xp=7&px=1',\n",
       " 'https://www.naukri.com/job-listings-lead-data-scientist-bd-bangalore-bengaluru-2-to-7-years-090721501722?src=jobsearchDesk&sid=16263403996477913&xp=8&px=1',\n",
       " 'https://www.naukri.com/job-listings-data-scientist-cardinal-drugs-ltd-bangalore-bengaluru-7-to-12-years-140721501686?src=jobsearchDesk&sid=16263403996477913&xp=9&px=1',\n",
       " 'https://www.naukri.com/job-listings-nielseniq-applied-data-scientist-azure-python-spark-nielseniq-bangalore-bengaluru-5-to-10-years-130721500959?src=jobsearchDesk&sid=16263403996477913&xp=10&px=1',\n",
       " 'https://www.naukri.com/job-listings-data-scientist-nhancenow-bangalore-bengaluru-5-to-7-years-130721500387?src=jobsearchDesk&sid=16263403996477913&xp=11&px=1',\n",
       " 'https://www.naukri.com/job-listings-data-scientist-neustar-marketshare-bangalore-bengaluru-2-to-5-years-130721500640?src=jobsearchDesk&sid=16263403996477913&xp=12&px=1',\n",
       " 'https://www.naukri.com/job-listings-data-scientist-fujitsu-consulting-india-pvt-ltd-noida-hyderabad-secunderabad-pune-chennai-bangalore-bengaluru-4-to-9-years-140721004007?src=jobsearchDesk&sid=16263403996477913&xp=13&px=1',\n",
       " 'https://www.naukri.com/job-listings-senior-data-scientist-bigshyft-hiring-for-bidgely-bangalore-bengaluru-3-to-7-years-140721900649?src=jobsearchDesk&sid=16263403996477913&xp=14&px=1',\n",
       " 'https://www.naukri.com/job-listings-data-scientist-oracle-india-pvt-ltd-noida-bangalore-bengaluru-5-to-9-years-010621004567?src=jobsearchDesk&sid=16263403996477913&xp=15&px=1',\n",
       " 'https://www.naukri.com/job-listings-data-scientist-ibm-india-pvt-limited-bangalore-bengaluru-3-to-6-years-080721906014?src=jobsearchDesk&sid=16263403996477913&xp=16&px=1',\n",
       " 'https://www.naukri.com/job-listings-data-scientist-advanced-analytics-ibm-india-pvt-limited-bangalore-bengaluru-5-to-10-years-090721906161?src=jobsearchDesk&sid=16263403996477913&xp=17&px=1']"
      ]
     },
     "execution_count": 30,
     "metadata": {},
     "output_type": "execute_result"
    }
   ],
   "source": [
    "url=driver.find_elements_by_xpath(\"//a[@class='title fw500 ellipsis']\")\n",
    "job_opening_url=[]\n",
    "for i in url:\n",
    "    job_opening_url.append(i.get_attribute('href'))\n",
    "job_opening_url=job_opening_url[0:17]\n",
    "job_opening_url\n"
   ]
  },
  {
   "cell_type": "code",
   "execution_count": 31,
   "metadata": {},
   "outputs": [
    {
     "name": "stdout",
     "output_type": "stream",
     "text": [
      "\n",
      " Full Job Description \n",
      "\n",
      " ['Senior Data Scientist  Please find the JD below: Data Engineering experience using Python. Experience in NumPy, Scikit-learn, Scipy, Pandas etc. Hand on experience in classification, regression, clustering, machine learning algorithms. Working experience with any of the object-oriented/object function scripting languages: Python, Java, Scala, Shell, .NET scripting. Experience in any of the cloud platforms like AWS, Azure, GCP  Let me know your interest. Please mail your profile to arathy.rajkumar@ignitarium.com', \"Job description  Job Role: Data Scientist/Data Analyst /Business Analyst  Location: Chennai/Bangalore/Hyderabad  Greetings from CAIA - Center for Artificial Intelligence & Advanced Analytics 43% of companies experienced a high deficit of skilled resources with Advanced Analytical skills and AI implementing capabilities in the year 2020. CAIA gives you a great opportunity to enter the world of future technologies and Innovations- Data Science, Analytics, AI, Data Visualization, and Cloud Computing.  While 2020 was a year like no other, we are living in an interesting times where data is reshaping the world, and businesses are rapidly adopting technology to gain an edge over others. Hence, there's a substantial increase in demand for technology professionals who can implement systems in data science, machine learning, and AI in Tier 1 and Tier 2 organizations working closely with us.  To help you build a sustainable career we would like you to utilize data, software and Analytical approaches in Data Science and AI to upskill and get recruited into an organization appreciating your skilling journey. Applications invited from all Freshers and experienced candidates (0-3 yrs) aspiring to make a career in Artificial Intelligence and Advanced Analytics and Data Science. If you wish to make a shift in your career or undergo a career transition, upskilling is essential since it allows you to learn more about the domain and acquire the required skills.  Call to schedule interview Monday -Saturday from 10:00 am to 7 Pm  Koodesh B- +91 73395 11107 Manigandan B - +91 93444 57360  Email :  careerguidance.koodes@centerforaia.com manigandan@centerforaia.com  What is needed from you? Freshers who wish to start their career in Analytics and AI and professionals who wish to upskill or change their domain to analytics and emerging technologies are free to apply. Educational background in any one of the following- BE/B.Tech, ME/M Tech, MSc, BSc/MSc Math's and Statistics, B Com, BCA, BSc CS, BSC IT, MSC IT, MCA Skills relating to Mathematics/Statistics. Natural passion towards numbers, business, coding, Analytics, and Artificial Intelligence, Machine Learning, visualization Good verbal and written communication skills Ability to understand domains in businesses across various sectors  Selection procedure includes Aptitude Test & Communication Exam - Online / Offline SQL/Python test - Online / Offline Candidates who clear the above will have one-one discussions with our Career Guidance Manager for further evaluation and processing of your Resume.  All the Shortlisted candidates will be eligible to continue the corporate training with CAIA What you can expect from us?  You will get trained on the following modules for a period of 12-14 weeks: SQL & PLSQL Data Wrangling using Python Data Visualization Using Power-BI Statistics for Machine Learning Artificial Intelligence, Data Interpretation Supervised & Unsupervised Learning, NLP & Deep Learning Cloud Data Lake Business intelligence & Data Visualization Simulation Projects Expected Outcome?  At the end of the Training you are expected to be well versed with the following: Analysis of large and complex data sets from multiple sources Development and evaluation of data analytics models, algorithms, and solutions Understanding/implementation of ML algorithms, performance tuning, and reporting Implementation of algorithms to mine targeted data and the ability to convert data into a business story Translation of business requirements into technical requirements; Data extraction, preparation, and transformation Identification, development, and implementation of statistical techniques and algorithms that address business challenges and adds value to the organization Requirement Analysis and communication of findings in the form of a meaningful story with the stakeholders Finding analytical solutions to abstract business issues. Apply objective analysis of facts before coming to a conclusion\", 'About the team The Data Sciences team at Flipkart is on a mission to build systemic intelligence across Flipkart products and the overarching ecosystem. Being India’s largest online marketplace and the most used e-commerce app in India, places Flipkart in a unique position and gives this team a distinctive opportunity — to decipher the richest possible data about Indian consumers. Add the dimension of a vast product selection and a proliferating seller base to that and what you get is a multitude of disruptive possibilities. In a nutshell, the terabytes of daily data compounded in Flipkart’s data centres offer a dynamic mix of numerical, structured, unstructured, image- and audio-based statistics, all set to define shopping in the future. At Flipkart, the work of a Data Scientist involves collaboration with the engineering and product teams to ensure a holistic outcome at the product delivery. The flat functional structure within Flipkart engineering enables data scientists to focus on excellence and create a deep sense of ownership at every stage of work. If you aspire to redefine ‘state-of-the-art’ and create an impact on India’s online shopping landscape, Flipkart’s Data Science team can offer you the right podium to solve challenging real-world problems and take a giant leap in your career as a Data Scientist. About the role A Data Scientist in Flipkart is required to develop and implement ML or statistical models for the various projects formulated from business and product views. The responsible person should be able to communicate and collaborate with multiple stakeholders representing various teams to better understand the problem at hand. At a fundamental level, the responsible person should be able to dive deep into a problem statement and extract interesting insights as well as solutions. In addition to being a quick learner, a DS is expected to get involved in active research projects with a view to publish them. What you’ll do Understand Business and product needs and use ML or statistical techniques to provide solutions to those in a time bound fashion. Communicate and collaborate with business and product teams to have a better understanding of the project so as to be able to drive it within the DS team. Get involved in in-depth exploration of solutions using various methods and extract statistical insights from data as well as models, which are to be shared with business and product teams. Active participation in working with new methods and learning new technologies, both in the area of data science and data engineering. What you’ll need: B.Tech or M.Tech in CS or Statistics with experience ranging from 0 to 5 years through publications/deployed solutions/projects. Deep understanding of the algorithms (theory and application) that they have worked on. Good grasp on the theory and practise of basic statistical models such as regression or clustering and general ML algorithms such as tree, Random Forests, SVM, Boosting, Neural Networks etc. It is not expected that the candidate has actually worked on all these modules. Strong proficiency in Python or R is necessary. Skills Required : Understanding of text representation techniques Desirable Skills : Familiarity with Big Data frameworks – Spark, Hadoop', \"Seeking senior data scientists for part-time roles that involve advising or teaching or working on various projects.  The candidate must have experience in Python coding language and machine learning. The candidate will be working on a part-time basis and hours will be flexible based on the candidate's availability.  Opportunity to grow in a startup setting.  What you'll need: B.Tech in CS or Statistics with demonstrable experience of over 5 years through publications/deployed solutions/projects. M.Tech or Ph.D. in CS or Statistics with demonstrable experience of over 3 years through publications/deployed solutions/projects. A deep understanding of applied statistical analysis and predictive modeling is desired. The candidate must have a thorough grasp of the theory and application of broad ML algorithms namely, but not limited to regression, SVM, Tree, Random Forests, Boosting, Neural Network, clustering, forecasting, deep learning, text analysis, etc. It is not expected that the candidate has actually worked on all these modules. Strong proficiency in Python or R is necessary  Please Note: One of our primary contact methods is the WhatsApp messenger service. Please make sure your primary contact on the Naukri profile is also your WhatsApp contact information. If you are unable to make that change please email us your resume and WhatsApp contact information at hiring@shikvix.com. Thank you!\", 'Responsibilities: Algorithm Development: Develop a deep understanding of all the data relevant to the problem to be addressed. Establish deterministic and probabilistic linkages between data sources and develop ways to extract and summarize the sought information in the data using a wide variety of statistical, data mining and machine learning techniques. Prototyping: Create prototypes of models and algorithms to perform the analysis at scale, provide documentation and help educate your colleagues in different function about the solution. Support Implementation: Closely work with product, engineering and client teams to incorporate Data Science capabilities into Neustar s products and services. Experience and Qualifications: Sr. Data Scientist A PhD in an analytical field such as computer science, machine learning, data science, statistics, physics and/or engineering, or a Master s degree in a related field with minimum 3 to 5 years of experience. Experience in Privacy, Ad fraud, Risk is good to have/will be preferred. Minimum 5 years of experience with Python, Scala and SQL, and one or more enterprise level programming languages such as Java or Scala. Minimum 2 years of hands-on experience with Linux-based cloud systems such as AWS and GCP. Minimum 2 years of experience with wrangling large (terabytes) event level datasets. Academic or industrial experience in privacy-preserving analytics on large datasets preferred. Some experience writing code for highly distributed systems such as Apache Spark,SCALA and Hive. Several years of experience engineering features for machine learning models from raw data. Background in applying optimization theory to real-world problems. Ability to modify cost functions in machine learning algorithms based on business problems. Some experience with JAX, TensorFlow or PyTorch . Excellent oral and communication skills. Ability and experience working in a cross-functional environment.', 'A role with the Target Data Science and Analytics team means building scalable data science products in support of the ever-changing supply chain landscape. This will mean being more intelligent, automated and algorithmic in our decision-making. Evaluating product flow from vendor to distribution center and to the stores across the first mile, middle mile and last mile, with focus on inventory modeling and replenishment, to improve operating efficiencies both within 4 walls of distribution center and across the network. So, we are looking for exceptional people who are proactive, creative, independent, innovative and comfortable working in varying degrees of ambiguity. Are you a creative problem-solver who seeks root cause, simplifies problems, quickly identifies solutions, commits to a plan and then positively influences others to execute itIf so, you will have success on this dynamic team. Primary responsibilities Develop a strong understanding of Target supply chain and logistics data and work on analytical projects supporting first, middle and last mile delivery. The role involves working closely with clients and internal teams to deliver high quality, end-to-end analytical solutions that create strong business impact. Work hands on and actively partner across the team defining business problem, data discovery to insights/predictions Understand the business problem, identify the key challenges, formalize the problem algorithmically, and prototype solutions Anticipate and Evaluate impact of analytical solutions on related projects as part of the developing complex analytical algorithm/solutions for various business problems Work with data engineers on data quality assessment, data cleansing and data analytics. Perform exploratory and targeted data analyses using descriptive statistics and other methods Ability to develop and deploy scalable and reproducible analytical models for answering variety of business problems Build self-service tools for error detection, diagnosis and predictive metrics. Work on developing optimization / statistical / Discrete event simulation models to answer problems for replenishment, inventory positioning/planning, product flow etc Ability to test and analyze the prototype results on Target data, actively engage with business partners to identify improvement areas and implement enhancements based on statistical analysis and business logic Generate analyses, annotated code, and other project artefacts to document, archive, and communicate work and outcomes. Qualifications Master s degree in Quantitative disciplines (Science, Technology, Engineering, Mathematics) or equivalent experience from a reputed tier 1 education institutes like IITs, ISI, IISc etc. 5-8 years of relevant experience Good Knowledge and experience developing optimization, simulation and statistical models, Strong analytical thinking skills. Ability to creatively solve business problems, innovating new approaches where required.  Background in supply chain will be preferable but not mandatory Strong hands on programming skills in Python, SQL, Hadoop/Hive. Additional knowledge of Spark, Scala, R, Java desired but not mandatory  Good working Knowledge of Mathematical and statistical concepts, MILP, algorithms and computational complexity, data analysis, data mining, forecasting/predictive modeling, simulations, visualizations, machine learning, etc. Passion for solving interesting and relevant real-world problems using Data science approach Experience in implementing advanced statistical techniques like regression, clustering, PCA, forecasting (time series) etc.  Able to produce reasonable documents/narrative suggesting actionable insights Excellent communication skills Self-driven and results oriented. Willing to stretch to meet tight timelines. Strong team player with ability to collaborate effectively across geographies/ time zones', 'About the role A Senior Data Scientist in Flipkart is required to drive research and development of various Machine Learning and Statistical modules, keeping business goals and product planning at the front. The responsible person should be able to communicate and collaborate with multiple stakeholders representing various teams. The crux of the work is defined by developing innovative problem statements as well as end to end implementation of state of the art ML and statistical algorithms. The candidate is additionally expected to work proactively with a team of junior Data Scientists and guide them in various research projects with a view to publish their findings. What you’ll do Understand Business and product needs and use advanced modeling techniques to provide solutions to those in a time bound fashion. Develop research and hypothesis on problem statements around on-going work to provide additional value to the organisation. Keep the team updated on current trends in the area of ML and Statistics, thereby ensuring that state of the art solutions are provided for the business problems. Regular collaboration with various stakeholders from business or product to better understand the vision and gain insights which is to be leveraged for providing better solutions.  What you’ll need: B.Tech in CS or Statistics with demonstrable experience of over 8 years through publications/deployed solutions/projects. M.Tech or PhD in CS or Statistics with demonstrable experience of over 5 years through publications/deployed solutions/projects. A deep understanding of applied statistical analysis and predictive modeling is desired. The candidate must have a thorough grasp of the theory and application of broad ML algorithms namely, but not limited to regression, SVM, Tree, Random Forests, Boosting, Neural Network, clustering, forecasting, deep learning, text analysis etc. It is not expected that the candidate has actually worked on all these modules. Strong proficiency in Python or R is necessary', 'Evaluating business requirements and developing compelling user stories in collaboration with business stakeholders across various functions and regions Collecting, interpreting, preparing and modelling data to provide actionable insights Prototyping advanced data analytics solutions for presentation to business partners and stakeholders Applying predictive analytics and machine learning methods and techniques appropriately to address business requirements Provide expertise to guide business stakeholders in identifying opportunities for the use of BD s data assets for the purpose of advanced data analytics Work closely with data engineering and DataOps peers to productionalize advanced data analytics use cases Qualifications Master s degree in STEM field or equivalent demonstrated work experience Experience with Python, R, Hadoop, HIVE, SPARK, Jupyter and related advanced analytics / machine learning libraries (Scikitlearn, Tensorflow, Keras, ) Minimum 2 years of relevant work experience Ability to translate complex solutions to a non-technical audience (storytelling visualization) Expertise in machine learning, neural networks, clustering, classification, regression and other common advanced analytics methods and techniques Mature competency for critical thinking, problem solving, working with ambiguity, communications and collaboration Preferred Experience with technologies related to data preparation, processing optimization (e.g. Azure, HQL, SPARK SQL) Experience with data visualization tools (Power BI) Flexibility to accommodate meetings with international stakeholders in their respective time-zone', 'Job Overview Create and deliver business value at Cardinal Health by influencing and leading the charge of the machine leaning domain across business and IT. Design and develop machine learning and deep learning solutions to maximize business value and effectiveness. Responsibilities Research, evaluate, and implement artificial intelligence algorithms. Ensure projects are delivered in-line with reference architecture, road map and to the defined standards and best practices. Troubleshoot technical issues within ML platforms. Diagnose business needs, analyze business processes, data flows, IT / technical artifacts and extract understanding of how the system or business process works as input for model development. Identify high-value ML business opportunities and work with Business and IT stakeholders to realize business benefit. Use deep subject matter/ functional expertise, influence and process skills to help internal/external customers and stakeholders identify and meet their high priority needs while considering cultural and diversity implications. Work across diverse teams, perspectives and opinions and quickly build consensus. Encourage informed risk-taking and act as a catalyst for innovation at Cardinal Health Proactively develop, maintain and evangelize technical knowledge in Machine Learning and adjacent technologies. Core Capabilities: Possess deep functional and technical understanding of the Machine Learning technologies (Google s Cloud Platform, custom and COTS-embedded) and leverage it across Cardinal Health s large, complex and diverse landscape. Business acumen (strong understanding of how business operates, and how to harness data and analytics to meet business needs) Ability to develop and deploy advanced analytical models and algorithms that drive profitable growth, predictable patterns and areas of opportunity. Maintain a solid understanding of up and downstream impacts implementing solutions using ML technologies. Engage early in project efforts in order to analyze current solutions, provide solution options and recommendations, understand business process impact, provide accurate estimates. Aide adoption of ML solutions within the business by conducting training, coordinating demos. Establish development and delivery best practices in order for ML implementations to minimize rework and maintenance cost. Build ML architectures that work at Cardinal Health scale. Qualifications Required: 7+ years in the distribution or Healthcare industry and deep knowledge of their business practices. 3+ years of proven Machine Learning experience and involvement in packaged platform delivery and management. Strong working knowledge of a variety of machine learning techniques (Regression, Clustering, Decision Tree, Probability Networks, Neural Networks, Bayesian models etc.) Experience with Machine Learning and related technologies such as Python, Tensorflow, Torch, Amazon SageMaker, Jupiter Notebooks. Understanding of cloud data engineering and integration concepts. Preferred: Delivery experience with Google Cloud Platform. Delivery of related information software solutions such as data warehouses and integration platforms. Agile development skills and experience.', 'We re looking for a passionate and talented Sr Data Engineer to join our growing team. In this role, you ll have the chance to be part of a global analytic team of data scientists and data engineers that are focused on designing and implementing analytic products in a Microsoft Azure environment using Python, Spark and cloud based technologies. Responsibilities Design, develop and optimize data pipelines to support analytics products - using AzureML, PySpark and other Python libraries. Work with data scientists to optimise and scale statistical analysis and model implementations. Collaborate with product owners, data scientists, and operations personnel to clarify requirements and objectives. Create and implement QC testing routines and production monitoring processes. Provide level 2 support for analytics products. Investigate and implement new software components and techniques as needed. Become familiar with NielsenIQ data assets Coach and mentor junior data engineers on the team About you You ve worked with large datasets, complex schemas, and have an emphasis on automation. Ideally you are someone who has a strong interest in implementing data models and data pipelines to build scalable products. Qualifications: Degree in computer science or related discipline and 5+ years of experience in big data processing. Working knowledge of Python, SQL, and ETL Solid knowledge of SQL databases and development experience, SQL performance monitoring and optimization techniques Familiarity with the Hadoop ecosystem A minimum of a year of professional Apache Spark data processing application design and development experience, PySpark preferred, but Java/Scala are also acceptable. Experience using Pandas, NumPy and Spark ML is desirable Experience using collaborative development tools such as Git Experience working in a unix/linux environment Experience in working on distributed or cloud computing platforms such as Microsoft Azure Experience with Airflow or equivalent orchestration tool is desirable Experience implementing machine learning (statistical modelling) models Working using agile methodology (Scrum) is desired Familiarity with Azure Storage (ADLS Gen2), Azure Databricks, MLFlow, Presto (Trino) and Snowflake is a plus Certifications are preferred: Data Engineering on Microsoft Azure, Databricks Certified Associate Developer']\n"
     ]
    }
   ],
   "source": [
    "job_des=[]\n",
    "for i in job_opening_url:\n",
    "    driver.get(i)\n",
    "    des=driver.find_elements_by_xpath(\"//div[@class='dang-inner-html']\")\n",
    "    for i in des:\n",
    "        job_des.append(i.text.replace('\\n',' '))\n",
    "job_des=job_des[0:10]\n",
    "print('\\n Full Job Description \\n\\n',job_des)"
   ]
  },
  {
   "cell_type": "code",
   "execution_count": 32,
   "metadata": {},
   "outputs": [
    {
     "name": "stdout",
     "output_type": "stream",
     "text": [
      "length of Job Title:  10 \n",
      "length of Job Location:  10 \n",
      "length of Company Name:  10 \n",
      "Length of Full Job Description:  10\n"
     ]
    }
   ],
   "source": [
    "print('length of Job Title: ',len(job_titles),\n",
    "     '\\nlength of Job Location: ',len(job_loc_),\n",
    "      '\\nlength of Company Name: ',len(com_names),\n",
    "      '\\nLength of Full Job Description: ',len(job_des))"
   ]
  },
  {
   "cell_type": "code",
   "execution_count": 33,
   "metadata": {},
   "outputs": [
    {
     "data": {
      "text/html": [
       "<div>\n",
       "<style scoped>\n",
       "    .dataframe tbody tr th:only-of-type {\n",
       "        vertical-align: middle;\n",
       "    }\n",
       "\n",
       "    .dataframe tbody tr th {\n",
       "        vertical-align: top;\n",
       "    }\n",
       "\n",
       "    .dataframe thead th {\n",
       "        text-align: right;\n",
       "    }\n",
       "</style>\n",
       "<table border=\"1\" class=\"dataframe\">\n",
       "  <thead>\n",
       "    <tr style=\"text-align: right;\">\n",
       "      <th></th>\n",
       "      <th>Title</th>\n",
       "      <th>Location</th>\n",
       "      <th>Company Name</th>\n",
       "      <th>Job Description</th>\n",
       "    </tr>\n",
       "  </thead>\n",
       "  <tbody>\n",
       "    <tr>\n",
       "      <th>0</th>\n",
       "      <td>Ignitarium is hiring For Senior Data Scientist...</td>\n",
       "      <td>Kochi/Cochin, Ernakulam, Bangalore/Bengaluru</td>\n",
       "      <td>Ignitarium Technology Solutions Private Limited</td>\n",
       "      <td>Senior Data Scientist  Please find the JD belo...</td>\n",
       "    </tr>\n",
       "    <tr>\n",
       "      <th>1</th>\n",
       "      <td>Data Scientist / Data Analyst -Business Analyst</td>\n",
       "      <td>Hyderabad/Secunderabad, Chennai, Bangalore/Ben...</td>\n",
       "      <td>Inflexion Analytix Private Limited</td>\n",
       "      <td>Job description  Job Role: Data Scientist/Data...</td>\n",
       "    </tr>\n",
       "    <tr>\n",
       "      <th>2</th>\n",
       "      <td>Data Scientist</td>\n",
       "      <td>Bangalore/Bengaluru</td>\n",
       "      <td>Flipkart Internet Private Limited</td>\n",
       "      <td>About the team The Data Sciences team at Flipk...</td>\n",
       "    </tr>\n",
       "    <tr>\n",
       "      <th>3</th>\n",
       "      <td>Senior Data Scientist For advisory/ teaching/ ...</td>\n",
       "      <td>Hyderabad/Secunderabad, Chennai, Bangalore/Ben...</td>\n",
       "      <td>Shikvix LLC</td>\n",
       "      <td>Seeking senior data scientists for part-time r...</td>\n",
       "    </tr>\n",
       "    <tr>\n",
       "      <th>4</th>\n",
       "      <td>Sr. Data Scientist</td>\n",
       "      <td>Bangalore/Bengaluru</td>\n",
       "      <td>Neustar MarketShare</td>\n",
       "      <td>Responsibilities: Algorithm Development: Devel...</td>\n",
       "    </tr>\n",
       "    <tr>\n",
       "      <th>5</th>\n",
       "      <td>Sr . Data Scientist</td>\n",
       "      <td>Bangalore/Bengaluru</td>\n",
       "      <td>Target Corporation India Pvt Ltd</td>\n",
       "      <td>A role with the Target Data Science and Analyt...</td>\n",
       "    </tr>\n",
       "    <tr>\n",
       "      <th>6</th>\n",
       "      <td>Senior Data Scientist</td>\n",
       "      <td>Bangalore/Bengaluru</td>\n",
       "      <td>Flipkart Internet Private Limited</td>\n",
       "      <td>About the role A Senior Data Scientist in Flip...</td>\n",
       "    </tr>\n",
       "    <tr>\n",
       "      <th>7</th>\n",
       "      <td>Lead Data Scientist</td>\n",
       "      <td>Bangalore/Bengaluru</td>\n",
       "      <td>bd</td>\n",
       "      <td>Evaluating business requirements and developin...</td>\n",
       "    </tr>\n",
       "    <tr>\n",
       "      <th>8</th>\n",
       "      <td>Data Scientist</td>\n",
       "      <td>Bangalore/Bengaluru</td>\n",
       "      <td>Cardinal Drugs Ltd.</td>\n",
       "      <td>Job Overview Create and deliver business value...</td>\n",
       "    </tr>\n",
       "    <tr>\n",
       "      <th>9</th>\n",
       "      <td>NielsenIQ Applied Data Scientist (Azure/Python...</td>\n",
       "      <td>Bangalore/Bengaluru</td>\n",
       "      <td>NielsenIQ</td>\n",
       "      <td>We re looking for a passionate and talented Sr...</td>\n",
       "    </tr>\n",
       "  </tbody>\n",
       "</table>\n",
       "</div>"
      ],
      "text/plain": [
       "                                               Title  \\\n",
       "0  Ignitarium is hiring For Senior Data Scientist...   \n",
       "1    Data Scientist / Data Analyst -Business Analyst   \n",
       "2                                     Data Scientist   \n",
       "3  Senior Data Scientist For advisory/ teaching/ ...   \n",
       "4                                 Sr. Data Scientist   \n",
       "5                                Sr . Data Scientist   \n",
       "6                              Senior Data Scientist   \n",
       "7                                Lead Data Scientist   \n",
       "8                                     Data Scientist   \n",
       "9  NielsenIQ Applied Data Scientist (Azure/Python...   \n",
       "\n",
       "                                            Location  \\\n",
       "0       Kochi/Cochin, Ernakulam, Bangalore/Bengaluru   \n",
       "1  Hyderabad/Secunderabad, Chennai, Bangalore/Ben...   \n",
       "2                                Bangalore/Bengaluru   \n",
       "3  Hyderabad/Secunderabad, Chennai, Bangalore/Ben...   \n",
       "4                                Bangalore/Bengaluru   \n",
       "5                                Bangalore/Bengaluru   \n",
       "6                                Bangalore/Bengaluru   \n",
       "7                                Bangalore/Bengaluru   \n",
       "8                                Bangalore/Bengaluru   \n",
       "9                                Bangalore/Bengaluru   \n",
       "\n",
       "                                      Company Name  \\\n",
       "0  Ignitarium Technology Solutions Private Limited   \n",
       "1               Inflexion Analytix Private Limited   \n",
       "2                Flipkart Internet Private Limited   \n",
       "3                                      Shikvix LLC   \n",
       "4                              Neustar MarketShare   \n",
       "5                 Target Corporation India Pvt Ltd   \n",
       "6                Flipkart Internet Private Limited   \n",
       "7                                               bd   \n",
       "8                              Cardinal Drugs Ltd.   \n",
       "9                                        NielsenIQ   \n",
       "\n",
       "                                     Job Description  \n",
       "0  Senior Data Scientist  Please find the JD belo...  \n",
       "1  Job description  Job Role: Data Scientist/Data...  \n",
       "2  About the team The Data Sciences team at Flipk...  \n",
       "3  Seeking senior data scientists for part-time r...  \n",
       "4  Responsibilities: Algorithm Development: Devel...  \n",
       "5  A role with the Target Data Science and Analyt...  \n",
       "6  About the role A Senior Data Scientist in Flip...  \n",
       "7  Evaluating business requirements and developin...  \n",
       "8  Job Overview Create and deliver business value...  \n",
       "9  We re looking for a passionate and talented Sr...  "
      ]
     },
     "execution_count": 33,
     "metadata": {},
     "output_type": "execute_result"
    }
   ],
   "source": [
    "data=pd.DataFrame({'Title':job_titles,'Location':job_loc_,'Company Name':com_names,'Job Description':job_des})\n",
    "data\n"
   ]
  },
  {
   "cell_type": "markdown",
   "metadata": {},
   "source": [
    "# "
   ]
  },
  {
   "cell_type": "markdown",
   "metadata": {},
   "source": [
    "# 3.In this question you have to scrape data using the filters available....."
   ]
  },
  {
   "cell_type": "code",
   "execution_count": 34,
   "metadata": {},
   "outputs": [],
   "source": [
    "import pandas as pd\n",
    "import selenium\n",
    "from selenium import webdriver"
   ]
  },
  {
   "cell_type": "code",
   "execution_count": 35,
   "metadata": {},
   "outputs": [
    {
     "data": {
      "text/plain": [
       "<selenium.webdriver.chrome.webdriver.WebDriver (session=\"3827af945ad08e3c622f955e89a3661b\")>"
      ]
     },
     "execution_count": 35,
     "metadata": {},
     "output_type": "execute_result"
    }
   ],
   "source": [
    "# connecting to driver\n",
    "driver=webdriver.Chrome('chromedriver.exe')\n",
    "driver"
   ]
  },
  {
   "cell_type": "code",
   "execution_count": 36,
   "metadata": {},
   "outputs": [],
   "source": [
    "url='https://www.naukri.com/'\n",
    "driver.get(url)"
   ]
  },
  {
   "cell_type": "code",
   "execution_count": 37,
   "metadata": {},
   "outputs": [],
   "source": [
    "job_path=driver.find_element_by_id('qsb-keyword-sugg')\n",
    "job_path.send_keys('Data Scientist')"
   ]
  },
  {
   "cell_type": "code",
   "execution_count": 38,
   "metadata": {},
   "outputs": [],
   "source": [
    "search_click=driver.find_element_by_xpath(\"//button[@class='btn']\")\n",
    "search_click.click()"
   ]
  },
  {
   "cell_type": "code",
   "execution_count": 39,
   "metadata": {},
   "outputs": [],
   "source": [
    "loc=driver.find_element_by_xpath('//span[@class=\"fw500\"]')\n",
    "loc.click()"
   ]
  },
  {
   "cell_type": "code",
   "execution_count": 40,
   "metadata": {},
   "outputs": [],
   "source": [
    "sal=driver.find_element_by_xpath('/html/body/div[1]/div[3]/div[2]/section[1]/div[2]/div[3]/div[2]/div[2]/label/p/span[1]')\n",
    "sal.click()"
   ]
  },
  {
   "cell_type": "code",
   "execution_count": 41,
   "metadata": {},
   "outputs": [
    {
     "name": "stdout",
     "output_type": "stream",
     "text": [
      "\n",
      " Job Title \n",
      "\n",
      " ['Data Scientist', 'Data Scientist / Data Analyst -Business Analyst', 'Ignitarium is hiring For Senior Data Scientist, Bangalore / Kochi', 'Senior Data Scientist', 'Senior Data Scientist For advisory/ teaching/ projects role Remote', 'Sr. Data Scientist', 'Sr . Data Scientist', 'Lead Data Scientist', 'Data Scientist', 'Data Scientist', 'Data Scientist: Advanced Analytics', 'Data Scientist', 'NielsenIQ Applied Data Scientist (Azure/Python/Spark)', 'Data Scientist', 'Data Scientist', 'Data Scientist', 'Senior Data Scientist', 'Data Scientist', 'Big Data Scientist', 'Senior Data Scientist']\n"
     ]
    }
   ],
   "source": [
    "titles=driver.find_elements_by_xpath(\"//a[@class='title fw500 ellipsis']\")\n",
    "titles\n",
    "job_titles=[]\n",
    "for i in titles:\n",
    "    job_titles.append(i.text)\n",
    "print('\\n Job Title \\n\\n',job_titles)"
   ]
  },
  {
   "cell_type": "code",
   "execution_count": 42,
   "metadata": {},
   "outputs": [
    {
     "name": "stdout",
     "output_type": "stream",
     "text": [
      "\n",
      " company name \n",
      "\n",
      " ['Flipkart Internet Private Limited', 'Inflexion Analytix Private Limited', 'Ignitarium Technology Solutions Private Limited', 'Flipkart Internet Private Limited', 'Shikvix LLC', 'Neustar MarketShare', 'Target Corporation India Pvt Ltd', 'bd', 'Oracle India Pvt. Ltd.', 'IBM India Pvt. Limited', 'IBM India Pvt. Limited', 'Cardinal Drugs Ltd.', 'NielsenIQ', 'NHANCENOW', 'Neustar MarketShare', 'Fujitsu Consulting India Pvt. Ltd.', 'Bigshyft Hiring for Bidgely', 'Applied Materials', 'Hire Hunters', 'inVentiv International Pharma Services Pvt. Ltd.']\n"
     ]
    }
   ],
   "source": [
    "c_names=driver.find_elements_by_xpath(\"//a[@class='subTitle ellipsis fleft']\")\n",
    "com_names=[]\n",
    "for i in c_names:\n",
    "    com_names.append(i.text)\n",
    "print('\\n company name \\n\\n',com_names)"
   ]
  },
  {
   "cell_type": "code",
   "execution_count": 43,
   "metadata": {},
   "outputs": [
    {
     "name": "stdout",
     "output_type": "stream",
     "text": [
      "\n",
      " Job Location \n",
      "\n",
      " ['Bangalore/Bengaluru', 'Hyderabad/Secunderabad, Chennai, Bangalore/Bengaluru', 'Kochi/Cochin, Ernakulam, Bangalore/Bengaluru', 'Bangalore/Bengaluru', 'Hyderabad/Secunderabad, Chennai, Bangalore/Bengaluru', 'Bangalore/Bengaluru', 'Bangalore/Bengaluru', 'Bangalore/Bengaluru', 'Noida, Bangalore/Bengaluru', 'Bangalore/Bengaluru', 'Bangalore/Bengaluru', 'Bangalore/Bengaluru', 'Bangalore/Bengaluru', 'Bangalore/Bengaluru', 'Bangalore/Bengaluru', 'Noida, Hyderabad/Secunderabad, Pune, Chennai, Bangalore/Bengaluru', 'Bangalore/Bengaluru', 'Bangalore/Bengaluru', 'Gurgaon/Gurugram, Bangalore/Bengaluru', 'Hyderabad/Secunderabad, Gurgaon/Gurugram, Bangalore/Bengaluru']\n"
     ]
    }
   ],
   "source": [
    "loc_=driver.find_elements_by_xpath(\"//li[@class='fleft grey-text br2 placeHolderLi location']//span\") \n",
    "job_loc_=[]\n",
    "for i in loc_:\n",
    "    job_loc_.append(i.text)\n",
    "print('\\n Job Location \\n\\n',job_loc_)"
   ]
  },
  {
   "cell_type": "code",
   "execution_count": 44,
   "metadata": {},
   "outputs": [
    {
     "name": "stdout",
     "output_type": "stream",
     "text": [
      "\n",
      " Experience Required \n",
      "\n",
      " ['0-5 Yrs', '0-3 Yrs', '2-6 Yrs', '5-10 Yrs', '3-8 Yrs', '2-5 Yrs', '5-8 Yrs', '2-7 Yrs', '5-9 Yrs', '3-6 Yrs', '5-10 Yrs', '7-12 Yrs', '5-10 Yrs', '5-7 Yrs', '2-5 Yrs', '4-9 Yrs', '3-7 Yrs', '5-10 Yrs', '5-10 Yrs', '3-6 Yrs']\n"
     ]
    }
   ],
   "source": [
    "exp=driver.find_elements_by_xpath(\"//li[@class='fleft grey-text br2 placeHolderLi experience']//span\")\n",
    "exp_req=[]\n",
    "for i in exp:\n",
    "    exp_req.append(i.text)\n",
    "print('\\n Experience Required \\n\\n',exp_req)"
   ]
  },
  {
   "cell_type": "code",
   "execution_count": 45,
   "metadata": {},
   "outputs": [
    {
     "name": "stdout",
     "output_type": "stream",
     "text": [
      "length of Job Title:  20 \n",
      "length of Job Location:  20 \n",
      "length of Company Name:  20 \n",
      "Length of Experience Required:  20\n"
     ]
    }
   ],
   "source": [
    "print('length of Job Title: ',len(job_titles),\n",
    "     '\\nlength of Job Location: ',len(job_loc_),\n",
    "      '\\nlength of Company Name: ',len(com_names),\n",
    "      '\\nLength of Experience Required: ',len(exp_req))"
   ]
  },
  {
   "cell_type": "code",
   "execution_count": 46,
   "metadata": {},
   "outputs": [
    {
     "data": {
      "text/html": [
       "<div>\n",
       "<style scoped>\n",
       "    .dataframe tbody tr th:only-of-type {\n",
       "        vertical-align: middle;\n",
       "    }\n",
       "\n",
       "    .dataframe tbody tr th {\n",
       "        vertical-align: top;\n",
       "    }\n",
       "\n",
       "    .dataframe thead th {\n",
       "        text-align: right;\n",
       "    }\n",
       "</style>\n",
       "<table border=\"1\" class=\"dataframe\">\n",
       "  <thead>\n",
       "    <tr style=\"text-align: right;\">\n",
       "      <th></th>\n",
       "      <th>Title</th>\n",
       "      <th>Location</th>\n",
       "      <th>Company Name</th>\n",
       "      <th>Experience Required</th>\n",
       "    </tr>\n",
       "  </thead>\n",
       "  <tbody>\n",
       "    <tr>\n",
       "      <th>0</th>\n",
       "      <td>Data Scientist</td>\n",
       "      <td>Bangalore/Bengaluru</td>\n",
       "      <td>Flipkart Internet Private Limited</td>\n",
       "      <td>0-5 Yrs</td>\n",
       "    </tr>\n",
       "    <tr>\n",
       "      <th>1</th>\n",
       "      <td>Data Scientist / Data Analyst -Business Analyst</td>\n",
       "      <td>Hyderabad/Secunderabad, Chennai, Bangalore/Ben...</td>\n",
       "      <td>Inflexion Analytix Private Limited</td>\n",
       "      <td>0-3 Yrs</td>\n",
       "    </tr>\n",
       "    <tr>\n",
       "      <th>2</th>\n",
       "      <td>Ignitarium is hiring For Senior Data Scientist...</td>\n",
       "      <td>Kochi/Cochin, Ernakulam, Bangalore/Bengaluru</td>\n",
       "      <td>Ignitarium Technology Solutions Private Limited</td>\n",
       "      <td>2-6 Yrs</td>\n",
       "    </tr>\n",
       "    <tr>\n",
       "      <th>3</th>\n",
       "      <td>Senior Data Scientist</td>\n",
       "      <td>Bangalore/Bengaluru</td>\n",
       "      <td>Flipkart Internet Private Limited</td>\n",
       "      <td>5-10 Yrs</td>\n",
       "    </tr>\n",
       "    <tr>\n",
       "      <th>4</th>\n",
       "      <td>Senior Data Scientist For advisory/ teaching/ ...</td>\n",
       "      <td>Hyderabad/Secunderabad, Chennai, Bangalore/Ben...</td>\n",
       "      <td>Shikvix LLC</td>\n",
       "      <td>3-8 Yrs</td>\n",
       "    </tr>\n",
       "    <tr>\n",
       "      <th>5</th>\n",
       "      <td>Sr. Data Scientist</td>\n",
       "      <td>Bangalore/Bengaluru</td>\n",
       "      <td>Neustar MarketShare</td>\n",
       "      <td>2-5 Yrs</td>\n",
       "    </tr>\n",
       "    <tr>\n",
       "      <th>6</th>\n",
       "      <td>Sr . Data Scientist</td>\n",
       "      <td>Bangalore/Bengaluru</td>\n",
       "      <td>Target Corporation India Pvt Ltd</td>\n",
       "      <td>5-8 Yrs</td>\n",
       "    </tr>\n",
       "    <tr>\n",
       "      <th>7</th>\n",
       "      <td>Lead Data Scientist</td>\n",
       "      <td>Bangalore/Bengaluru</td>\n",
       "      <td>bd</td>\n",
       "      <td>2-7 Yrs</td>\n",
       "    </tr>\n",
       "    <tr>\n",
       "      <th>8</th>\n",
       "      <td>Data Scientist</td>\n",
       "      <td>Noida, Bangalore/Bengaluru</td>\n",
       "      <td>Oracle India Pvt. Ltd.</td>\n",
       "      <td>5-9 Yrs</td>\n",
       "    </tr>\n",
       "    <tr>\n",
       "      <th>9</th>\n",
       "      <td>Data Scientist</td>\n",
       "      <td>Bangalore/Bengaluru</td>\n",
       "      <td>IBM India Pvt. Limited</td>\n",
       "      <td>3-6 Yrs</td>\n",
       "    </tr>\n",
       "  </tbody>\n",
       "</table>\n",
       "</div>"
      ],
      "text/plain": [
       "                                               Title  \\\n",
       "0                                     Data Scientist   \n",
       "1    Data Scientist / Data Analyst -Business Analyst   \n",
       "2  Ignitarium is hiring For Senior Data Scientist...   \n",
       "3                              Senior Data Scientist   \n",
       "4  Senior Data Scientist For advisory/ teaching/ ...   \n",
       "5                                 Sr. Data Scientist   \n",
       "6                                Sr . Data Scientist   \n",
       "7                                Lead Data Scientist   \n",
       "8                                     Data Scientist   \n",
       "9                                     Data Scientist   \n",
       "\n",
       "                                            Location  \\\n",
       "0                                Bangalore/Bengaluru   \n",
       "1  Hyderabad/Secunderabad, Chennai, Bangalore/Ben...   \n",
       "2       Kochi/Cochin, Ernakulam, Bangalore/Bengaluru   \n",
       "3                                Bangalore/Bengaluru   \n",
       "4  Hyderabad/Secunderabad, Chennai, Bangalore/Ben...   \n",
       "5                                Bangalore/Bengaluru   \n",
       "6                                Bangalore/Bengaluru   \n",
       "7                                Bangalore/Bengaluru   \n",
       "8                         Noida, Bangalore/Bengaluru   \n",
       "9                                Bangalore/Bengaluru   \n",
       "\n",
       "                                      Company Name Experience Required  \n",
       "0                Flipkart Internet Private Limited             0-5 Yrs  \n",
       "1               Inflexion Analytix Private Limited             0-3 Yrs  \n",
       "2  Ignitarium Technology Solutions Private Limited             2-6 Yrs  \n",
       "3                Flipkart Internet Private Limited            5-10 Yrs  \n",
       "4                                      Shikvix LLC             3-8 Yrs  \n",
       "5                              Neustar MarketShare             2-5 Yrs  \n",
       "6                 Target Corporation India Pvt Ltd             5-8 Yrs  \n",
       "7                                               bd             2-7 Yrs  \n",
       "8                           Oracle India Pvt. Ltd.             5-9 Yrs  \n",
       "9                           IBM India Pvt. Limited             3-6 Yrs  "
      ]
     },
     "execution_count": 46,
     "metadata": {},
     "output_type": "execute_result"
    }
   ],
   "source": [
    "df=pd.DataFrame({'Title':job_titles,'Location':job_loc_,'Company Name':com_names,'Experience Required':exp_req})\n",
    "df.iloc[0:10,]"
   ]
  },
  {
   "cell_type": "markdown",
   "metadata": {},
   "source": [
    "# "
   ]
  },
  {
   "cell_type": "markdown",
   "metadata": {},
   "source": [
    "## Q4.Program to scrape data for first 10 job results for Data scientist Designation in Noida location from https://www.glassdoor.co.in/index.htm"
   ]
  },
  {
   "cell_type": "code",
   "execution_count": 47,
   "metadata": {},
   "outputs": [],
   "source": [
    "import pandas as pd\n",
    "import selenium\n",
    "from selenium import webdriver"
   ]
  },
  {
   "cell_type": "code",
   "execution_count": 48,
   "metadata": {},
   "outputs": [
    {
     "data": {
      "text/plain": [
       "<selenium.webdriver.chrome.webdriver.WebDriver (session=\"8a5c58bdf0001c15777fa28e41e76c13\")>"
      ]
     },
     "execution_count": 48,
     "metadata": {},
     "output_type": "execute_result"
    }
   ],
   "source": [
    "driver=webdriver.Chrome('chromedriver.exe')\n",
    "driver"
   ]
  },
  {
   "cell_type": "code",
   "execution_count": 49,
   "metadata": {},
   "outputs": [],
   "source": [
    "url='https://www.glassdoor.co.in/index.htm'\n",
    "driver.get(url)"
   ]
  },
  {
   "cell_type": "code",
   "execution_count": 50,
   "metadata": {},
   "outputs": [],
   "source": [
    "job_path=driver.find_element_by_xpath(\"//input[@class='css-1etjok6']\")\n",
    "job_path.send_keys('Data Scientist')"
   ]
  },
  {
   "cell_type": "code",
   "execution_count": 51,
   "metadata": {},
   "outputs": [],
   "source": [
    "loc_path=driver.find_element_by_id(\"sc.location\")\n",
    "loc_path.send_keys('Noida')"
   ]
  },
  {
   "cell_type": "code",
   "execution_count": 52,
   "metadata": {},
   "outputs": [],
   "source": [
    "search_click=driver.find_element_by_xpath(\"//button[@class='gd-ui-button ml-std col-auto SearchStyles__newSearchButton css-iixdfr']\")\n",
    "search_click.click()"
   ]
  },
  {
   "cell_type": "code",
   "execution_count": 53,
   "metadata": {},
   "outputs": [
    {
     "name": "stdout",
     "output_type": "stream",
     "text": [
      "\n",
      " Company Name \n",
      "\n",
      " ['Bechtel', 'Salesforce', 'Ericsson', 'MobiKwik', 'Crowe', 'xtLytics', 'Siemens Technology and Services Private Limited', 'UnitedHealth Group', 'Data Patterns', 'Biz2Credit Inc', 'Priority Vendor', 'Novo', 'Lantern Digital Services', 'Gauge Data Solutions', 'Techlive', 'WishFin', 'ADCI - Haryana', 'Ally wiredsoft solutions (P) ltd', 'Innovacer', 'Algoscale', 'WinZO', 'Salasar New Age Technologies', 'Innovacer', 'SearchUrCollege', 'Team Computers', 'White Vectors', 'Donaldson', 'ESRI, Inc.', 'Adobe', 'Aliqan Technologies', 'United Airlines', 'Genpact']\n"
     ]
    }
   ],
   "source": [
    "cname=driver.find_elements_by_xpath(\"//a[@class=' css-l2wjgv e1n63ojh0 jobLink']\")\n",
    "com_name=[]\n",
    "for i in cname:\n",
    "    com_name.append(i.text)\n",
    "print('\\n Company Name \\n\\n',com_name)"
   ]
  },
  {
   "cell_type": "code",
   "execution_count": 54,
   "metadata": {},
   "outputs": [
    {
     "name": "stdout",
     "output_type": "stream",
     "text": [
      "\n",
      " No. Of Days \n",
      "\n",
      " ['6d', '9d', '21d', '1d', '', '24h', '26d', '24h', '2d', '22d', '14d', '12d', '8d', '14d', '20d', '25d', '24h', '7d', '16d', '14d', '5d', '27d', '19d', '14d', '2d', '8d', '5d', '23d', '24h', '24h', '9d', '7d']\n"
     ]
    }
   ],
   "source": [
    "days=driver.find_elements_by_xpath(\"//div[@class='d-flex align-items-end pl-std css-mi55ob']\")\n",
    "no_of_days=[]\n",
    "for i in days:\n",
    "    no_of_days.append(i.text)\n",
    "print('\\n No. Of Days \\n\\n',no_of_days)"
   ]
  },
  {
   "cell_type": "code",
   "execution_count": 55,
   "metadata": {},
   "outputs": [
    {
     "name": "stdout",
     "output_type": "stream",
     "text": [
      "\n",
      " Job Title \n",
      "\n",
      " ['4.0', '4.5', '4.1', '4.0', '', '', '4.1', '3.6', '3.1', '3.9', '3.7', '4.2', '3.5', '3.0', '5.0', '3.8', '4.3', '', '3.8', '3.8', '4.7', '', '3.8', '', '4.1', '', '3.8', '4.0', '4.4', '', '4.1', '3.8']\n"
     ]
    }
   ],
   "source": [
    "rating=driver.find_elements_by_xpath(\"//div[@class='d-flex flex-column css-x75kgh e1rrn5ka3']\")\n",
    "rating_=[]\n",
    "for i in rating:\n",
    "    rating_.append(i.text)\n",
    "print('\\n Job Title \\n\\n',rating_)"
   ]
  },
  {
   "cell_type": "code",
   "execution_count": 56,
   "metadata": {},
   "outputs": [
    {
     "name": "stdout",
     "output_type": "stream",
     "text": [
      "length of Company Name:  32 \n",
      "length of No. of Days:  32 \n",
      "length of Company Rating:  32\n"
     ]
    }
   ],
   "source": [
    "print('length of Company Name: ',len(com_name),\n",
    "     '\\nlength of No. of Days: ',len(no_of_days),\n",
    "      '\\nlength of Company Rating: ',len(rating_))"
   ]
  },
  {
   "cell_type": "code",
   "execution_count": 57,
   "metadata": {},
   "outputs": [
    {
     "data": {
      "text/html": [
       "<div>\n",
       "<style scoped>\n",
       "    .dataframe tbody tr th:only-of-type {\n",
       "        vertical-align: middle;\n",
       "    }\n",
       "\n",
       "    .dataframe tbody tr th {\n",
       "        vertical-align: top;\n",
       "    }\n",
       "\n",
       "    .dataframe thead th {\n",
       "        text-align: right;\n",
       "    }\n",
       "</style>\n",
       "<table border=\"1\" class=\"dataframe\">\n",
       "  <thead>\n",
       "    <tr style=\"text-align: right;\">\n",
       "      <th></th>\n",
       "      <th>Company Name</th>\n",
       "      <th>No.of Days Ago</th>\n",
       "      <th>Company Rating</th>\n",
       "    </tr>\n",
       "  </thead>\n",
       "  <tbody>\n",
       "    <tr>\n",
       "      <th>0</th>\n",
       "      <td>Bechtel</td>\n",
       "      <td>6d</td>\n",
       "      <td>4.0</td>\n",
       "    </tr>\n",
       "    <tr>\n",
       "      <th>1</th>\n",
       "      <td>Salesforce</td>\n",
       "      <td>9d</td>\n",
       "      <td>4.5</td>\n",
       "    </tr>\n",
       "    <tr>\n",
       "      <th>2</th>\n",
       "      <td>Ericsson</td>\n",
       "      <td>21d</td>\n",
       "      <td>4.1</td>\n",
       "    </tr>\n",
       "    <tr>\n",
       "      <th>3</th>\n",
       "      <td>MobiKwik</td>\n",
       "      <td>1d</td>\n",
       "      <td>4.0</td>\n",
       "    </tr>\n",
       "    <tr>\n",
       "      <th>4</th>\n",
       "      <td>Crowe</td>\n",
       "      <td></td>\n",
       "      <td></td>\n",
       "    </tr>\n",
       "    <tr>\n",
       "      <th>5</th>\n",
       "      <td>xtLytics</td>\n",
       "      <td>24h</td>\n",
       "      <td></td>\n",
       "    </tr>\n",
       "    <tr>\n",
       "      <th>6</th>\n",
       "      <td>Siemens Technology and Services Private Limited</td>\n",
       "      <td>26d</td>\n",
       "      <td>4.1</td>\n",
       "    </tr>\n",
       "    <tr>\n",
       "      <th>7</th>\n",
       "      <td>UnitedHealth Group</td>\n",
       "      <td>24h</td>\n",
       "      <td>3.6</td>\n",
       "    </tr>\n",
       "    <tr>\n",
       "      <th>8</th>\n",
       "      <td>Data Patterns</td>\n",
       "      <td>2d</td>\n",
       "      <td>3.1</td>\n",
       "    </tr>\n",
       "    <tr>\n",
       "      <th>9</th>\n",
       "      <td>Biz2Credit Inc</td>\n",
       "      <td>22d</td>\n",
       "      <td>3.9</td>\n",
       "    </tr>\n",
       "  </tbody>\n",
       "</table>\n",
       "</div>"
      ],
      "text/plain": [
       "                                      Company Name No.of Days Ago  \\\n",
       "0                                          Bechtel             6d   \n",
       "1                                       Salesforce             9d   \n",
       "2                                         Ericsson            21d   \n",
       "3                                         MobiKwik             1d   \n",
       "4                                            Crowe                  \n",
       "5                                         xtLytics            24h   \n",
       "6  Siemens Technology and Services Private Limited            26d   \n",
       "7                               UnitedHealth Group            24h   \n",
       "8                                    Data Patterns             2d   \n",
       "9                                   Biz2Credit Inc            22d   \n",
       "\n",
       "  Company Rating  \n",
       "0            4.0  \n",
       "1            4.5  \n",
       "2            4.1  \n",
       "3            4.0  \n",
       "4                 \n",
       "5                 \n",
       "6            4.1  \n",
       "7            3.6  \n",
       "8            3.1  \n",
       "9            3.9  "
      ]
     },
     "execution_count": 57,
     "metadata": {},
     "output_type": "execute_result"
    }
   ],
   "source": [
    "df=pd.DataFrame({'Company Name':com_name,'No.of Days Ago':no_of_days,'Company Rating':rating_})\n",
    "df.iloc[0:10,]"
   ]
  },
  {
   "cell_type": "markdown",
   "metadata": {},
   "source": [
    "# "
   ]
  },
  {
   "cell_type": "markdown",
   "metadata": {},
   "source": [
    "## Q5.Program to scrape the salary data for Data Scientist designation in Noida location.from https://www.glassdoor.co.in/Salaries/index.htm"
   ]
  },
  {
   "cell_type": "code",
   "execution_count": 58,
   "metadata": {},
   "outputs": [],
   "source": [
    "import pandas as pd\n",
    "import selenium\n",
    "from selenium import webdriver"
   ]
  },
  {
   "cell_type": "code",
   "execution_count": 59,
   "metadata": {},
   "outputs": [
    {
     "data": {
      "text/plain": [
       "<selenium.webdriver.chrome.webdriver.WebDriver (session=\"3d7ac77a92d4c65449e80751b564db9f\")>"
      ]
     },
     "execution_count": 59,
     "metadata": {},
     "output_type": "execute_result"
    }
   ],
   "source": [
    "driver=webdriver.Chrome('chromedriver.exe')\n",
    "driver"
   ]
  },
  {
   "cell_type": "code",
   "execution_count": 60,
   "metadata": {},
   "outputs": [],
   "source": [
    "url='https://www.glassdoor.co.in/Salaries/index.htm'\n",
    "driver.get(url)"
   ]
  },
  {
   "cell_type": "code",
   "execution_count": 61,
   "metadata": {},
   "outputs": [],
   "source": [
    "job_path=driver.find_element_by_id('KeywordSearch')\n",
    "job_path.send_keys('Data Scientist')"
   ]
  },
  {
   "cell_type": "code",
   "execution_count": 62,
   "metadata": {},
   "outputs": [],
   "source": [
    "loc_path=driver.find_element_by_id('LocationSearch')\n",
    "loc_path.send_keys('Noida')"
   ]
  },
  {
   "cell_type": "code",
   "execution_count": 66,
   "metadata": {},
   "outputs": [],
   "source": [
    "search_click=driver.find_element_by_xpath(\"//button[@class='gd-btn-mkt']\")\n",
    "search_click.click()"
   ]
  },
  {
   "cell_type": "code",
   "execution_count": 68,
   "metadata": {},
   "outputs": [
    {
     "name": "stdout",
     "output_type": "stream",
     "text": [
      "\n",
      " Company Name \n",
      " ['IBM', 'Tata Consultancy Services', 'Accenture', 'Delhivery', 'Ericsson-Worldwide', 'UnitedHealth Group', 'Valiance Solutions', 'EXL Service', 'Optum', 'Optum Global Solutions', 'ZS Associates', 'Innovaccer', 'Cognizant Technology Solutions', 'OYO', 'Nagarro', 'dunnhumby', 'Vidooly Media Tech', 'Tech Mahindra', 'Bharti Airtel', 'R Systems']\n"
     ]
    }
   ],
   "source": [
    "cname=driver.find_elements_by_xpath(\"//a[@class='css-f3vw95 e1aj7ssy3']\")\n",
    "com_name=[]\n",
    "for i in cname:\n",
    "    com_name.append(i.text)\n",
    "print('\\n Company Name \\n',com_name)"
   ]
  },
  {
   "cell_type": "code",
   "execution_count": 69,
   "metadata": {},
   "outputs": [
    {
     "name": "stdout",
     "output_type": "stream",
     "text": [
      "\n",
      " No.of Salaries \n",
      " ['18 salaries', '17 salaries', '15 salaries', '15 salaries', '14 salaries', '13 salaries', '10 salaries', '9 salaries', '9 salaries', '9 salaries', '8 salaries', '8 salaries', '6 salaries', '6 salaries', '6 salaries', '6 salaries', '6 salaries', '5 salaries', '5 salaries', '5 salaries']\n"
     ]
    }
   ],
   "source": [
    "salary=driver.find_elements_by_xpath(\"//div[@class='col-12 col-lg-auto']\")\n",
    "no_of_salaries=[]\n",
    "for i in salary:\n",
    "    no_of_salaries.append(i.text)\n",
    "print('\\n No.of Salaries \\n',no_of_salaries)"
   ]
  },
  {
   "cell_type": "code",
   "execution_count": 70,
   "metadata": {},
   "outputs": [
    {
     "name": "stdout",
     "output_type": "stream",
     "text": [
      "\n",
      " Average Salary \n",
      " ['₹9,00,000  /yr', '₹6,15,289  /yr', '₹11,63,336  /yr', '₹12,18,244  /yr', '₹7,39,238  /yr', '₹13,00,000  /yr', '₹8,63,750  /yr', '₹11,10,000  /yr', '₹14,23,677  /yr', '₹13,28,697  /yr', '₹11,42,356  /yr', '₹12,09,040  /yr', '₹10,09,021  /yr', '₹12,58,227  /yr', '₹9,92,632  /yr', '₹10,55,478  /yr', '₹34,157  /mo', '₹10,54,402  /yr', '₹16,00,000  /yr', '₹18,40,134  /yr']\n"
     ]
    }
   ],
   "source": [
    "asal=driver.find_elements_by_xpath(\"//div[@class='col-12 col-lg-4 px-lg-0 d-flex align-items-baseline']\")\n",
    "\n",
    "avg_sal=[]\n",
    "for i in asal:\n",
    "    avg_sal.append(i.text.replace('\\n',' '))\n",
    "print('\\n Average Salary \\n',avg_sal)"
   ]
  },
  {
   "cell_type": "code",
   "execution_count": 71,
   "metadata": {},
   "outputs": [
    {
     "name": "stdout",
     "output_type": "stream",
     "text": [
      "\n",
      " Maximum Salary \n",
      "\n",
      " ['₹6L ₹27L', '₹3L ₹13L', '₹6L ₹22L', '₹5L ₹1Cr', '₹4L ₹16L', '₹8L ₹15L', '₹5L ₹15L', '₹6L ₹15L', '₹8L ₹20L', '₹4L ₹22L', '₹2L ₹18L', '₹6L ₹17L', '₹8L ₹13L', '₹10L ₹19L', '₹4L ₹16L', '₹8L ₹20L', '₹12T ₹63T', '₹4L ₹17L', '₹6L ₹29L', '₹8L ₹30L']\n"
     ]
    }
   ],
   "source": [
    "maxsal=driver.find_elements_by_xpath(\"//div[@class='d-none d-lg-flex col-2 align-items-center']\")\n",
    "\n",
    "max_sal=[]\n",
    "for i in maxsal:\n",
    "    max_sal.append(i.text.replace('Range: ','').replace('\\n',' '))\n",
    "print('\\n Maximum Salary \\n\\n',max_sal)"
   ]
  },
  {
   "cell_type": "code",
   "execution_count": 72,
   "metadata": {},
   "outputs": [
    {
     "data": {
      "text/plain": [
       "['₹27L',\n",
       " '₹13L',\n",
       " '₹22L',\n",
       " '₹1Cr',\n",
       " '₹16L',\n",
       " '₹15L',\n",
       " '₹15L',\n",
       " '₹15L',\n",
       " '₹20L',\n",
       " '₹22L',\n",
       " '₹18L',\n",
       " '₹17L',\n",
       " '₹13L',\n",
       " ' ₹19L',\n",
       " '₹16L',\n",
       " '₹20L',\n",
       " ' ₹63T',\n",
       " '₹17L',\n",
       " '₹29L',\n",
       " '₹30L']"
      ]
     },
     "execution_count": 72,
     "metadata": {},
     "output_type": "execute_result"
    }
   ],
   "source": [
    "max_s=[]    \n",
    "for p in max_sal:\n",
    "   max_s.append(p[4:]) \n",
    "max_s"
   ]
  },
  {
   "cell_type": "code",
   "execution_count": 73,
   "metadata": {},
   "outputs": [
    {
     "name": "stdout",
     "output_type": "stream",
     "text": [
      "\n",
      " Minimum Salary \n",
      "\n",
      " ['₹6L ₹27L', '₹3L ₹13L', '₹6L ₹22L', '₹5L ₹1Cr', '₹4L ₹16L', '₹8L ₹15L', '₹5L ₹15L', '₹6L ₹15L', '₹8L ₹20L', '₹4L ₹22L', '₹2L ₹18L', '₹6L ₹17L', '₹8L ₹13L', '₹10L ₹19L', '₹4L ₹16L', '₹8L ₹20L', '₹12T ₹63T', '₹4L ₹17L', '₹6L ₹29L', '₹8L ₹30L']\n"
     ]
    }
   ],
   "source": [
    "minsal=driver.find_elements_by_xpath(\"//div[@class='d-none d-lg-flex col-2 align-items-center']\")\n",
    "\n",
    "min_sal=[]\n",
    "for i in minsal:\n",
    "    min_sal.append(i.text.replace('Range: ','').replace('\\n',' '))\n",
    "\n",
    "print('\\n Minimum Salary \\n\\n',min_sal)"
   ]
  },
  {
   "cell_type": "code",
   "execution_count": 74,
   "metadata": {},
   "outputs": [
    {
     "data": {
      "text/plain": [
       "['₹6L ',\n",
       " '₹3L ',\n",
       " '₹6L ',\n",
       " '₹5L ',\n",
       " '₹4L ',\n",
       " '₹8L ',\n",
       " '₹5L ',\n",
       " '₹6L ',\n",
       " '₹8L ',\n",
       " '₹4L ',\n",
       " '₹2L ',\n",
       " '₹6L ',\n",
       " '₹8L ',\n",
       " '₹10L ',\n",
       " '₹4L ',\n",
       " '₹8L ',\n",
       " '₹12T ',\n",
       " '₹4L ',\n",
       " '₹6L ',\n",
       " '₹8L ']"
      ]
     },
     "execution_count": 74,
     "metadata": {},
     "output_type": "execute_result"
    }
   ],
   "source": [
    "min_s=[]    \n",
    "for p in min_sal:\n",
    "    min_s.append(p[:-4]) \n",
    "min_s"
   ]
  },
  {
   "cell_type": "code",
   "execution_count": 75,
   "metadata": {},
   "outputs": [
    {
     "name": "stdout",
     "output_type": "stream",
     "text": [
      "length of Company Name:  20 \n",
      "length of No. of Salaries:  20 \n",
      "length of Average Salary:  20 \n",
      "length of Maximum Salary:  20 \n",
      "length of Minimum Salary:  20\n"
     ]
    }
   ],
   "source": [
    "print('length of Company Name: ',len(com_name),\n",
    "     '\\nlength of No. of Salaries: ',len(no_of_salaries),\n",
    "      '\\nlength of Average Salary: ',len(avg_sal),\n",
    "      '\\nlength of Maximum Salary: ',len(max_s),\n",
    "      '\\nlength of Minimum Salary: ',len(min_s))"
   ]
  },
  {
   "cell_type": "code",
   "execution_count": 76,
   "metadata": {},
   "outputs": [
    {
     "data": {
      "text/html": [
       "<div>\n",
       "<style scoped>\n",
       "    .dataframe tbody tr th:only-of-type {\n",
       "        vertical-align: middle;\n",
       "    }\n",
       "\n",
       "    .dataframe tbody tr th {\n",
       "        vertical-align: top;\n",
       "    }\n",
       "\n",
       "    .dataframe thead th {\n",
       "        text-align: right;\n",
       "    }\n",
       "</style>\n",
       "<table border=\"1\" class=\"dataframe\">\n",
       "  <thead>\n",
       "    <tr style=\"text-align: right;\">\n",
       "      <th></th>\n",
       "      <th>Name</th>\n",
       "      <th>No.of Salaries</th>\n",
       "      <th>Average Salary</th>\n",
       "      <th>Minimum Salary</th>\n",
       "      <th>Maximun Salary</th>\n",
       "    </tr>\n",
       "  </thead>\n",
       "  <tbody>\n",
       "    <tr>\n",
       "      <th>0</th>\n",
       "      <td>IBM</td>\n",
       "      <td>18 salaries</td>\n",
       "      <td>₹9,00,000  /yr</td>\n",
       "      <td>₹6L</td>\n",
       "      <td>₹27L</td>\n",
       "    </tr>\n",
       "    <tr>\n",
       "      <th>1</th>\n",
       "      <td>Tata Consultancy Services</td>\n",
       "      <td>17 salaries</td>\n",
       "      <td>₹6,15,289  /yr</td>\n",
       "      <td>₹3L</td>\n",
       "      <td>₹13L</td>\n",
       "    </tr>\n",
       "    <tr>\n",
       "      <th>2</th>\n",
       "      <td>Accenture</td>\n",
       "      <td>15 salaries</td>\n",
       "      <td>₹11,63,336  /yr</td>\n",
       "      <td>₹6L</td>\n",
       "      <td>₹22L</td>\n",
       "    </tr>\n",
       "    <tr>\n",
       "      <th>3</th>\n",
       "      <td>Delhivery</td>\n",
       "      <td>15 salaries</td>\n",
       "      <td>₹12,18,244  /yr</td>\n",
       "      <td>₹5L</td>\n",
       "      <td>₹1Cr</td>\n",
       "    </tr>\n",
       "    <tr>\n",
       "      <th>4</th>\n",
       "      <td>Ericsson-Worldwide</td>\n",
       "      <td>14 salaries</td>\n",
       "      <td>₹7,39,238  /yr</td>\n",
       "      <td>₹4L</td>\n",
       "      <td>₹16L</td>\n",
       "    </tr>\n",
       "    <tr>\n",
       "      <th>5</th>\n",
       "      <td>UnitedHealth Group</td>\n",
       "      <td>13 salaries</td>\n",
       "      <td>₹13,00,000  /yr</td>\n",
       "      <td>₹8L</td>\n",
       "      <td>₹15L</td>\n",
       "    </tr>\n",
       "    <tr>\n",
       "      <th>6</th>\n",
       "      <td>Valiance Solutions</td>\n",
       "      <td>10 salaries</td>\n",
       "      <td>₹8,63,750  /yr</td>\n",
       "      <td>₹5L</td>\n",
       "      <td>₹15L</td>\n",
       "    </tr>\n",
       "    <tr>\n",
       "      <th>7</th>\n",
       "      <td>EXL Service</td>\n",
       "      <td>9 salaries</td>\n",
       "      <td>₹11,10,000  /yr</td>\n",
       "      <td>₹6L</td>\n",
       "      <td>₹15L</td>\n",
       "    </tr>\n",
       "    <tr>\n",
       "      <th>8</th>\n",
       "      <td>Optum</td>\n",
       "      <td>9 salaries</td>\n",
       "      <td>₹14,23,677  /yr</td>\n",
       "      <td>₹8L</td>\n",
       "      <td>₹20L</td>\n",
       "    </tr>\n",
       "    <tr>\n",
       "      <th>9</th>\n",
       "      <td>Optum Global Solutions</td>\n",
       "      <td>9 salaries</td>\n",
       "      <td>₹13,28,697  /yr</td>\n",
       "      <td>₹4L</td>\n",
       "      <td>₹22L</td>\n",
       "    </tr>\n",
       "  </tbody>\n",
       "</table>\n",
       "</div>"
      ],
      "text/plain": [
       "                        Name No.of Salaries   Average Salary Minimum Salary  \\\n",
       "0                        IBM    18 salaries   ₹9,00,000  /yr           ₹6L    \n",
       "1  Tata Consultancy Services    17 salaries   ₹6,15,289  /yr           ₹3L    \n",
       "2                  Accenture    15 salaries  ₹11,63,336  /yr           ₹6L    \n",
       "3                  Delhivery    15 salaries  ₹12,18,244  /yr           ₹5L    \n",
       "4         Ericsson-Worldwide    14 salaries   ₹7,39,238  /yr           ₹4L    \n",
       "5         UnitedHealth Group    13 salaries  ₹13,00,000  /yr           ₹8L    \n",
       "6         Valiance Solutions    10 salaries   ₹8,63,750  /yr           ₹5L    \n",
       "7                EXL Service     9 salaries  ₹11,10,000  /yr           ₹6L    \n",
       "8                      Optum     9 salaries  ₹14,23,677  /yr           ₹8L    \n",
       "9     Optum Global Solutions     9 salaries  ₹13,28,697  /yr           ₹4L    \n",
       "\n",
       "  Maximun Salary  \n",
       "0           ₹27L  \n",
       "1           ₹13L  \n",
       "2           ₹22L  \n",
       "3           ₹1Cr  \n",
       "4           ₹16L  \n",
       "5           ₹15L  \n",
       "6           ₹15L  \n",
       "7           ₹15L  \n",
       "8           ₹20L  \n",
       "9           ₹22L  "
      ]
     },
     "execution_count": 76,
     "metadata": {},
     "output_type": "execute_result"
    }
   ],
   "source": [
    "df=pd.DataFrame({'Name':com_name,'No.of Salaries':no_of_salaries,'Average Salary':avg_sal,'Minimum Salary':min_s,'Maximun Salary':max_s})\n",
    "df.iloc[0:10,]"
   ]
  },
  {
   "cell_type": "markdown",
   "metadata": {},
   "source": [
    "# "
   ]
  },
  {
   "cell_type": "markdown",
   "metadata": {},
   "source": [
    "# 6.Scrape data of first 100 sunglasses listings on flipkart.com"
   ]
  },
  {
   "cell_type": "code",
   "execution_count": 132,
   "metadata": {},
   "outputs": [],
   "source": [
    "import pandas as pd\n",
    "import selenium\n",
    "from selenium import webdriver"
   ]
  },
  {
   "cell_type": "code",
   "execution_count": 133,
   "metadata": {},
   "outputs": [
    {
     "data": {
      "text/plain": [
       "<selenium.webdriver.chrome.webdriver.WebDriver (session=\"c1afea85038c928ec93713ddd3f2531e\")>"
      ]
     },
     "execution_count": 133,
     "metadata": {},
     "output_type": "execute_result"
    }
   ],
   "source": [
    "driver=webdriver.Chrome('chromedriver.exe')\n",
    "driver"
   ]
  },
  {
   "cell_type": "code",
   "execution_count": 135,
   "metadata": {},
   "outputs": [],
   "source": [
    "driver.get('https://www.flipkart.com/')"
   ]
  },
  {
   "cell_type": "code",
   "execution_count": 136,
   "metadata": {},
   "outputs": [],
   "source": [
    "enter=driver.find_element_by_name('q')\n",
    "enter.send_keys('sunglasses')"
   ]
  },
  {
   "cell_type": "code",
   "execution_count": 137,
   "metadata": {},
   "outputs": [],
   "source": [
    "search=driver.find_element_by_xpath(\"//button[@class='L0Z3Pu']\")\n",
    "search.click()"
   ]
  },
  {
   "cell_type": "markdown",
   "metadata": {},
   "source": [
    "#### 1st page"
   ]
  },
  {
   "cell_type": "code",
   "execution_count": 139,
   "metadata": {},
   "outputs": [
    {
     "name": "stdout",
     "output_type": "stream",
     "text": [
      "\n",
      " Brand Name \n",
      "\n",
      " ['LIZA ANGEL', 'Singco India', 'Fastrack', 'kingsunglasses', 'Fastrack', 'Fastrack', 'PIRASO', 'ROYAL SON', 'kingsunglasses', 'Elligator', 'PHENOMENAL', 'ROYAL SON', 'GANSTA', 'PHENOMENAL', 'PIRASO', 'povty', 'kingsunglasses', 'Villain', 'ROZZETTA CRAFT', 'PIRASO', 'kingsunglasses', 'hipe', 'Fastrack', 'PIRASO', 'kingsunglasses', 'PIRASO', 'HIPPON', 'ROYAL SON', 'Silver Kartz', 'kingsunglasses', 'Fastrack', 'ROYAL SON', 'Fastrack', 'Fastrack', 'DEIXELS', 'PIRASO', 'ROZZETTA CRAFT', 'Fastrack']\n"
     ]
    }
   ],
   "source": [
    "brand=driver.find_elements_by_xpath(\"//div[@class='_2WkVRV']\")\n",
    "# using for loop to extracting text\n",
    "brand_name=[]\n",
    "for i in brand:\n",
    "    brand_name.append(i.text)\n",
    "brand_name=brand_name[:-2]\n",
    "print('\\n Brand Name \\n\\n',brand_name)"
   ]
  },
  {
   "cell_type": "code",
   "execution_count": 148,
   "metadata": {},
   "outputs": [
    {
     "name": "stdout",
     "output_type": "stream",
     "text": [
      "\n",
      " Price \n",
      "\n",
      " ['₹275', '₹214', '₹513', '₹299', '₹758', '₹509', '₹237', '₹664', '₹349', '₹295', '₹399', '₹379', '₹281', '₹297', '₹331', '₹349', '₹299', '₹599', '₹499', '₹237', '₹210', '₹287', '₹1,010', '₹339', '₹349', '₹237', '₹225', '₹599', '₹246', '₹225', '₹592', '₹664', '₹1,085', '₹522', '₹213', '₹237', '₹474', '₹655']\n"
     ]
    }
   ],
   "source": [
    "price=driver.find_elements_by_xpath(\"//div[@class='_30jeq3']\")\n",
    "# using for loop to extracting text\n",
    "price_=[]\n",
    "for i in price:\n",
    "    price_.append(i.text)\n",
    "price_=price_[:-2]\n",
    "print('\\n Price \\n\\n',price_)"
   ]
  },
  {
   "cell_type": "code",
   "execution_count": 145,
   "metadata": {
    "scrolled": true
   },
   "outputs": [
    {
     "name": "stdout",
     "output_type": "stream",
     "text": [
      "\n",
      " Discount % \n",
      "\n",
      " ['65% off', '69% off', '35% off', '88% off', '15% off', '36% off', '85% off', '66% off', '78% off', '88% off', '80% off', '74% off', '85% off', '87% off', '79% off', '65% off', '88% off', '20% off', '77% off', '85% off', '82% off', '84% off', '22% off', '78% off', '76% off', '85% off', '81% off', '70% off', '83% off', '79% off', '34% off', '66% off', '16% off', '41% off', '82% off', '85% off', '78% off', '27% off']\n"
     ]
    }
   ],
   "source": [
    "discount=driver.find_elements_by_xpath(\"//div[@class='_3Ay6Sb']\")\n",
    "# using for loop to extracting text\n",
    "discount_=[]\n",
    "for i in discount:\n",
    "    discount_.append(i.text)\n",
    "discount_=discount_[:-2]\n",
    "print('\\n Discount % \\n\\n',discount_)"
   ]
  },
  {
   "cell_type": "code",
   "execution_count": 146,
   "metadata": {},
   "outputs": [
    {
     "name": "stdout",
     "output_type": "stream",
     "text": [
      "\n",
      " Product Description  \n",
      "\n",
      " ['UV Protection, Riding Glasses, Others Aviator, Wayfarer...', 'UV Protection Rectangular Sunglasses (Free Size)', 'Mirrored, UV Protection Wayfarer Sunglasses (Free Size)', 'UV Protection Wayfarer Sunglasses (Free Size)', 'Gradient, UV Protection Wayfarer Sunglasses (Free Size)', 'UV Protection Aviator Sunglasses (54)', 'Polarized, UV Protection Round Sunglasses (49)', 'UV Protection Round Sunglasses (Free Size)', 'UV Protection Round Sunglasses (54)', 'UV Protection Retro Square Sunglasses (Free Size)', 'Mirrored Aviator Sunglasses (55)', 'UV Protection Aviator Sunglasses (57)', 'UV Protection Round Sunglasses (53)', 'UV Protection Aviator Sunglasses (Free Size)', 'UV Protection Wayfarer Sunglasses (Free Size)', 'Mirrored, UV Protection Wayfarer Sunglasses (Free Size)', 'Others Retro Square Sunglasses (Free Size)', 'UV Protection Retro Square Sunglasses (Free Size)', 'UV Protection Aviator Sunglasses (54)', 'UV Protection Rectangular Sunglasses (Free Size)', 'UV Protection Sports Sunglasses (Free Size)', 'UV Protection Aviator Sunglasses (58)', 'UV Protection Rectangular Sunglasses (Free Size)', 'UV Protection Rectangular Sunglasses (55)', 'UV Protection Aviator Sunglasses (54)', 'UV Protection Wayfarer Sunglasses (55)', 'UV Protection Retro Square Sunglasses (88)', 'UV Protection Wayfarer Sunglasses (Free Size)', 'UV Protection Round Sunglasses (54)', 'UV Protection Aviator Sunglasses (Free Size)', 'UV Protection Round Sunglasses (54)', 'UV Protection Aviator Sunglasses (58)', 'UV Protection Wrap-around Sunglasses (Free Size)', 'UV Protection Aviator, Wayfarer Sunglasses (Free Size)', 'UV Protection Wayfarer Sunglasses (32)', 'UV Protection, Gradient Rectangular Sunglasses (Free Si...', 'UV Protection Wayfarer Sunglasses (56)', 'Mirrored Round Sunglasses (53)']\n"
     ]
    }
   ],
   "source": [
    "product=driver.find_elements_by_xpath(\"//a[@class='IRpwTa']\")\n",
    "product_des=[]\n",
    "for i in product:\n",
    "    product_des.append(i.text)\n",
    "product_des=product_des[:-1]\n",
    "print('\\n Product Description  \\n\\n',product_des)"
   ]
  },
  {
   "cell_type": "code",
   "execution_count": 149,
   "metadata": {},
   "outputs": [
    {
     "name": "stdout",
     "output_type": "stream",
     "text": [
      "length of Brand Name:  38 \n",
      "length of Price:  38 \n",
      "length of Discount Percentage:  38 \n",
      "length of Product Description:  38\n"
     ]
    }
   ],
   "source": [
    "print('length of Brand Name: ',len(brand_name),\n",
    "     '\\nlength of Price: ',len(price_),\n",
    "      '\\nlength of Discount Percentage: ',len(discount_),\n",
    "      '\\nlength of Product Description: ',len(product_des))"
   ]
  },
  {
   "cell_type": "code",
   "execution_count": 151,
   "metadata": {},
   "outputs": [
    {
     "data": {
      "text/html": [
       "<div>\n",
       "<style scoped>\n",
       "    .dataframe tbody tr th:only-of-type {\n",
       "        vertical-align: middle;\n",
       "    }\n",
       "\n",
       "    .dataframe tbody tr th {\n",
       "        vertical-align: top;\n",
       "    }\n",
       "\n",
       "    .dataframe thead th {\n",
       "        text-align: right;\n",
       "    }\n",
       "</style>\n",
       "<table border=\"1\" class=\"dataframe\">\n",
       "  <thead>\n",
       "    <tr style=\"text-align: right;\">\n",
       "      <th></th>\n",
       "      <th>Brand Name</th>\n",
       "      <th>Product Description</th>\n",
       "      <th>Price</th>\n",
       "      <th>Discount %</th>\n",
       "    </tr>\n",
       "  </thead>\n",
       "  <tbody>\n",
       "    <tr>\n",
       "      <th>0</th>\n",
       "      <td>LIZA ANGEL</td>\n",
       "      <td>UV Protection, Riding Glasses, Others Aviator,...</td>\n",
       "      <td>₹275</td>\n",
       "      <td>65% off</td>\n",
       "    </tr>\n",
       "    <tr>\n",
       "      <th>1</th>\n",
       "      <td>Singco India</td>\n",
       "      <td>UV Protection Rectangular Sunglasses (Free Size)</td>\n",
       "      <td>₹214</td>\n",
       "      <td>69% off</td>\n",
       "    </tr>\n",
       "    <tr>\n",
       "      <th>2</th>\n",
       "      <td>Fastrack</td>\n",
       "      <td>Mirrored, UV Protection Wayfarer Sunglasses (F...</td>\n",
       "      <td>₹513</td>\n",
       "      <td>35% off</td>\n",
       "    </tr>\n",
       "    <tr>\n",
       "      <th>3</th>\n",
       "      <td>kingsunglasses</td>\n",
       "      <td>UV Protection Wayfarer Sunglasses (Free Size)</td>\n",
       "      <td>₹299</td>\n",
       "      <td>88% off</td>\n",
       "    </tr>\n",
       "    <tr>\n",
       "      <th>4</th>\n",
       "      <td>Fastrack</td>\n",
       "      <td>Gradient, UV Protection Wayfarer Sunglasses (F...</td>\n",
       "      <td>₹758</td>\n",
       "      <td>15% off</td>\n",
       "    </tr>\n",
       "    <tr>\n",
       "      <th>5</th>\n",
       "      <td>Fastrack</td>\n",
       "      <td>UV Protection Aviator Sunglasses (54)</td>\n",
       "      <td>₹509</td>\n",
       "      <td>36% off</td>\n",
       "    </tr>\n",
       "    <tr>\n",
       "      <th>6</th>\n",
       "      <td>PIRASO</td>\n",
       "      <td>Polarized, UV Protection Round Sunglasses (49)</td>\n",
       "      <td>₹237</td>\n",
       "      <td>85% off</td>\n",
       "    </tr>\n",
       "    <tr>\n",
       "      <th>7</th>\n",
       "      <td>ROYAL SON</td>\n",
       "      <td>UV Protection Round Sunglasses (Free Size)</td>\n",
       "      <td>₹664</td>\n",
       "      <td>66% off</td>\n",
       "    </tr>\n",
       "    <tr>\n",
       "      <th>8</th>\n",
       "      <td>kingsunglasses</td>\n",
       "      <td>UV Protection Round Sunglasses (54)</td>\n",
       "      <td>₹349</td>\n",
       "      <td>78% off</td>\n",
       "    </tr>\n",
       "    <tr>\n",
       "      <th>9</th>\n",
       "      <td>Elligator</td>\n",
       "      <td>UV Protection Retro Square Sunglasses (Free Size)</td>\n",
       "      <td>₹295</td>\n",
       "      <td>88% off</td>\n",
       "    </tr>\n",
       "    <tr>\n",
       "      <th>10</th>\n",
       "      <td>PHENOMENAL</td>\n",
       "      <td>Mirrored Aviator Sunglasses (55)</td>\n",
       "      <td>₹399</td>\n",
       "      <td>80% off</td>\n",
       "    </tr>\n",
       "    <tr>\n",
       "      <th>11</th>\n",
       "      <td>ROYAL SON</td>\n",
       "      <td>UV Protection Aviator Sunglasses (57)</td>\n",
       "      <td>₹379</td>\n",
       "      <td>74% off</td>\n",
       "    </tr>\n",
       "    <tr>\n",
       "      <th>12</th>\n",
       "      <td>GANSTA</td>\n",
       "      <td>UV Protection Round Sunglasses (53)</td>\n",
       "      <td>₹281</td>\n",
       "      <td>85% off</td>\n",
       "    </tr>\n",
       "    <tr>\n",
       "      <th>13</th>\n",
       "      <td>PHENOMENAL</td>\n",
       "      <td>UV Protection Aviator Sunglasses (Free Size)</td>\n",
       "      <td>₹297</td>\n",
       "      <td>87% off</td>\n",
       "    </tr>\n",
       "    <tr>\n",
       "      <th>14</th>\n",
       "      <td>PIRASO</td>\n",
       "      <td>UV Protection Wayfarer Sunglasses (Free Size)</td>\n",
       "      <td>₹331</td>\n",
       "      <td>79% off</td>\n",
       "    </tr>\n",
       "    <tr>\n",
       "      <th>15</th>\n",
       "      <td>povty</td>\n",
       "      <td>Mirrored, UV Protection Wayfarer Sunglasses (F...</td>\n",
       "      <td>₹349</td>\n",
       "      <td>65% off</td>\n",
       "    </tr>\n",
       "    <tr>\n",
       "      <th>16</th>\n",
       "      <td>kingsunglasses</td>\n",
       "      <td>Others Retro Square Sunglasses (Free Size)</td>\n",
       "      <td>₹299</td>\n",
       "      <td>88% off</td>\n",
       "    </tr>\n",
       "    <tr>\n",
       "      <th>17</th>\n",
       "      <td>Villain</td>\n",
       "      <td>UV Protection Retro Square Sunglasses (Free Size)</td>\n",
       "      <td>₹599</td>\n",
       "      <td>20% off</td>\n",
       "    </tr>\n",
       "    <tr>\n",
       "      <th>18</th>\n",
       "      <td>ROZZETTA CRAFT</td>\n",
       "      <td>UV Protection Aviator Sunglasses (54)</td>\n",
       "      <td>₹499</td>\n",
       "      <td>77% off</td>\n",
       "    </tr>\n",
       "    <tr>\n",
       "      <th>19</th>\n",
       "      <td>PIRASO</td>\n",
       "      <td>UV Protection Rectangular Sunglasses (Free Size)</td>\n",
       "      <td>₹237</td>\n",
       "      <td>85% off</td>\n",
       "    </tr>\n",
       "    <tr>\n",
       "      <th>20</th>\n",
       "      <td>kingsunglasses</td>\n",
       "      <td>UV Protection Sports Sunglasses (Free Size)</td>\n",
       "      <td>₹210</td>\n",
       "      <td>82% off</td>\n",
       "    </tr>\n",
       "    <tr>\n",
       "      <th>21</th>\n",
       "      <td>hipe</td>\n",
       "      <td>UV Protection Aviator Sunglasses (58)</td>\n",
       "      <td>₹287</td>\n",
       "      <td>84% off</td>\n",
       "    </tr>\n",
       "    <tr>\n",
       "      <th>22</th>\n",
       "      <td>Fastrack</td>\n",
       "      <td>UV Protection Rectangular Sunglasses (Free Size)</td>\n",
       "      <td>₹1,010</td>\n",
       "      <td>22% off</td>\n",
       "    </tr>\n",
       "    <tr>\n",
       "      <th>23</th>\n",
       "      <td>PIRASO</td>\n",
       "      <td>UV Protection Rectangular Sunglasses (55)</td>\n",
       "      <td>₹339</td>\n",
       "      <td>78% off</td>\n",
       "    </tr>\n",
       "    <tr>\n",
       "      <th>24</th>\n",
       "      <td>kingsunglasses</td>\n",
       "      <td>UV Protection Aviator Sunglasses (54)</td>\n",
       "      <td>₹349</td>\n",
       "      <td>76% off</td>\n",
       "    </tr>\n",
       "    <tr>\n",
       "      <th>25</th>\n",
       "      <td>PIRASO</td>\n",
       "      <td>UV Protection Wayfarer Sunglasses (55)</td>\n",
       "      <td>₹237</td>\n",
       "      <td>85% off</td>\n",
       "    </tr>\n",
       "    <tr>\n",
       "      <th>26</th>\n",
       "      <td>HIPPON</td>\n",
       "      <td>UV Protection Retro Square Sunglasses (88)</td>\n",
       "      <td>₹225</td>\n",
       "      <td>81% off</td>\n",
       "    </tr>\n",
       "    <tr>\n",
       "      <th>27</th>\n",
       "      <td>ROYAL SON</td>\n",
       "      <td>UV Protection Wayfarer Sunglasses (Free Size)</td>\n",
       "      <td>₹599</td>\n",
       "      <td>70% off</td>\n",
       "    </tr>\n",
       "    <tr>\n",
       "      <th>28</th>\n",
       "      <td>Silver Kartz</td>\n",
       "      <td>UV Protection Round Sunglasses (54)</td>\n",
       "      <td>₹246</td>\n",
       "      <td>83% off</td>\n",
       "    </tr>\n",
       "    <tr>\n",
       "      <th>29</th>\n",
       "      <td>kingsunglasses</td>\n",
       "      <td>UV Protection Aviator Sunglasses (Free Size)</td>\n",
       "      <td>₹225</td>\n",
       "      <td>79% off</td>\n",
       "    </tr>\n",
       "    <tr>\n",
       "      <th>30</th>\n",
       "      <td>Fastrack</td>\n",
       "      <td>UV Protection Round Sunglasses (54)</td>\n",
       "      <td>₹592</td>\n",
       "      <td>34% off</td>\n",
       "    </tr>\n",
       "    <tr>\n",
       "      <th>31</th>\n",
       "      <td>ROYAL SON</td>\n",
       "      <td>UV Protection Aviator Sunglasses (58)</td>\n",
       "      <td>₹664</td>\n",
       "      <td>66% off</td>\n",
       "    </tr>\n",
       "    <tr>\n",
       "      <th>32</th>\n",
       "      <td>Fastrack</td>\n",
       "      <td>UV Protection Wrap-around Sunglasses (Free Size)</td>\n",
       "      <td>₹1,085</td>\n",
       "      <td>16% off</td>\n",
       "    </tr>\n",
       "    <tr>\n",
       "      <th>33</th>\n",
       "      <td>Fastrack</td>\n",
       "      <td>UV Protection Aviator, Wayfarer Sunglasses (Fr...</td>\n",
       "      <td>₹522</td>\n",
       "      <td>41% off</td>\n",
       "    </tr>\n",
       "    <tr>\n",
       "      <th>34</th>\n",
       "      <td>DEIXELS</td>\n",
       "      <td>UV Protection Wayfarer Sunglasses (32)</td>\n",
       "      <td>₹213</td>\n",
       "      <td>82% off</td>\n",
       "    </tr>\n",
       "    <tr>\n",
       "      <th>35</th>\n",
       "      <td>PIRASO</td>\n",
       "      <td>UV Protection, Gradient Rectangular Sunglasses...</td>\n",
       "      <td>₹237</td>\n",
       "      <td>85% off</td>\n",
       "    </tr>\n",
       "    <tr>\n",
       "      <th>36</th>\n",
       "      <td>ROZZETTA CRAFT</td>\n",
       "      <td>UV Protection Wayfarer Sunglasses (56)</td>\n",
       "      <td>₹474</td>\n",
       "      <td>78% off</td>\n",
       "    </tr>\n",
       "    <tr>\n",
       "      <th>37</th>\n",
       "      <td>Fastrack</td>\n",
       "      <td>Mirrored Round Sunglasses (53)</td>\n",
       "      <td>₹655</td>\n",
       "      <td>27% off</td>\n",
       "    </tr>\n",
       "  </tbody>\n",
       "</table>\n",
       "</div>"
      ],
      "text/plain": [
       "        Brand Name                                Product Description   Price  \\\n",
       "0       LIZA ANGEL  UV Protection, Riding Glasses, Others Aviator,...    ₹275   \n",
       "1     Singco India   UV Protection Rectangular Sunglasses (Free Size)    ₹214   \n",
       "2         Fastrack  Mirrored, UV Protection Wayfarer Sunglasses (F...    ₹513   \n",
       "3   kingsunglasses      UV Protection Wayfarer Sunglasses (Free Size)    ₹299   \n",
       "4         Fastrack  Gradient, UV Protection Wayfarer Sunglasses (F...    ₹758   \n",
       "5         Fastrack              UV Protection Aviator Sunglasses (54)    ₹509   \n",
       "6           PIRASO     Polarized, UV Protection Round Sunglasses (49)    ₹237   \n",
       "7        ROYAL SON         UV Protection Round Sunglasses (Free Size)    ₹664   \n",
       "8   kingsunglasses                UV Protection Round Sunglasses (54)    ₹349   \n",
       "9        Elligator  UV Protection Retro Square Sunglasses (Free Size)    ₹295   \n",
       "10      PHENOMENAL                   Mirrored Aviator Sunglasses (55)    ₹399   \n",
       "11       ROYAL SON              UV Protection Aviator Sunglasses (57)    ₹379   \n",
       "12          GANSTA                UV Protection Round Sunglasses (53)    ₹281   \n",
       "13      PHENOMENAL       UV Protection Aviator Sunglasses (Free Size)    ₹297   \n",
       "14          PIRASO      UV Protection Wayfarer Sunglasses (Free Size)    ₹331   \n",
       "15           povty  Mirrored, UV Protection Wayfarer Sunglasses (F...    ₹349   \n",
       "16  kingsunglasses         Others Retro Square Sunglasses (Free Size)    ₹299   \n",
       "17         Villain  UV Protection Retro Square Sunglasses (Free Size)    ₹599   \n",
       "18  ROZZETTA CRAFT              UV Protection Aviator Sunglasses (54)    ₹499   \n",
       "19          PIRASO   UV Protection Rectangular Sunglasses (Free Size)    ₹237   \n",
       "20  kingsunglasses        UV Protection Sports Sunglasses (Free Size)    ₹210   \n",
       "21            hipe              UV Protection Aviator Sunglasses (58)    ₹287   \n",
       "22        Fastrack   UV Protection Rectangular Sunglasses (Free Size)  ₹1,010   \n",
       "23          PIRASO          UV Protection Rectangular Sunglasses (55)    ₹339   \n",
       "24  kingsunglasses              UV Protection Aviator Sunglasses (54)    ₹349   \n",
       "25          PIRASO             UV Protection Wayfarer Sunglasses (55)    ₹237   \n",
       "26          HIPPON         UV Protection Retro Square Sunglasses (88)    ₹225   \n",
       "27       ROYAL SON      UV Protection Wayfarer Sunglasses (Free Size)    ₹599   \n",
       "28    Silver Kartz                UV Protection Round Sunglasses (54)    ₹246   \n",
       "29  kingsunglasses       UV Protection Aviator Sunglasses (Free Size)    ₹225   \n",
       "30        Fastrack                UV Protection Round Sunglasses (54)    ₹592   \n",
       "31       ROYAL SON              UV Protection Aviator Sunglasses (58)    ₹664   \n",
       "32        Fastrack   UV Protection Wrap-around Sunglasses (Free Size)  ₹1,085   \n",
       "33        Fastrack  UV Protection Aviator, Wayfarer Sunglasses (Fr...    ₹522   \n",
       "34         DEIXELS             UV Protection Wayfarer Sunglasses (32)    ₹213   \n",
       "35          PIRASO  UV Protection, Gradient Rectangular Sunglasses...    ₹237   \n",
       "36  ROZZETTA CRAFT             UV Protection Wayfarer Sunglasses (56)    ₹474   \n",
       "37        Fastrack                     Mirrored Round Sunglasses (53)    ₹655   \n",
       "\n",
       "   Discount %  \n",
       "0     65% off  \n",
       "1     69% off  \n",
       "2     35% off  \n",
       "3     88% off  \n",
       "4     15% off  \n",
       "5     36% off  \n",
       "6     85% off  \n",
       "7     66% off  \n",
       "8     78% off  \n",
       "9     88% off  \n",
       "10    80% off  \n",
       "11    74% off  \n",
       "12    85% off  \n",
       "13    87% off  \n",
       "14    79% off  \n",
       "15    65% off  \n",
       "16    88% off  \n",
       "17    20% off  \n",
       "18    77% off  \n",
       "19    85% off  \n",
       "20    82% off  \n",
       "21    84% off  \n",
       "22    22% off  \n",
       "23    78% off  \n",
       "24    76% off  \n",
       "25    85% off  \n",
       "26    81% off  \n",
       "27    70% off  \n",
       "28    83% off  \n",
       "29    79% off  \n",
       "30    34% off  \n",
       "31    66% off  \n",
       "32    16% off  \n",
       "33    41% off  \n",
       "34    82% off  \n",
       "35    85% off  \n",
       "36    78% off  \n",
       "37    27% off  "
      ]
     },
     "execution_count": 151,
     "metadata": {},
     "output_type": "execute_result"
    }
   ],
   "source": [
    "first=pd.DataFrame({'Brand Name':brand_name,'Product Description':product_des,'Price':price_,'Discount %':discount_})\n",
    "first"
   ]
  },
  {
   "cell_type": "markdown",
   "metadata": {},
   "source": [
    "#### 2nd page"
   ]
  },
  {
   "cell_type": "code",
   "execution_count": 152,
   "metadata": {},
   "outputs": [],
   "source": [
    "next=driver.find_element_by_xpath(\"//a[@class='_1LKTO3']\")\n",
    "next.click()"
   ]
  },
  {
   "cell_type": "code",
   "execution_count": 153,
   "metadata": {},
   "outputs": [
    {
     "name": "stdout",
     "output_type": "stream",
     "text": [
      "\n",
      " Brand Name \n",
      "\n",
      " ['Fastrack', 'hipe', 'Fastrack', 'LIZA ANGEL', 'Fastrack', 'Poland', 'PHENOMENAL', 'ROYAL SON', 'Fastrack', 'Flizz', 'ROZZETTA CRAFT', 'PIRASO', 'ROZZETTA CRAFT', 'Fastrack', 'ROYAL SON', 'ROYAL SON', 'kingsunglasses', 'Singco', 'hipe', 'ROYAL SON', 'Elligator', 'kingsunglasses', 'Singco', 'ROYAL SON', 'PIRASO', 'hipe', 'kingsunglasses', 'ROYAL SON', 'PHENOMENAL', 'PHENOMENAL', 'ROZZETTA CRAFT', 'ROYAL SON', 'ROZZETTA CRAFT', 'NuVew', 'Fastrack', 'PIRASO', 'GANSTA', 'PIRASO', 'GANSTA']\n"
     ]
    }
   ],
   "source": [
    "brand=driver.find_elements_by_xpath(\"//div[@class='_2WkVRV']\")\n",
    "# using for loop to extracting text\n",
    "brand_names=[]\n",
    "for i in brand:\n",
    "    brand_names.append(i.text)\n",
    "brand_names=brand_names[:-1]\n",
    "print('\\n Brand Name \\n\\n',brand_names)"
   ]
  },
  {
   "cell_type": "code",
   "execution_count": 154,
   "metadata": {},
   "outputs": [
    {
     "name": "stdout",
     "output_type": "stream",
     "text": [
      "\n",
      " Price \n",
      "\n",
      " ['₹733', '₹189', '₹647', '₹275', '₹804', '₹162', '₹399', '₹664', '₹612', '₹399', '₹404', '₹339', '₹449', '₹738', '₹217', '₹599', '₹299', '₹252', '₹209', '₹664', '₹331', '₹210', '₹355', '₹265', '₹331', '₹269', '₹349', '₹699', '₹319', '₹399', '₹426', '₹699', '₹426', '₹235', '₹1,093', '₹237', '₹292', '₹237', '₹260']\n"
     ]
    }
   ],
   "source": [
    "# extracting  all tags having price\n",
    "price=driver.find_elements_by_xpath(\"//div[@class='_30jeq3']\")\n",
    "# using for loop to extracting text\n",
    "price__=[]\n",
    "for i in price:\n",
    "    price__.append(i.text)\n",
    "price__=price__[:-1]\n",
    "print('\\n Price \\n\\n',price__)"
   ]
  },
  {
   "cell_type": "code",
   "execution_count": 155,
   "metadata": {},
   "outputs": [
    {
     "name": "stdout",
     "output_type": "stream",
     "text": [
      "\n",
      " Discount % \n",
      "\n",
      " ['18% off', '87% off', '28% off', '65% off', '10% off', '67% off', '80% off', '66% off', '31% off', '81% off', '79% off', '78% off', '77% off', '26% off', '78% off', '70% off', '80% off', '74% off', '79% off', '66% off', '74% off', '83% off', '82% off', '79% off', '87% off', '79% off', '78% off', '65% off', '84% off', '80% off', '80% off', '65% off', '78% off', '75% off', '15% off', '85% off', '85% off', '85% off', '86% off']\n"
     ]
    }
   ],
   "source": [
    "discount=driver.find_elements_by_xpath(\"//div[@class='_3Ay6Sb']\")\n",
    "# using for loop to extracting text\n",
    "discount__=[]\n",
    "for i in discount:\n",
    "    discount__.append(i.text)\n",
    "discount__=discount__[:-1]\n",
    "print('\\n Discount % \\n\\n',discount__)"
   ]
  },
  {
   "cell_type": "code",
   "execution_count": 99,
   "metadata": {},
   "outputs": [
    {
     "name": "stdout",
     "output_type": "stream",
     "text": [
      "\n",
      " Product Description  \n",
      "\n",
      " ['Mirrored Round Sunglasses (53)', 'UV Protection Wayfarer Sunglasses (Free Size)', 'Mirrored, UV Protection, Gradient Round Sunglasses (55)', 'UV Protection Wayfarer Sunglasses (Free Size)', 'UV Protection, Mirrored Retro Square Sunglasses (53)', 'UV Protection Shield Sunglasses (Free Size)', 'Polarized, UV Protection Round Sunglasses (49)', 'UV Protection, Polarized Wayfarer Sunglasses (56)', 'UV Protection Retro Square Sunglasses (Free Size)', 'Mirrored, UV Protection Wayfarer Sunglasses (Free Size)', 'UV Protection, Night Vision, Riding Glasses Round Sungl...', 'UV Protection, Gradient Wayfarer Sunglasses (55)', 'UV Protection, Gradient Round Sunglasses (Free Size)', 'UV Protection, Gradient Rectangular Sunglasses (Free Si...', 'UV Protection Wayfarer Sunglasses (Free Size)', 'UV Protection, Gradient, Mirrored, Riding Glasses Aviat...', 'Mirrored Aviator Sunglasses (53)', 'Mirrored, UV Protection Wayfarer, Wayfarer, Wayfarer, W...', 'UV Protection Rectangular Sunglasses (Free Size)', 'UV Protection Round Sunglasses (Free Size)', 'UV Protection Round Sunglasses (54)', 'UV Protection, Gradient, Mirrored, Riding Glasses Recta...', 'UV Protection Retro Square Sunglasses (60)', 'UV Protection Aviator Sunglasses (58)', 'UV Protection Rectangular Sunglasses (Free Size)', 'UV Protection, Others Aviator Sunglasses (32)', 'UV Protection Round Sunglasses (54)', 'Gradient, UV Protection Round Sunglasses (Free Size)', 'UV Protection, Riding Glasses Wayfarer Sunglasses (56)', 'UV Protection, Riding Glasses Rectangular Sunglasses (F...', 'UV Protection Retro Square Sunglasses (88)', 'UV Protection, Mirrored Retro Square Sunglasses (Free S...', 'UV Protection Clubmaster Sunglasses (Free Size)', 'UV Protection Round Sunglasses (52)', 'Polarized, UV Protection Rectangular Sunglasses (59)', 'UV Protection Aviator Sunglasses (Free Size)', 'Mirrored, Riding Glasses, Others Sports Sunglasses (50)', 'UV Protection Aviator Sunglasses (54)', 'UV Protection Retro Square Sunglasses (60)']\n"
     ]
    }
   ],
   "source": [
    "product=driver.find_elements_by_xpath(\"//a[@class='IRpwTa']\")\n",
    "product_desc=[]\n",
    "for i in product:\n",
    "    product_desc.append(i.text)\n",
    "print('\\n Product Description  \\n\\n',product_desc)"
   ]
  },
  {
   "cell_type": "code",
   "execution_count": 156,
   "metadata": {},
   "outputs": [
    {
     "name": "stdout",
     "output_type": "stream",
     "text": [
      "length of Brand Name:  39 \n",
      "length of Price:  39 \n",
      "length of Discount Percentage:  39 \n",
      "length of Product Description:  39\n"
     ]
    }
   ],
   "source": [
    "print('length of Brand Name: ',len(brand_names),\n",
    "     '\\nlength of Price: ',len(price__),\n",
    "      '\\nlength of Discount Percentage: ',len(discount__),\n",
    "      '\\nlength of Product Description: ',len(product_desc))"
   ]
  },
  {
   "cell_type": "code",
   "execution_count": 157,
   "metadata": {},
   "outputs": [
    {
     "data": {
      "text/html": [
       "<div>\n",
       "<style scoped>\n",
       "    .dataframe tbody tr th:only-of-type {\n",
       "        vertical-align: middle;\n",
       "    }\n",
       "\n",
       "    .dataframe tbody tr th {\n",
       "        vertical-align: top;\n",
       "    }\n",
       "\n",
       "    .dataframe thead th {\n",
       "        text-align: right;\n",
       "    }\n",
       "</style>\n",
       "<table border=\"1\" class=\"dataframe\">\n",
       "  <thead>\n",
       "    <tr style=\"text-align: right;\">\n",
       "      <th></th>\n",
       "      <th>Brand Name</th>\n",
       "      <th>Product Description</th>\n",
       "      <th>Price</th>\n",
       "      <th>Discount %</th>\n",
       "    </tr>\n",
       "  </thead>\n",
       "  <tbody>\n",
       "    <tr>\n",
       "      <th>0</th>\n",
       "      <td>Fastrack</td>\n",
       "      <td>Mirrored Round Sunglasses (53)</td>\n",
       "      <td>₹733</td>\n",
       "      <td>18% off</td>\n",
       "    </tr>\n",
       "    <tr>\n",
       "      <th>1</th>\n",
       "      <td>hipe</td>\n",
       "      <td>UV Protection Wayfarer Sunglasses (Free Size)</td>\n",
       "      <td>₹189</td>\n",
       "      <td>87% off</td>\n",
       "    </tr>\n",
       "    <tr>\n",
       "      <th>2</th>\n",
       "      <td>Fastrack</td>\n",
       "      <td>Mirrored, UV Protection, Gradient Round Sungla...</td>\n",
       "      <td>₹647</td>\n",
       "      <td>28% off</td>\n",
       "    </tr>\n",
       "    <tr>\n",
       "      <th>3</th>\n",
       "      <td>LIZA ANGEL</td>\n",
       "      <td>UV Protection Wayfarer Sunglasses (Free Size)</td>\n",
       "      <td>₹275</td>\n",
       "      <td>65% off</td>\n",
       "    </tr>\n",
       "    <tr>\n",
       "      <th>4</th>\n",
       "      <td>Fastrack</td>\n",
       "      <td>UV Protection, Mirrored Retro Square Sunglasse...</td>\n",
       "      <td>₹804</td>\n",
       "      <td>10% off</td>\n",
       "    </tr>\n",
       "    <tr>\n",
       "      <th>5</th>\n",
       "      <td>Poland</td>\n",
       "      <td>UV Protection Shield Sunglasses (Free Size)</td>\n",
       "      <td>₹162</td>\n",
       "      <td>67% off</td>\n",
       "    </tr>\n",
       "    <tr>\n",
       "      <th>6</th>\n",
       "      <td>PHENOMENAL</td>\n",
       "      <td>Polarized, UV Protection Round Sunglasses (49)</td>\n",
       "      <td>₹399</td>\n",
       "      <td>80% off</td>\n",
       "    </tr>\n",
       "    <tr>\n",
       "      <th>7</th>\n",
       "      <td>ROYAL SON</td>\n",
       "      <td>UV Protection, Polarized Wayfarer Sunglasses (56)</td>\n",
       "      <td>₹664</td>\n",
       "      <td>66% off</td>\n",
       "    </tr>\n",
       "    <tr>\n",
       "      <th>8</th>\n",
       "      <td>Fastrack</td>\n",
       "      <td>UV Protection Retro Square Sunglasses (Free Size)</td>\n",
       "      <td>₹612</td>\n",
       "      <td>31% off</td>\n",
       "    </tr>\n",
       "    <tr>\n",
       "      <th>9</th>\n",
       "      <td>Flizz</td>\n",
       "      <td>Mirrored, UV Protection Wayfarer Sunglasses (F...</td>\n",
       "      <td>₹399</td>\n",
       "      <td>81% off</td>\n",
       "    </tr>\n",
       "    <tr>\n",
       "      <th>10</th>\n",
       "      <td>ROZZETTA CRAFT</td>\n",
       "      <td>UV Protection, Night Vision, Riding Glasses Ro...</td>\n",
       "      <td>₹404</td>\n",
       "      <td>79% off</td>\n",
       "    </tr>\n",
       "    <tr>\n",
       "      <th>11</th>\n",
       "      <td>PIRASO</td>\n",
       "      <td>UV Protection, Gradient Wayfarer Sunglasses (55)</td>\n",
       "      <td>₹339</td>\n",
       "      <td>78% off</td>\n",
       "    </tr>\n",
       "    <tr>\n",
       "      <th>12</th>\n",
       "      <td>ROZZETTA CRAFT</td>\n",
       "      <td>UV Protection, Gradient Round Sunglasses (Free...</td>\n",
       "      <td>₹449</td>\n",
       "      <td>77% off</td>\n",
       "    </tr>\n",
       "    <tr>\n",
       "      <th>13</th>\n",
       "      <td>Fastrack</td>\n",
       "      <td>UV Protection, Gradient Rectangular Sunglasses...</td>\n",
       "      <td>₹738</td>\n",
       "      <td>26% off</td>\n",
       "    </tr>\n",
       "    <tr>\n",
       "      <th>14</th>\n",
       "      <td>ROYAL SON</td>\n",
       "      <td>UV Protection Wayfarer Sunglasses (Free Size)</td>\n",
       "      <td>₹217</td>\n",
       "      <td>78% off</td>\n",
       "    </tr>\n",
       "    <tr>\n",
       "      <th>15</th>\n",
       "      <td>ROYAL SON</td>\n",
       "      <td>UV Protection, Gradient, Mirrored, Riding Glas...</td>\n",
       "      <td>₹599</td>\n",
       "      <td>70% off</td>\n",
       "    </tr>\n",
       "    <tr>\n",
       "      <th>16</th>\n",
       "      <td>kingsunglasses</td>\n",
       "      <td>Mirrored Aviator Sunglasses (53)</td>\n",
       "      <td>₹299</td>\n",
       "      <td>80% off</td>\n",
       "    </tr>\n",
       "    <tr>\n",
       "      <th>17</th>\n",
       "      <td>Singco</td>\n",
       "      <td>Mirrored, UV Protection Wayfarer, Wayfarer, Wa...</td>\n",
       "      <td>₹252</td>\n",
       "      <td>74% off</td>\n",
       "    </tr>\n",
       "    <tr>\n",
       "      <th>18</th>\n",
       "      <td>hipe</td>\n",
       "      <td>UV Protection Rectangular Sunglasses (Free Size)</td>\n",
       "      <td>₹209</td>\n",
       "      <td>79% off</td>\n",
       "    </tr>\n",
       "    <tr>\n",
       "      <th>19</th>\n",
       "      <td>ROYAL SON</td>\n",
       "      <td>UV Protection Round Sunglasses (Free Size)</td>\n",
       "      <td>₹664</td>\n",
       "      <td>66% off</td>\n",
       "    </tr>\n",
       "    <tr>\n",
       "      <th>20</th>\n",
       "      <td>Elligator</td>\n",
       "      <td>UV Protection Round Sunglasses (54)</td>\n",
       "      <td>₹331</td>\n",
       "      <td>74% off</td>\n",
       "    </tr>\n",
       "    <tr>\n",
       "      <th>21</th>\n",
       "      <td>kingsunglasses</td>\n",
       "      <td>UV Protection, Gradient, Mirrored, Riding Glas...</td>\n",
       "      <td>₹210</td>\n",
       "      <td>83% off</td>\n",
       "    </tr>\n",
       "    <tr>\n",
       "      <th>22</th>\n",
       "      <td>Singco</td>\n",
       "      <td>UV Protection Retro Square Sunglasses (60)</td>\n",
       "      <td>₹355</td>\n",
       "      <td>82% off</td>\n",
       "    </tr>\n",
       "    <tr>\n",
       "      <th>23</th>\n",
       "      <td>ROYAL SON</td>\n",
       "      <td>UV Protection Aviator Sunglasses (58)</td>\n",
       "      <td>₹265</td>\n",
       "      <td>79% off</td>\n",
       "    </tr>\n",
       "    <tr>\n",
       "      <th>24</th>\n",
       "      <td>PIRASO</td>\n",
       "      <td>UV Protection Rectangular Sunglasses (Free Size)</td>\n",
       "      <td>₹331</td>\n",
       "      <td>87% off</td>\n",
       "    </tr>\n",
       "    <tr>\n",
       "      <th>25</th>\n",
       "      <td>hipe</td>\n",
       "      <td>UV Protection, Others Aviator Sunglasses (32)</td>\n",
       "      <td>₹269</td>\n",
       "      <td>79% off</td>\n",
       "    </tr>\n",
       "    <tr>\n",
       "      <th>26</th>\n",
       "      <td>kingsunglasses</td>\n",
       "      <td>UV Protection Round Sunglasses (54)</td>\n",
       "      <td>₹349</td>\n",
       "      <td>78% off</td>\n",
       "    </tr>\n",
       "    <tr>\n",
       "      <th>27</th>\n",
       "      <td>ROYAL SON</td>\n",
       "      <td>Gradient, UV Protection Round Sunglasses (Free...</td>\n",
       "      <td>₹699</td>\n",
       "      <td>65% off</td>\n",
       "    </tr>\n",
       "    <tr>\n",
       "      <th>28</th>\n",
       "      <td>PHENOMENAL</td>\n",
       "      <td>UV Protection, Riding Glasses Wayfarer Sunglas...</td>\n",
       "      <td>₹319</td>\n",
       "      <td>84% off</td>\n",
       "    </tr>\n",
       "    <tr>\n",
       "      <th>29</th>\n",
       "      <td>PHENOMENAL</td>\n",
       "      <td>UV Protection, Riding Glasses Rectangular Sung...</td>\n",
       "      <td>₹399</td>\n",
       "      <td>80% off</td>\n",
       "    </tr>\n",
       "    <tr>\n",
       "      <th>30</th>\n",
       "      <td>ROZZETTA CRAFT</td>\n",
       "      <td>UV Protection Retro Square Sunglasses (88)</td>\n",
       "      <td>₹426</td>\n",
       "      <td>80% off</td>\n",
       "    </tr>\n",
       "    <tr>\n",
       "      <th>31</th>\n",
       "      <td>ROYAL SON</td>\n",
       "      <td>UV Protection, Mirrored Retro Square Sunglasse...</td>\n",
       "      <td>₹699</td>\n",
       "      <td>65% off</td>\n",
       "    </tr>\n",
       "    <tr>\n",
       "      <th>32</th>\n",
       "      <td>ROZZETTA CRAFT</td>\n",
       "      <td>UV Protection Clubmaster Sunglasses (Free Size)</td>\n",
       "      <td>₹426</td>\n",
       "      <td>78% off</td>\n",
       "    </tr>\n",
       "    <tr>\n",
       "      <th>33</th>\n",
       "      <td>NuVew</td>\n",
       "      <td>UV Protection Round Sunglasses (52)</td>\n",
       "      <td>₹235</td>\n",
       "      <td>75% off</td>\n",
       "    </tr>\n",
       "    <tr>\n",
       "      <th>34</th>\n",
       "      <td>Fastrack</td>\n",
       "      <td>Polarized, UV Protection Rectangular Sunglasse...</td>\n",
       "      <td>₹1,093</td>\n",
       "      <td>15% off</td>\n",
       "    </tr>\n",
       "    <tr>\n",
       "      <th>35</th>\n",
       "      <td>PIRASO</td>\n",
       "      <td>UV Protection Aviator Sunglasses (Free Size)</td>\n",
       "      <td>₹237</td>\n",
       "      <td>85% off</td>\n",
       "    </tr>\n",
       "    <tr>\n",
       "      <th>36</th>\n",
       "      <td>GANSTA</td>\n",
       "      <td>Mirrored, Riding Glasses, Others Sports Sungla...</td>\n",
       "      <td>₹292</td>\n",
       "      <td>85% off</td>\n",
       "    </tr>\n",
       "    <tr>\n",
       "      <th>37</th>\n",
       "      <td>PIRASO</td>\n",
       "      <td>UV Protection Aviator Sunglasses (54)</td>\n",
       "      <td>₹237</td>\n",
       "      <td>85% off</td>\n",
       "    </tr>\n",
       "    <tr>\n",
       "      <th>38</th>\n",
       "      <td>GANSTA</td>\n",
       "      <td>UV Protection Retro Square Sunglasses (60)</td>\n",
       "      <td>₹260</td>\n",
       "      <td>86% off</td>\n",
       "    </tr>\n",
       "  </tbody>\n",
       "</table>\n",
       "</div>"
      ],
      "text/plain": [
       "        Brand Name                                Product Description   Price  \\\n",
       "0         Fastrack                     Mirrored Round Sunglasses (53)    ₹733   \n",
       "1             hipe      UV Protection Wayfarer Sunglasses (Free Size)    ₹189   \n",
       "2         Fastrack  Mirrored, UV Protection, Gradient Round Sungla...    ₹647   \n",
       "3       LIZA ANGEL      UV Protection Wayfarer Sunglasses (Free Size)    ₹275   \n",
       "4         Fastrack  UV Protection, Mirrored Retro Square Sunglasse...    ₹804   \n",
       "5           Poland        UV Protection Shield Sunglasses (Free Size)    ₹162   \n",
       "6       PHENOMENAL     Polarized, UV Protection Round Sunglasses (49)    ₹399   \n",
       "7        ROYAL SON  UV Protection, Polarized Wayfarer Sunglasses (56)    ₹664   \n",
       "8         Fastrack  UV Protection Retro Square Sunglasses (Free Size)    ₹612   \n",
       "9            Flizz  Mirrored, UV Protection Wayfarer Sunglasses (F...    ₹399   \n",
       "10  ROZZETTA CRAFT  UV Protection, Night Vision, Riding Glasses Ro...    ₹404   \n",
       "11          PIRASO   UV Protection, Gradient Wayfarer Sunglasses (55)    ₹339   \n",
       "12  ROZZETTA CRAFT  UV Protection, Gradient Round Sunglasses (Free...    ₹449   \n",
       "13        Fastrack  UV Protection, Gradient Rectangular Sunglasses...    ₹738   \n",
       "14       ROYAL SON      UV Protection Wayfarer Sunglasses (Free Size)    ₹217   \n",
       "15       ROYAL SON  UV Protection, Gradient, Mirrored, Riding Glas...    ₹599   \n",
       "16  kingsunglasses                   Mirrored Aviator Sunglasses (53)    ₹299   \n",
       "17          Singco  Mirrored, UV Protection Wayfarer, Wayfarer, Wa...    ₹252   \n",
       "18            hipe   UV Protection Rectangular Sunglasses (Free Size)    ₹209   \n",
       "19       ROYAL SON         UV Protection Round Sunglasses (Free Size)    ₹664   \n",
       "20       Elligator                UV Protection Round Sunglasses (54)    ₹331   \n",
       "21  kingsunglasses  UV Protection, Gradient, Mirrored, Riding Glas...    ₹210   \n",
       "22          Singco         UV Protection Retro Square Sunglasses (60)    ₹355   \n",
       "23       ROYAL SON              UV Protection Aviator Sunglasses (58)    ₹265   \n",
       "24          PIRASO   UV Protection Rectangular Sunglasses (Free Size)    ₹331   \n",
       "25            hipe      UV Protection, Others Aviator Sunglasses (32)    ₹269   \n",
       "26  kingsunglasses                UV Protection Round Sunglasses (54)    ₹349   \n",
       "27       ROYAL SON  Gradient, UV Protection Round Sunglasses (Free...    ₹699   \n",
       "28      PHENOMENAL  UV Protection, Riding Glasses Wayfarer Sunglas...    ₹319   \n",
       "29      PHENOMENAL  UV Protection, Riding Glasses Rectangular Sung...    ₹399   \n",
       "30  ROZZETTA CRAFT         UV Protection Retro Square Sunglasses (88)    ₹426   \n",
       "31       ROYAL SON  UV Protection, Mirrored Retro Square Sunglasse...    ₹699   \n",
       "32  ROZZETTA CRAFT    UV Protection Clubmaster Sunglasses (Free Size)    ₹426   \n",
       "33           NuVew                UV Protection Round Sunglasses (52)    ₹235   \n",
       "34        Fastrack  Polarized, UV Protection Rectangular Sunglasse...  ₹1,093   \n",
       "35          PIRASO       UV Protection Aviator Sunglasses (Free Size)    ₹237   \n",
       "36          GANSTA  Mirrored, Riding Glasses, Others Sports Sungla...    ₹292   \n",
       "37          PIRASO              UV Protection Aviator Sunglasses (54)    ₹237   \n",
       "38          GANSTA         UV Protection Retro Square Sunglasses (60)    ₹260   \n",
       "\n",
       "   Discount %  \n",
       "0     18% off  \n",
       "1     87% off  \n",
       "2     28% off  \n",
       "3     65% off  \n",
       "4     10% off  \n",
       "5     67% off  \n",
       "6     80% off  \n",
       "7     66% off  \n",
       "8     31% off  \n",
       "9     81% off  \n",
       "10    79% off  \n",
       "11    78% off  \n",
       "12    77% off  \n",
       "13    26% off  \n",
       "14    78% off  \n",
       "15    70% off  \n",
       "16    80% off  \n",
       "17    74% off  \n",
       "18    79% off  \n",
       "19    66% off  \n",
       "20    74% off  \n",
       "21    83% off  \n",
       "22    82% off  \n",
       "23    79% off  \n",
       "24    87% off  \n",
       "25    79% off  \n",
       "26    78% off  \n",
       "27    65% off  \n",
       "28    84% off  \n",
       "29    80% off  \n",
       "30    80% off  \n",
       "31    65% off  \n",
       "32    78% off  \n",
       "33    75% off  \n",
       "34    15% off  \n",
       "35    85% off  \n",
       "36    85% off  \n",
       "37    85% off  \n",
       "38    86% off  "
      ]
     },
     "execution_count": 157,
     "metadata": {},
     "output_type": "execute_result"
    }
   ],
   "source": [
    "second=pd.DataFrame({'Brand Name':brand_names,'Product Description':product_desc,'Price':price__,'Discount %':discount__})\n",
    "second"
   ]
  },
  {
   "cell_type": "markdown",
   "metadata": {},
   "source": [
    "#### 3rd page"
   ]
  },
  {
   "cell_type": "code",
   "execution_count": 158,
   "metadata": {},
   "outputs": [],
   "source": [
    "next=driver.find_element_by_xpath(\"/html/body/div[1]/div/div[3]/div[1]/div[2]/div[12]/div/div/nav/a[12]\")\n",
    "next.click()"
   ]
  },
  {
   "cell_type": "code",
   "execution_count": 159,
   "metadata": {},
   "outputs": [
    {
     "name": "stdout",
     "output_type": "stream",
     "text": [
      "\n",
      " Brand Name \n",
      "\n",
      " ['PIRASO', 'GANSTA', 'PIRASO', 'povty', 'GANSTA', 'Singco India', 'Singco India', 'EYELLUSION', 'ROYAL SON', 'Fastrack', 'Fravy', 'AISLIN', 'kingsunglasses', 'PHENOMENAL', 'Fastrack', 'PIRASO', 'ROYAL SON', 'United Colors of Benetton', 'Badfella', 'ROZZETTA CRAFT', 'Fastrack', 'Fastrack', 'Singco India']\n"
     ]
    }
   ],
   "source": [
    "# extracting  all tags having Brand name\n",
    "brand=driver.find_elements_by_xpath(\"//div[@class='_2WkVRV']\")\n",
    "# using for loop to extracting text\n",
    "brand_name_=[]\n",
    "for i in brand:\n",
    "    brand_name_.append(i.text)\n",
    "brand_name_=brand_name_[0:23]\n",
    "print('\\n Brand Name \\n\\n',brand_name_)"
   ]
  },
  {
   "cell_type": "code",
   "execution_count": 160,
   "metadata": {},
   "outputs": [
    {
     "name": "stdout",
     "output_type": "stream",
     "text": [
      "\n",
      " Price \n",
      "\n",
      " ['₹237', '₹260', '₹237', '₹349', '₹292', '₹214', '₹252', '₹225', '₹379', '₹679', '₹299', '₹498', '₹249', '₹399', '₹649', '₹331', '₹265', '₹1,405', '₹269', '₹349', '₹558', '₹758', '₹309']\n"
     ]
    }
   ],
   "source": [
    "price=driver.find_elements_by_xpath(\"//div[@class='_30jeq3']\")\n",
    "# using for loop to extracting text\n",
    "price1_=[]\n",
    "for i in price:\n",
    "    price1_.append(i.text)\n",
    "price1_=price1_[0:23]\n",
    "print('\\n Price \\n\\n',price1_)"
   ]
  },
  {
   "cell_type": "code",
   "execution_count": 161,
   "metadata": {},
   "outputs": [
    {
     "name": "stdout",
     "output_type": "stream",
     "text": [
      "\n",
      " Discount % \n",
      "\n",
      " ['85% off', '86% off', '85% off', '65% off', '85% off', '69% off', '83% off', '77% off', '74% off', '24% off', '80% off', '67% off', '79% off', '80% off', '18% off', '79% off', '79% off', '65% off', '73% off', '80% off', '30% off', '15% off', '81% off']\n"
     ]
    }
   ],
   "source": [
    "discount=driver.find_elements_by_xpath(\"//div[@class='_3Ay6Sb']\")\n",
    "# using for loop to extracting text\n",
    "discount1_=[]\n",
    "for i in discount:\n",
    "    discount1_.append(i.text)\n",
    "discount1_=discount1_[0:23]\n",
    "print('\\n Discount % \\n\\n',discount1_)"
   ]
  },
  {
   "cell_type": "code",
   "execution_count": 162,
   "metadata": {},
   "outputs": [
    {
     "name": "stdout",
     "output_type": "stream",
     "text": [
      "\n",
      " Product Description  \n",
      "\n",
      " ['UV Protection Aviator Sunglasses (54)', 'UV Protection, Riding Glasses Wayfarer Sunglasses (53)', 'UV Protection Wayfarer Sunglasses (32)', 'UV Protection Wayfarer Sunglasses (Free Size)', 'UV Protection, Night Vision, Riding Glasses Aviator Sun...', 'UV Protection, Riding Glasses, Others Aviator, Wayfarer...', 'Mirrored, Riding Glasses, Others Sports Sunglasses (50)', 'Mirrored Aviator Sunglasses (55)', 'UV Protection Aviator Sunglasses (Free Size)', 'UV Protection Retro Square Sunglasses (Free Size)', 'UV Protection, Gradient Butterfly, Retro Square Sunglas...', 'UV Protection, Mirrored Round Sunglasses (54)', 'UV Protection, Mirrored Retro Square Sunglasses (53)', 'Gradient, UV Protection Wayfarer Sunglasses (Free Size)', 'UV Protection Aviator Sunglasses (50)', 'UV Protection Wayfarer Sunglasses (55)', 'Gradient, UV Protection Aviator Sunglasses (56)', 'Polarized, UV Protection Retro Square Sunglasses (53)', 'UV Protection, UV Protection Retro Square Sunglasses (F...', 'Gradient, UV Protection Wayfarer Sunglasses (Free Size)', 'UV Protection Wayfarer Sunglasses (Free Size)', 'Riding Glasses, Others, UV Protection Wrap-around Sungl...', 'UV Protection Over-sized Sunglasses (60)']\n"
     ]
    }
   ],
   "source": [
    "product=driver.find_elements_by_xpath(\"//a[@class='IRpwTa']\")\n",
    "product_descr=[]\n",
    "for i in product:\n",
    "    product_descr.append(i.text)\n",
    "product_descr=product_descr[0:23]\n",
    "print('\\n Product Description  \\n\\n',product_descr)"
   ]
  },
  {
   "cell_type": "code",
   "execution_count": 163,
   "metadata": {},
   "outputs": [
    {
     "name": "stdout",
     "output_type": "stream",
     "text": [
      "length of Brand Name:  23 \n",
      "length of Price:  23 \n",
      "length of Discount Percentage:  23 \n",
      "length of Product Description:  23\n"
     ]
    }
   ],
   "source": [
    "print('length of Brand Name: ',len(brand_name_),\n",
    "     '\\nlength of Price: ',len(price1_),\n",
    "      '\\nlength of Discount Percentage: ',len(discount1_),\n",
    "      '\\nlength of Product Description: ',len(product_descr))"
   ]
  },
  {
   "cell_type": "code",
   "execution_count": 164,
   "metadata": {},
   "outputs": [
    {
     "data": {
      "text/html": [
       "<div>\n",
       "<style scoped>\n",
       "    .dataframe tbody tr th:only-of-type {\n",
       "        vertical-align: middle;\n",
       "    }\n",
       "\n",
       "    .dataframe tbody tr th {\n",
       "        vertical-align: top;\n",
       "    }\n",
       "\n",
       "    .dataframe thead th {\n",
       "        text-align: right;\n",
       "    }\n",
       "</style>\n",
       "<table border=\"1\" class=\"dataframe\">\n",
       "  <thead>\n",
       "    <tr style=\"text-align: right;\">\n",
       "      <th></th>\n",
       "      <th>Brand Name</th>\n",
       "      <th>Product Description</th>\n",
       "      <th>Price</th>\n",
       "      <th>Discount %</th>\n",
       "    </tr>\n",
       "  </thead>\n",
       "  <tbody>\n",
       "    <tr>\n",
       "      <th>0</th>\n",
       "      <td>PIRASO</td>\n",
       "      <td>UV Protection Aviator Sunglasses (54)</td>\n",
       "      <td>₹237</td>\n",
       "      <td>85% off</td>\n",
       "    </tr>\n",
       "    <tr>\n",
       "      <th>1</th>\n",
       "      <td>GANSTA</td>\n",
       "      <td>UV Protection, Riding Glasses Wayfarer Sunglas...</td>\n",
       "      <td>₹260</td>\n",
       "      <td>86% off</td>\n",
       "    </tr>\n",
       "    <tr>\n",
       "      <th>2</th>\n",
       "      <td>PIRASO</td>\n",
       "      <td>UV Protection Wayfarer Sunglasses (32)</td>\n",
       "      <td>₹237</td>\n",
       "      <td>85% off</td>\n",
       "    </tr>\n",
       "    <tr>\n",
       "      <th>3</th>\n",
       "      <td>povty</td>\n",
       "      <td>UV Protection Wayfarer Sunglasses (Free Size)</td>\n",
       "      <td>₹349</td>\n",
       "      <td>65% off</td>\n",
       "    </tr>\n",
       "    <tr>\n",
       "      <th>4</th>\n",
       "      <td>GANSTA</td>\n",
       "      <td>UV Protection, Night Vision, Riding Glasses Av...</td>\n",
       "      <td>₹292</td>\n",
       "      <td>85% off</td>\n",
       "    </tr>\n",
       "    <tr>\n",
       "      <th>5</th>\n",
       "      <td>Singco India</td>\n",
       "      <td>UV Protection, Riding Glasses, Others Aviator,...</td>\n",
       "      <td>₹214</td>\n",
       "      <td>69% off</td>\n",
       "    </tr>\n",
       "    <tr>\n",
       "      <th>6</th>\n",
       "      <td>Singco India</td>\n",
       "      <td>Mirrored, Riding Glasses, Others Sports Sungla...</td>\n",
       "      <td>₹252</td>\n",
       "      <td>83% off</td>\n",
       "    </tr>\n",
       "    <tr>\n",
       "      <th>7</th>\n",
       "      <td>EYELLUSION</td>\n",
       "      <td>Mirrored Aviator Sunglasses (55)</td>\n",
       "      <td>₹225</td>\n",
       "      <td>77% off</td>\n",
       "    </tr>\n",
       "    <tr>\n",
       "      <th>8</th>\n",
       "      <td>ROYAL SON</td>\n",
       "      <td>UV Protection Aviator Sunglasses (Free Size)</td>\n",
       "      <td>₹379</td>\n",
       "      <td>74% off</td>\n",
       "    </tr>\n",
       "    <tr>\n",
       "      <th>9</th>\n",
       "      <td>Fastrack</td>\n",
       "      <td>UV Protection Retro Square Sunglasses (Free Size)</td>\n",
       "      <td>₹679</td>\n",
       "      <td>24% off</td>\n",
       "    </tr>\n",
       "    <tr>\n",
       "      <th>10</th>\n",
       "      <td>Fravy</td>\n",
       "      <td>UV Protection, Gradient Butterfly, Retro Squar...</td>\n",
       "      <td>₹299</td>\n",
       "      <td>80% off</td>\n",
       "    </tr>\n",
       "    <tr>\n",
       "      <th>11</th>\n",
       "      <td>AISLIN</td>\n",
       "      <td>UV Protection, Mirrored Round Sunglasses (54)</td>\n",
       "      <td>₹498</td>\n",
       "      <td>67% off</td>\n",
       "    </tr>\n",
       "    <tr>\n",
       "      <th>12</th>\n",
       "      <td>kingsunglasses</td>\n",
       "      <td>UV Protection, Mirrored Retro Square Sunglasse...</td>\n",
       "      <td>₹249</td>\n",
       "      <td>79% off</td>\n",
       "    </tr>\n",
       "    <tr>\n",
       "      <th>13</th>\n",
       "      <td>PHENOMENAL</td>\n",
       "      <td>Gradient, UV Protection Wayfarer Sunglasses (F...</td>\n",
       "      <td>₹399</td>\n",
       "      <td>80% off</td>\n",
       "    </tr>\n",
       "    <tr>\n",
       "      <th>14</th>\n",
       "      <td>Fastrack</td>\n",
       "      <td>UV Protection Aviator Sunglasses (50)</td>\n",
       "      <td>₹649</td>\n",
       "      <td>18% off</td>\n",
       "    </tr>\n",
       "    <tr>\n",
       "      <th>15</th>\n",
       "      <td>PIRASO</td>\n",
       "      <td>UV Protection Wayfarer Sunglasses (55)</td>\n",
       "      <td>₹331</td>\n",
       "      <td>79% off</td>\n",
       "    </tr>\n",
       "    <tr>\n",
       "      <th>16</th>\n",
       "      <td>ROYAL SON</td>\n",
       "      <td>Gradient, UV Protection Aviator Sunglasses (56)</td>\n",
       "      <td>₹265</td>\n",
       "      <td>79% off</td>\n",
       "    </tr>\n",
       "    <tr>\n",
       "      <th>17</th>\n",
       "      <td>United Colors of Benetton</td>\n",
       "      <td>Polarized, UV Protection Retro Square Sunglass...</td>\n",
       "      <td>₹1,405</td>\n",
       "      <td>65% off</td>\n",
       "    </tr>\n",
       "    <tr>\n",
       "      <th>18</th>\n",
       "      <td>Badfella</td>\n",
       "      <td>UV Protection, UV Protection Retro Square Sung...</td>\n",
       "      <td>₹269</td>\n",
       "      <td>73% off</td>\n",
       "    </tr>\n",
       "    <tr>\n",
       "      <th>19</th>\n",
       "      <td>ROZZETTA CRAFT</td>\n",
       "      <td>Gradient, UV Protection Wayfarer Sunglasses (F...</td>\n",
       "      <td>₹349</td>\n",
       "      <td>80% off</td>\n",
       "    </tr>\n",
       "    <tr>\n",
       "      <th>20</th>\n",
       "      <td>Fastrack</td>\n",
       "      <td>UV Protection Wayfarer Sunglasses (Free Size)</td>\n",
       "      <td>₹558</td>\n",
       "      <td>30% off</td>\n",
       "    </tr>\n",
       "    <tr>\n",
       "      <th>21</th>\n",
       "      <td>Fastrack</td>\n",
       "      <td>Riding Glasses, Others, UV Protection Wrap-aro...</td>\n",
       "      <td>₹758</td>\n",
       "      <td>15% off</td>\n",
       "    </tr>\n",
       "    <tr>\n",
       "      <th>22</th>\n",
       "      <td>Singco India</td>\n",
       "      <td>UV Protection Over-sized Sunglasses (60)</td>\n",
       "      <td>₹309</td>\n",
       "      <td>81% off</td>\n",
       "    </tr>\n",
       "  </tbody>\n",
       "</table>\n",
       "</div>"
      ],
      "text/plain": [
       "                   Brand Name  \\\n",
       "0                      PIRASO   \n",
       "1                      GANSTA   \n",
       "2                      PIRASO   \n",
       "3                       povty   \n",
       "4                      GANSTA   \n",
       "5                Singco India   \n",
       "6                Singco India   \n",
       "7                  EYELLUSION   \n",
       "8                   ROYAL SON   \n",
       "9                    Fastrack   \n",
       "10                      Fravy   \n",
       "11                     AISLIN   \n",
       "12             kingsunglasses   \n",
       "13                 PHENOMENAL   \n",
       "14                   Fastrack   \n",
       "15                     PIRASO   \n",
       "16                  ROYAL SON   \n",
       "17  United Colors of Benetton   \n",
       "18                   Badfella   \n",
       "19             ROZZETTA CRAFT   \n",
       "20                   Fastrack   \n",
       "21                   Fastrack   \n",
       "22               Singco India   \n",
       "\n",
       "                                  Product Description   Price Discount %  \n",
       "0               UV Protection Aviator Sunglasses (54)    ₹237    85% off  \n",
       "1   UV Protection, Riding Glasses Wayfarer Sunglas...    ₹260    86% off  \n",
       "2              UV Protection Wayfarer Sunglasses (32)    ₹237    85% off  \n",
       "3       UV Protection Wayfarer Sunglasses (Free Size)    ₹349    65% off  \n",
       "4   UV Protection, Night Vision, Riding Glasses Av...    ₹292    85% off  \n",
       "5   UV Protection, Riding Glasses, Others Aviator,...    ₹214    69% off  \n",
       "6   Mirrored, Riding Glasses, Others Sports Sungla...    ₹252    83% off  \n",
       "7                    Mirrored Aviator Sunglasses (55)    ₹225    77% off  \n",
       "8        UV Protection Aviator Sunglasses (Free Size)    ₹379    74% off  \n",
       "9   UV Protection Retro Square Sunglasses (Free Size)    ₹679    24% off  \n",
       "10  UV Protection, Gradient Butterfly, Retro Squar...    ₹299    80% off  \n",
       "11      UV Protection, Mirrored Round Sunglasses (54)    ₹498    67% off  \n",
       "12  UV Protection, Mirrored Retro Square Sunglasse...    ₹249    79% off  \n",
       "13  Gradient, UV Protection Wayfarer Sunglasses (F...    ₹399    80% off  \n",
       "14              UV Protection Aviator Sunglasses (50)    ₹649    18% off  \n",
       "15             UV Protection Wayfarer Sunglasses (55)    ₹331    79% off  \n",
       "16    Gradient, UV Protection Aviator Sunglasses (56)    ₹265    79% off  \n",
       "17  Polarized, UV Protection Retro Square Sunglass...  ₹1,405    65% off  \n",
       "18  UV Protection, UV Protection Retro Square Sung...    ₹269    73% off  \n",
       "19  Gradient, UV Protection Wayfarer Sunglasses (F...    ₹349    80% off  \n",
       "20      UV Protection Wayfarer Sunglasses (Free Size)    ₹558    30% off  \n",
       "21  Riding Glasses, Others, UV Protection Wrap-aro...    ₹758    15% off  \n",
       "22           UV Protection Over-sized Sunglasses (60)    ₹309    81% off  "
      ]
     },
     "execution_count": 164,
     "metadata": {},
     "output_type": "execute_result"
    }
   ],
   "source": [
    "import pandas as pd\n",
    "third=pd.DataFrame({'Brand Name':brand_name_,'Product Description':product_descr,'Price':price1_,'Discount %':discount1_})\n",
    "third\n"
   ]
  },
  {
   "cell_type": "code",
   "execution_count": 165,
   "metadata": {},
   "outputs": [
    {
     "data": {
      "text/html": [
       "<div>\n",
       "<style scoped>\n",
       "    .dataframe tbody tr th:only-of-type {\n",
       "        vertical-align: middle;\n",
       "    }\n",
       "\n",
       "    .dataframe tbody tr th {\n",
       "        vertical-align: top;\n",
       "    }\n",
       "\n",
       "    .dataframe thead th {\n",
       "        text-align: right;\n",
       "    }\n",
       "</style>\n",
       "<table border=\"1\" class=\"dataframe\">\n",
       "  <thead>\n",
       "    <tr style=\"text-align: right;\">\n",
       "      <th></th>\n",
       "      <th>Brand Name</th>\n",
       "      <th>Product Description</th>\n",
       "      <th>Price</th>\n",
       "      <th>Discount %</th>\n",
       "    </tr>\n",
       "  </thead>\n",
       "  <tbody>\n",
       "    <tr>\n",
       "      <th>0</th>\n",
       "      <td>LIZA ANGEL</td>\n",
       "      <td>UV Protection, Riding Glasses, Others Aviator,...</td>\n",
       "      <td>₹275</td>\n",
       "      <td>65% off</td>\n",
       "    </tr>\n",
       "    <tr>\n",
       "      <th>1</th>\n",
       "      <td>Singco India</td>\n",
       "      <td>UV Protection Rectangular Sunglasses (Free Size)</td>\n",
       "      <td>₹214</td>\n",
       "      <td>69% off</td>\n",
       "    </tr>\n",
       "    <tr>\n",
       "      <th>2</th>\n",
       "      <td>Fastrack</td>\n",
       "      <td>Mirrored, UV Protection Wayfarer Sunglasses (F...</td>\n",
       "      <td>₹513</td>\n",
       "      <td>35% off</td>\n",
       "    </tr>\n",
       "    <tr>\n",
       "      <th>3</th>\n",
       "      <td>kingsunglasses</td>\n",
       "      <td>UV Protection Wayfarer Sunglasses (Free Size)</td>\n",
       "      <td>₹299</td>\n",
       "      <td>88% off</td>\n",
       "    </tr>\n",
       "    <tr>\n",
       "      <th>4</th>\n",
       "      <td>Fastrack</td>\n",
       "      <td>Gradient, UV Protection Wayfarer Sunglasses (F...</td>\n",
       "      <td>₹758</td>\n",
       "      <td>15% off</td>\n",
       "    </tr>\n",
       "  </tbody>\n",
       "</table>\n",
       "</div>"
      ],
      "text/plain": [
       "       Brand Name                                Product Description Price  \\\n",
       "0      LIZA ANGEL  UV Protection, Riding Glasses, Others Aviator,...  ₹275   \n",
       "1    Singco India   UV Protection Rectangular Sunglasses (Free Size)  ₹214   \n",
       "2        Fastrack  Mirrored, UV Protection Wayfarer Sunglasses (F...  ₹513   \n",
       "3  kingsunglasses      UV Protection Wayfarer Sunglasses (Free Size)  ₹299   \n",
       "4        Fastrack  Gradient, UV Protection Wayfarer Sunglasses (F...  ₹758   \n",
       "\n",
       "  Discount %  \n",
       "0    65% off  \n",
       "1    69% off  \n",
       "2    35% off  \n",
       "3    88% off  \n",
       "4    15% off  "
      ]
     },
     "execution_count": 165,
     "metadata": {},
     "output_type": "execute_result"
    }
   ],
   "source": [
    "df=pd.concat([first,second,third],axis=0)\n",
    "df.reset_index()\n",
    "df.head()"
   ]
  },
  {
   "cell_type": "markdown",
   "metadata": {},
   "source": [
    "# "
   ]
  },
  {
   "cell_type": "markdown",
   "metadata": {},
   "source": [
    "## Q7.Scrape 100 reviews data from flipkart.com for iphone11 phone from https://www.flipkart.com/apple-iphone-11-black-64-gb-includes-earpods-power-adapter/p/itm0f37c2240b217?pid=MOBFKCTSVZAXUHGR&lid=LSTMOBFKCTSVZAXUHGREPBFGI&marketplace"
   ]
  },
  {
   "cell_type": "code",
   "execution_count": 166,
   "metadata": {},
   "outputs": [],
   "source": [
    "import pandas as pd\n",
    "import selenium\n",
    "from selenium import webdriver"
   ]
  },
  {
   "cell_type": "code",
   "execution_count": 167,
   "metadata": {},
   "outputs": [
    {
     "data": {
      "text/plain": [
       "<selenium.webdriver.chrome.webdriver.WebDriver (session=\"563629e08fcec818f16e4c66a360ba83\")>"
      ]
     },
     "execution_count": 167,
     "metadata": {},
     "output_type": "execute_result"
    }
   ],
   "source": [
    "driver=webdriver.Chrome('chromedriver.exe')\n",
    "driver"
   ]
  },
  {
   "cell_type": "code",
   "execution_count": 168,
   "metadata": {},
   "outputs": [],
   "source": [
    "driver.get('https://www.flipkart.com/apple-iphone-11-black-64-gb-includes-earpods-power-adapter/p/itm0f37c2240b217?pid=MOBFKCTSVZAXUHGR&lid=LSTMOBFKCTSVZAXUHGREPBFGI&marketplace')"
   ]
  },
  {
   "cell_type": "code",
   "execution_count": 169,
   "metadata": {},
   "outputs": [],
   "source": [
    "allr=driver.find_element_by_xpath(\"//div[@class='_3UAT2v _16PBlm']\")\n",
    "allr.click()"
   ]
  },
  {
   "cell_type": "code",
   "execution_count": 170,
   "metadata": {},
   "outputs": [
    {
     "data": {
      "text/plain": [
       "['https://www.flipkart.com/apple-iphone-11-black-64-gb-includes-earpods-power-adapter/product-reviews/itm0f37c2240b217?pid=MOBFKCTSVZAXUHGR&lid=LSTMOBFKCTSVZAXUHGREPBFGI&marketplace=FLIPKART&page=1',\n",
       " 'https://www.flipkart.com/apple-iphone-11-black-64-gb-includes-earpods-power-adapter/product-reviews/itm0f37c2240b217?pid=MOBFKCTSVZAXUHGR&lid=LSTMOBFKCTSVZAXUHGREPBFGI&marketplace=FLIPKART&page=2',\n",
       " 'https://www.flipkart.com/apple-iphone-11-black-64-gb-includes-earpods-power-adapter/product-reviews/itm0f37c2240b217?pid=MOBFKCTSVZAXUHGR&lid=LSTMOBFKCTSVZAXUHGREPBFGI&marketplace=FLIPKART&page=3',\n",
       " 'https://www.flipkart.com/apple-iphone-11-black-64-gb-includes-earpods-power-adapter/product-reviews/itm0f37c2240b217?pid=MOBFKCTSVZAXUHGR&lid=LSTMOBFKCTSVZAXUHGREPBFGI&marketplace=FLIPKART&page=4',\n",
       " 'https://www.flipkart.com/apple-iphone-11-black-64-gb-includes-earpods-power-adapter/product-reviews/itm0f37c2240b217?pid=MOBFKCTSVZAXUHGR&lid=LSTMOBFKCTSVZAXUHGREPBFGI&marketplace=FLIPKART&page=5',\n",
       " 'https://www.flipkart.com/apple-iphone-11-black-64-gb-includes-earpods-power-adapter/product-reviews/itm0f37c2240b217?pid=MOBFKCTSVZAXUHGR&lid=LSTMOBFKCTSVZAXUHGREPBFGI&marketplace=FLIPKART&page=6',\n",
       " 'https://www.flipkart.com/apple-iphone-11-black-64-gb-includes-earpods-power-adapter/product-reviews/itm0f37c2240b217?pid=MOBFKCTSVZAXUHGR&lid=LSTMOBFKCTSVZAXUHGREPBFGI&marketplace=FLIPKART&page=7',\n",
       " 'https://www.flipkart.com/apple-iphone-11-black-64-gb-includes-earpods-power-adapter/product-reviews/itm0f37c2240b217?pid=MOBFKCTSVZAXUHGR&lid=LSTMOBFKCTSVZAXUHGREPBFGI&marketplace=FLIPKART&page=8',\n",
       " 'https://www.flipkart.com/apple-iphone-11-black-64-gb-includes-earpods-power-adapter/product-reviews/itm0f37c2240b217?pid=MOBFKCTSVZAXUHGR&lid=LSTMOBFKCTSVZAXUHGREPBFGI&marketplace=FLIPKART&page=9',\n",
       " 'https://www.flipkart.com/apple-iphone-11-black-64-gb-includes-earpods-power-adapter/product-reviews/itm0f37c2240b217?pid=MOBFKCTSVZAXUHGR&lid=LSTMOBFKCTSVZAXUHGREPBFGI&marketplace=FLIPKART&page=10',\n",
       " 'https://www.flipkart.com/apple-iphone-11-black-64-gb-includes-earpods-power-adapter/product-reviews/itm0f37c2240b217?pid=MOBFKCTSVZAXUHGR&lid=LSTMOBFKCTSVZAXUHGREPBFGI&marketplace=FLIPKART&page=2']"
      ]
     },
     "execution_count": 170,
     "metadata": {},
     "output_type": "execute_result"
    }
   ],
   "source": [
    "url=driver.find_elements_by_xpath(\"//div[@class='_2MImiq _1Qnn1K']//a\")\n",
    "url_=[]\n",
    "for i in url:\n",
    "    url_.append(i.get_attribute('href'))\n",
    "url_"
   ]
  },
  {
   "cell_type": "code",
   "execution_count": 171,
   "metadata": {},
   "outputs": [
    {
     "name": "stdout",
     "output_type": "stream",
     "text": [
      "\n",
      " Rating  \n",
      "\n",
      " ['5', '5', '5', '5', '5', '5', '5', '4', '5', '5', '5', '5', '5', '5', '5', '5', '5', '5', '5', '4', '5', '5', '5', '4', '5', '5', '5', '5', '5', '5', '5', '5', '5', '4', '5', '5', '5', '5', '5', '5', '5', '5', '5', '4', '5', '5', '5', '5', '5', '5', '5', '5', '5', '5', '5', '5', '5', '5', '5', '5', '5', '4', '5', '5', '4', '5', '4', '5', '5', '5', '5', '5', '5', '5', '5', '4', '5', '5', '5', '4', '5', '5', '5', '5', '5', '5', '3', '3', '4', '5', '5', '5', '5', '5', '5', '4', '4', '5', '5', '5']\n"
     ]
    }
   ],
   "source": [
    "rating=[]\n",
    "for i in url_:\n",
    "    driver.get(i)\n",
    "    rat=driver.find_elements_by_xpath(\"//div[@class='_3LWZlK _1BLPMq']\")\n",
    "    for i in rat:\n",
    "        rating.append(i.text)\n",
    "rating=rating[0:100]\n",
    "print('\\n Rating  \\n\\n',rating)"
   ]
  },
  {
   "cell_type": "code",
   "execution_count": 172,
   "metadata": {},
   "outputs": [
    {
     "name": "stdout",
     "output_type": "stream",
     "text": [
      "\n",
      " Review Summary  \n",
      "\n",
      " ['Simply awesome', 'Brilliant', 'Perfect product!', 'Worth every penny', 'Fabulous!', 'Great product', 'Worth every penny', 'Good choice', 'Highly recommended', 'Perfect product!', 'Perfect product!', 'Highly recommended', 'Worth every penny', 'Perfect product!', 'Simply awesome', 'Worth every penny', 'Highly recommended', 'Terrific', 'Classy product', 'Nice product', 'Mind-blowing purchase', 'Terrific purchase', 'Simply awesome', 'Good quality product', 'Very poor', 'Best in the market!', 'Perfect product!', 'Must buy!', 'Fabulous!', 'Mind-blowing purchase', 'Mind-blowing purchase', 'Wonderful', 'Worth every penny', 'Great product', 'Very Good', 'Perfect product!', 'Classy product', 'Perfect product!', 'Just wow!', 'Awesome', 'Terrific', 'Terrific purchase', 'Awesome', 'Perfect product!', 'Brilliant', 'Perfect product!', 'Awesome', 'Perfect product!', 'Excellent', 'Not recommended at all', 'Fabulous!', 'Excellent', 'Must buy!', 'Value-for-money', 'Brilliant', 'Terrific purchase', 'Good quality product', 'Perfect product!', 'Value-for-money', 'Just wow!', 'Super!', 'Best in the market!', 'Mind-blowing purchase', 'Awesome', 'Excellent', 'Must buy!', 'Excellent', 'Pretty good', 'Worth every penny', 'Highly recommended', 'Mind-blowing purchase', 'Good quality product', 'Fabulous!', 'Just wow!', 'Super!', 'Awesome', 'Terrific purchase', 'Awesome', 'Decent product', 'Does the job', 'Pretty good', 'Classy product', 'Wonderful', 'Very poor', 'Super!', 'Fabulous!', 'Excellent', 'Best in the market!', 'Wonderful', 'Nice product', 'Perfect product!', 'Highly recommended', 'Worth every penny', 'Perfect product!', 'Simply awesome', 'Worth every penny', 'Highly recommended', 'Terrific', 'Classy product', 'Nice product']\n"
     ]
    }
   ],
   "source": [
    "review_summary=[]\n",
    "for i in url_:\n",
    "    driver.get(i)\n",
    "    rs=driver.find_elements_by_xpath(\"//p[@class='_2-N8zT']\")\n",
    "    for i in rs:\n",
    "        review_summary.append(i.text)\n",
    "review_summary=review_summary[0:100]\n",
    "print('\\n Review Summary  \\n\\n',review_summary)"
   ]
  },
  {
   "cell_type": "code",
   "execution_count": 173,
   "metadata": {},
   "outputs": [
    {
     "name": "stdout",
     "output_type": "stream",
     "text": [
      "\n",
      " Full Review  \n",
      "\n",
      " ['Really satisfied with the Product I received... It’s totally genuine and the packaging was also really good so if ur planning to buy just go for it.', 'The Best Phone for the Money  The iPhone 11 offers superb cameras, a more durable design and excellent battery life for an affordable price.  Compelling ultra-wide camera New Night mode is excellent Long battery life', 'Amazing phone with great cameras and better battery which gives you the best performance. I just love the camera .', 'Previously I was using one plus 3t it was a great phone And then I decided to upgrade I am stuck between Samsung s10 plus or iPhone 11 I have seen the specs and everything were good except the display it’s somewhere between 720-1080 and it’s not even an amoled it’s an LCD display But I decided to go with iPhone because I have never used an IOS device I have Been an android user from the past 9 years I ordered IPhone 11 (128gb) product red My experience after using 3 weeks 1. The delivery ... READ MORE', 'This is my first iOS phone. I am very happy with this product. Very much satisfied with this. I love this phone.', 'Amazing Powerful and Durable Gadget.  I’m am very happy with the camera picture quality, Amazing face id unlocked in dark room, Strong battery with perfect screen size as you can carry easily in pocket. This is my third iPhone.  I shifted from android Samsung Note series to iPhone because of the strong build quality and peace of mind for next 3-4 years.  Don’t think to much just go for it and I suggest you to go for minimum 128gb variant or more 256gb.  I’ve attached my puppy pics and no fi... READ MORE', 'i11 is worthy to buy, too much happy with the product. Thank u flipkart I received the item on time..loved it..', 'So far it’s been an AMAZING experience coming back to iOS after nearly a decade but it’s not as versatile as android though phone is sturdy dropped it accidentally a couple of times and nothing happened fortunately camera is awesome', 'iphone 11 is a very good phone to buy only if you can compromise for the display. The display on this is device is pretty good but you can get other options with better displays in this price segment. If you can survive with an HD+ LCD panel with thicker bezels and a notch up top then this is a very good phone for you. Cameras are awesome, battery backup excellent, great performance and a decent premium look. Good job Apple !', 'It’s a must buy who is looking for an upgrade from previous generation of iPhones. If you are using XR then still you can hold on for sometime and upgrade to 2020 model else this phone is a must buy . Camera quality is amazing and wide angle is something to count upon. Performance wise it’s amazing and feels premium while holding in hand. So a big YES for this device. Go for 128 GB variant as the 4K videos will occupy lots of space and the storage can get over very quickly. Try to buy it with... READ MORE', 'Value for money❤️❤️ Its awesome mobile phone in the world ... Display was very good and bright .. Trust me freinds you r never regret after Buying.. Just go for it.... I love this phone and i switch to iphone x to 11', 'What a camera .....just awesome ..you can feel this iPhone just awesome . Good for gaming also ...try pubg in hd it’s just wow', 'Best budget Iphone till date ❤️ go for it guys without second thought. Let me explain you guys about Camera, Display, battery, and performance.  Camera: at this price range there is no comparison of camera, you’ll love the picture quality as well as video quality. I am a Vlogger I wanted an iPhone with 4k video by front camera and I got this phone and I am more than happy 😃  Battery: I use this phone roughly as I am active social media person and I have a youtube channel. so the battery ba... READ MORE', \"Iphone is just awesome.. battery backup is very very nice.. continuously for 10 hours we can use it.camera is just awesome.. display is just fab.i love it alot..i had to wait 15 days for it as i pre ordered it..overalll it's worth the price..these all images are clicked by my iPhone..and i love it.\", 'Excellent camera, good performance, no lag. The lcd display is also good.. but difference come when we watch movie in prime and Netflix, the colours are not vibrant.. as we see in amoled display.. and the charger in box is of 5 watts.. takes more than 3 hours to charge from 0 to 100.. so guys be prepare to buy 18 watts charger . Finally I am an android user, it was my first Iapple phone, I promise u guys the iOS is so smooth.. overall the phone is damn good.... close eyes to buy it.. thanks t... READ MORE', 'It’s been almost a month since I have been using this phone. I upgraded from an iPhone 8. The main issue with my 8 was battery and this phone is just awesome when it comes to battery. It lasts a day and a half for me with my regular use , internet connected always with 4g Can’t move forward without saying this. Battery of this phone is a life saver when I am traveling or at work when I don’t get the option to charge Camera is superb. Front cam selfies and back cam photos are just awesome. ... READ MORE', \"It's my first time to use iOS phone and I am loving my upgradation 😍😍 I love the color, I love the assebility of the phone....I need to learn more about its functionality, but as far as I have seen, it's quite easy and it has a lot of functions to work on, specially if you are a content writer or a blogger you get a lot of content creation platforms and they are really amazing.  This phone not only for good quality photography but a lot of other task too.😍💯\", 'Really worth of money. i just love it. It is the best phone ever.', 'Totally in love with this ❤ the camera quality is amazing just love it 😘😘😘 itsss dammnnnnnn amazing... Must buy iPhone 11 this is my best experience ever ☀👌👌🧡🧡🧡🧡🧡 thanku apple ❤', 'Awesome Phone. Slightly high price but worth. Better than iPhone XR. Camera is superb and wide angle camera is very clear. 12MP selfie camera is also very good. A13 Chip gives a very good and smooth performance.', 'This is my first ever I phone. Before this I was using my google nexus 5. But moving from android to iOS is a great experience. It’s worth at this price. I will highly recommend it if you want to move to iOS. The best part of this phone is it’s camera and it’s battery life. This two things have won my heart. I loved it. Happy to have it in my hand. Still exploring its features. And can’t forget to mention Flipkart service. Very prompt service and fast delivery.', 'Superb Product !!! A big and worthy upgrade from mi 3S to iphone 11 . Totally loved it !', 'I have migrated from OP 7pro... and trust me, iPhone 11 is totally worth it.. following are the reasons:- 1)there is ABSOLUTELY NO ISSUE WITH THE DISPLAY... its crisp, sharp and I found it to be much much better than OP7 pro. Netflix, Prime video all run crisply... you won’t miss a thing. True Tone works flawlessly...the display brightness is perfect. OP have not calibrated their screens properly. 2) iPhone 11 series have really good cameras... others have spoken in depth about them. 3) bat... READ MORE', 'Looking so good 👍 😍 super 👌 stylish 😎 phone Clean box 📦 good 👍 delivery 👌 fast delivery Original box Original iphone 📱 👌 😍😍😍', 'It’s an amazing product from apple and the camera is simply superb. Phone is faster.Night shot is simply superb and detailing and colour differentiation from camera is an added advantage  This review I have written from iPhone 11 only and I am glad to say outside.  Cons wise if we see HD+ display only, no battery percentage indicator as in older iPhone 8. No assistive touch control button in it No oleophobic coating on back panel glass and finger prints are visible but since I bought mint gr... READ MORE', 'After 1 month use I found camera quality best compared to my previous Samsung note 10+.Display not good as note 10 also charging too slow.Apple should add fast charger like 11 plus and pro.Best phone for daily use', 'I just directly switch from iphone 6s to iphone 11 .The best premium smartphone I recommend to everyone. Excellent quality and colors the iphone have in 11 series. Camera quality is just awesome and the major feel when we hold in our hands. The sound quality and volume is also higher then the previous models. I will recommend to buy iphone 11 instead of pro models , there is nothing much difference as this model contains everything which fulfill our needs.  Only one thing that I dislike abo... READ MORE', 'Upgraded from iphone 6 to 11 best phone for iphone users battery is much better than other iphones camera is awesome love to use it.camera is so clear in night.', \"It's very high performances devise i am like the service of flipkart delevary very fast and packing very nice perfect phone\", 'Well you all know the specifications . One of a kind. Best iPhone till date. Many enhancements to the camera app with many options. Love the glass body with matte finish in the lens area on the back. Lovely colours to choose from. Best battery in an iPhone till date, enough to last more than a day in normal usage. I tested my iPhone 11 battery and lasted for than 24 hours after full charge still with 30% battery charge left. Watched movies for some time. Normal usage on calls, browsing, musi... READ MORE', 'This will help you more. See if you are planning to buy iPhone 11. I will say. Yes. But there are some plans I just want to disclose before you buy. 1) If you are an existing iPhone X/XS/XS Max/ XR user, better you guys do not think it to buy. You guys have more or less better gadget. 2) If you are an android user and planning to buy premium phone. I will suggest them to please buy iPhone instead of buying an Android. I bet you will never go back to android after using IOS. Now I want to shar... READ MORE', 'The built quality is not very premium. The battery back is great . The LCD panel is not so sharp but the brightness level is very High . Camera is super duper awesome. The red colour which people think is bright is actually very soothing and excellent colour to choose from . The A13 Bionic chip is really a flagship processor and can beat any phone which even has 12 gb ram . Camera module is very great and looks very stylish.', 'Really good actually this is my first apple product am using its really awesome performance wise excellent. Am really happy with this iphone11', 'it is very good at performance. Camera is best like before and very smooth response even in water. Don’t buy 12 mini buy iPhone 11 , it is far better than 12 mini believe me ! Have a nice day \\uf8ff ☺️', 'Reviewing again after 5 months. At the beginning the battery and performance was good but it degraded soon. Also I was facing heating issues. The mobile will heat up like a stove sometimes. You cannot even play Pubg even in low settings properly, performance is not a problem but heating is. Also if you play that game for 10 mins the brightness will be automatically down due to over heating even when the auto brightness is set to off. This will not be solved even if u manually increase the bri... READ MORE', 'Great iPhone very snappy experience as apple kind. Upgraded from iPhone 7. Pros -Camera top class - Battery top performed -Chipset no need to say as apple kind -Security as you expect from apple - Display super bright industry leading colour accuracy and super responsive -Build quality as expect from apple sturdy premium durable beautiful stylish. -Os most stable os in smartphone industry  Cons -No 5G -Display is not based on OLED technology -Charger headphones and 1 apple stic... READ MORE', 'It is just awesome mobile for this price from Apple,  After 10 days review  Battery enough for 1 day even 24*7 Internet will be on and mostly internet usage  Camera is just awesome cool , android 64 MP is equal to this just 12 MP  A13 Bionic chip will give more high performance without hanging  Audio stereo speakers will give Dolby atoms sound with crystal clear  Video recording is like cinematic shots of every sec can be a 4K 60fps. Just awesome this phone iPhone 11 loved one', 'Best Apple iPhone that i have bought at a very reasonable price, camera quality is next level just awesome n of superior quality android phones not even close(RIP) to that and also battery is really good but packaging by Flipkart of iPhone was very poor of such a expensive product, firstly im bit worried about the quality of product if i purchased it through online how was the product but i think now this was mine best decision to bought it through Flipkart online because i got genuine Apple... READ MORE', \"I can say I'm damn impressed with iPhone 11. As they says iPhone 11 have the toughest glass ever in the smartphone which you'll find on the front and back and it's totally smooth. The fit and finish is full apple quality - there's no sense that any cheaping out has happened in the construction. Without saying it's camera features this review won't complete. The iPhone 11 has a dual camera system, consisting of a wide angle len's that's pretty much same as found on the iPhone XR last year, but... READ MORE\", 'Best Quality Product OF iPhone Series , Sound Quality & Camera quality is very awesome, Battery Life is very Sufficient for 24 hr Backup With Full Internet Access , I love this this Product too much , It is very fast & making me Very fast in all my daily Routine Highlights; 1.Camera: 5 STAR 2.Video Recording: 5 star 3.Night mODE sHOOTING & Camera:4 star 4. Audio Quality: Awesome 5. Battery : 5 Star 6. Touch:5 Star 7. Processor: Very Fast The M... READ MORE', 'First thanks to Flipkart for this amazing deal and phone is outstanding. I upgraded from iPhone 7 and this is like very big upgrade. But the packaging was very basic I expected a good packaging as they only wrapped one layer of bubble wrap which I don’t think is enough to protect this expensive phone. And I recommend this phone and seller as well.  And I’m posting this review after using it for 4 days.', 'Superfast delivery by Flipkart. Thanks.  1. iPhone 11 is a pretty solid phone for the money you are paying. 2. All the bad reviews about the display is confusing. It’s not that bad. 3. I switched from a Oneplus 7t. I have no complaints about the display quality of iPhone. Yes, it’s not OLED, so, we are missing on the deep blacks. But that’s it. It is a very colour accurate display. Gets adequately bright and I could not find any pixelation. 4. Performance is one of the best, if not best, in ... READ MORE', 'Smooth like butter, camera like fantabulous, sound is crystal clear & its red color is damn attractive, i am just loving it. Must buy if you love photography.  Lucky to get it in sale, thank you Flipkart.', \"Again back to apple iphone after a gap of 2-3 years. It's pleasure to use iOS and the quality product by Apple. Iphone 11 still works like a beast in 2021 also. It really capable of doing day to day usage as well as hard core gaming. Battery is awesome. I'm really too much satisfied with it. Apart fto the very gorgious IPS LCD (AMOLED will be better) everything is mind boggling. Iphone💕.\", 'impressive super phone and best in class camera ,sound and face unlock is super fast just see and phone is unlock and fast in daily apps use', 'Battery backup is extraordinary, camera is decent & performance offered by A13 bionic is awsome. The display is good in practical usage like the visibility of display is very good in direct sun light compare to pro models. Iam extremely satisfied for the money I spent.', 'Well while switching from android to iOS the first thing you need to be careful about is that you will loose all your whatsapp chat backups as both are different operating systems. Camera clarity is awesome and though being an lcd screen clarity and resolution is good. Battery backup is also good unlike previous gen iPhone. So far the experience is good will Padre after a few months of usage.  P.S the black is more of a dark grey shade and not jet black', 'In love with this iphone great performance,camera ,battery everything. Go for it have a uncompareble battery backup, no doubts in iPhone camera here You can see the picture which is shot on my iPhone In love with this iphone great performance,camera ,battery everything. Go for it have a uncompareble battery backup, no doubts in iPhone camera here You can see the picture which is shot on my iPhone In love with this iphone great performance,camera ,battery everything. Go for it have a uncompare... READ MORE', 'Best in class. Battery backup is good especially when you play games like Pubg COD. But it is sort of heavy when you hold in hands. Portrait mode is best to click pictures. Stage light effect is awesome. Try to click photos outside in nature because photos inside home or room will not give you the quality in any phone even in DSLR.', 'Very excited to have this phone. This phone has the real power unlike the android phones having SD 855 . The battery life is very good and the camera quality is excellent as comapred to redmi and other phones except google pixel. I M enjoying every single bit of it. Would recommed only if you have the budget.', \"I upgraded (downgraded?) from my iPhone X since the phone fell down and I didn't want to repair the screen. The box that the phone came in was super slim and I was worried that there'd be no 5W charger with it and my fears were confirmed. However, thankfully I had the 18W USB-C PD charger from Apple which I bought for my iPhone X and it worked perfectly. The charging time is as lethargic as ever though and it takes about 1:30 mins or even 2 hours depending on charge remaining. I'll list some ... READ MORE\", 'Its Very awesome product working and good camera quality and all about best product and also flipkart is very great deal and offer nice price', 'I am using this phone for 5 days and its one of the best camera out there ❤️ the screen is not oled and i am coming from iphone xs so its little bit not up to the mark i would say But overall value for money💕😍the battery back up is far better than my iphone xs and its worth in my apple ecosystem💫❤️if u are an apple User and have the eco system then go for it❤️though i will be getting the new iphone but its pretty good💫', 'Best and amazing product.....phone looks so premium.... battary is also good as expected .... Wide angle camera is so addictive ...if you are a IOS lover....then this phone will be the best choice for you all!!💯🔥', 'Excellent camera and display touching very nice and smooth very improvement against iPhone XR and new processor is very fast', 'Awesome purchase. Amazing phone with good battery backup. It’s a top notch device. White colour looks amazing. Phone has a few extra feature than iPhone XR. Overall, this is value for money', 'Always love the apple products, upgraded from old iPhone 6S plus to this after having my first baby. I just love to click baby’s photos with it. Overall I just love this phone. Battery back up is okay, sound quality is good. Haven’t tested yet waterproof yet. Only one thing I hate is apple could have given charger & headphones in box.', 'Value for money 5 star rating Excellent camera Battery backup full day in single charge.  Tougher and water resistant design, glossy back. The screen has excellent brightness and contrast. Apple A13 Bionic is the fastest smartphone chip on the planet. Excellent battery life, fast charging support. Stereo speakers with great quality.', 'Amazing camera and feel super machine I am not describe my feeling but this is amazing Phone I am so lucky I have this', 'They are selling cheep quality items. There is a black line on the edge of the display. Waiting for the replacement..  Update:today I got the replacement from flipkart.. The second one is nice and the display and camera quality is much better than the previous one.. Thanks for the support', 'awesome phone to have. it has got many smart features apart from mind blowing looks, camera, display, battery and sound. have fallen in love with this phone. must buy phone if you have got enough money. thanks to flipkart and apple of course..', 'Its a fabulous mobile look awesome performance unbeaten camera like dslr battery good i think this is a beast of mobile', 'Dear friends... I want to share my experience with you about this amazing I phone 11....this is my first iPhone and special things about this mobile is it has great camera, battery backup and awesome display.... I mean everything is perfect.loved it 👍👍👍', \"Just got this iphone 11 And it is most powerful mobile phone I have used ever  So,go for it if you want a phone with best specification like camera,battery backup,display, A13 bionic chip  That's my review about this phone but yours can be differ from me....\", 'Amazing phone and on great deal I received with super fast delivery by Flipkart...', 'finally an iPhone with very nice battery backup. update from iPhone 7 and happy to have it. camera is not up to the mark in low light but overall a recommended phone if your budget allows 😀', \"I'm switching this phone to oppo reno 10x zoom It's really impressive Rarely I'm missing smooth display touch response like oppo reno but I really loved it. Camera really impressive\", 'Worth the money’ starting first from its performance it beats out all phones , second the smoothness of camera is awesome, contrast ratio is much than expected. Price will not matter if u r a quality person, if not other phones are available with better discount', \"I'm Really happy with the product Delivery was fast as well ..it was a gift for my sister and she loved it so much.\", 'Great iphone. I am writing this review after 2 months of usage. Camera is excellent, especially the nightmode Display perfect Battery backup awesome Sound quality very good Overall Apple gives you a perfect iphone in this range. Really in love with iPhone 11', 'Did an upgrade from 6s plus to iphone 11. Ao far the experience is well and good. Felt smoother than 6s plus. The camera quality is superb. Battery backup is descent. Not a heavy user, and gets power more than a day. Go for it if you need an alrounder iphone in a competitve price.', 'Damn this phone is a blast . Upgraded from android to ios and is a duperb experience. Battery backup is top notch and display also pretty good', 'awesome Phone Smooth Touch Too good Sexyy looks one word Awesome', 'I dreamt about this day from a long time.... Getting an iPhone with my own money.... Super happy and worth spending every penny', \"Just go for it. This phone is really amazing. I ordered it for my wife and we click photos on this thing which are better than dslr. I own OnePlus 6t but it's camera sucks. iPhone is really amazing when it comes to camera. It's worth spending 50k on this. Cons- only display is lcd. While using u don't feel it but if u compare with other phone then u can see difference quite easily. Changing from Android to iphone is bit difficult coz most of things u don't know but I liked it. Some of the a... READ MORE\", 'I rate this product 5* as it has got amazing user experience with the best performing A13 bionic processor. The screen responds and graphics rendering is top notch. With casual gaming and internet browsing, the battery lasts for approx. 1 day. Camera is very good. You will fall in love with the portrait mode. You can call me a loyal Apple customer or whatever but I won’t stop praising the products and overall experience. That user experience matters and is worth every penny you pay.  Below ar... READ MORE', \"It was amazing experience for me. Honestly i am using iPhone first time so I don't have that much past experience about that. But after using 7 days this mobile i want to give some honest feedback. 1- Display 9 out of 10 2- Camera 9.5 out of 10 3- Battery 7 out of 10 4- Performance 9.5 out of 10 5- Features & Functions 10 out of 10 6- Outer looks and colour 10 out of 10 Rest i think i will understand after using this for few months. I will highly recommend you guys if you have budget then you... READ MORE\", \"I've used this phone for over a month now and here are my takeaways. I would like to first talk about the best things about this phone and then the cons of it.  Pros: This phone is a performance beast. It handles large games and applications effortlessly and you won't find any stutters or lags while playing graphic intensive games like pubg, cod , mortal kombat and asphalt.  This phone has only 4gb ram and yet the ram management is amazing, it can keep 3 heavy games in memory without reload... READ MORE\", 'Undoubtedly Iphone 11 is the most successful model till now and its performance is extraordinary and the security features are very impressive, display is more vibrant sound quality Camera Quality 5*****, but Iphone should add accessories too and act like scrooge.', 'Thanks Flipkart For this amazing deal! I had a dream of owning a iphone since i had known about. Im very happy with my purchase & it is totally worth it. Amazing experience all over !!  Anyone who’s thinking of buying it in 2021, i would simply say go for it without any second thoughts ❤️', 'Absolutely powerful gadget. Loved it’s look! Soo glassy and classy. I would definitely recommend this model of Apple. Only disappointed with the 5W charger, one should purchase an 18W adapter for fast charging. Though battery backup is great. Bought it in September 2020, reviewing after so long so I’m gonna put the genuine review here.✅', 'I was torn between the oneplus 8 pro and the iphone 11. I had to shell out extra money for this, but I say if you can afford it, this truely is the best package. Mind blowing camera, battery and overall performance. Face Id works like magic even in complete darkness without firing up the screen brightness. The phones with in display fingerprint scanners do this at night time and it really burns your eyes. I wanted the oneplus for its display but tbh the OLEDs on oneplus is really bad. Flick... READ MORE', 'I purchased the iPhone 11 a month back. I must say Apple has impressed me yet again . I have been an Apple user for past 5 years . The phone is power packed with amazing features . What impressed me the most was the battery backup the phone offers . Battery can easily run upto 1.5 days in single charge with moderate to Heavy usage . If you’re looking for a value for money device , I don’t see any other phone in the price range which can match the iPhone 11 . One thing I didn’t like was that ... READ MORE', 'The ultimate performance Camera is superb The battery backup also very good i never saw iphone gives this much of battery backup If any one wana buy iphone 11 definitely i will recommend this mobile It has the better battery and powerfull processer peak performance glorious camera and the display also 100% high quality lcd display if u had money for for 12 if u dont wana invest much money on that then go for iphone 11 it has maximum same specs only main difference between the 12 and 11 is... READ MORE', \"It's a great phone. From camera to display everything is best for the price. Best camera , best performance. I think everyone should buy it . This phone has best battery life so far in iphone series which I had used earlier. Happy to have it. Thanks Flipkart\", 'Can’t beat the software and hardware integration of apple. Performs like a beast. Great quality camera 6-7 hours screen on time which is good. Nothing much to complaint about the screen. Good connectivity speeds. Great buy and Flipkart’s delivery top notch as usual', 'I use a Note10+ and have been using both iOS and Android devices.  Camera has really good features and portraits are super good, better than Samsung flagship. Overall camera setup can still be enhanced and hopeful for better upgrades on software in next release  Operating system is quite a breeze and user experience of daily usage is very high as compared to Android. I moved to iOS very swiftly in 2 days for all my office work from Note10+  Battery holds up quite well with 4 hrs of call and ... READ MORE', 'The phone is completely good As far as camera Apple is king of it And its a beast in performance And the battery is pretty good too', 'Everything u ll like it when u use this iPhone. Simple changes only not many to lower models but it’s nice to use. Little heavy compared to previous models like 7,8', \"phone is good but in display is 720p lcd in this price range we can get full hd OLED displays with higher refresh rate processor is very good camera is nice but looks kind of oldish in front of todays phone also there's no charging in box had to buy it seperately\", 'I was using Iphone 6s and also Oneplus 6t. Both mobiles were perfectly alright in Photos, gaming, and smooth interface . My 6s mobile getting battery issue. thought upgrade to 11. Really like this mobile of its Internal storage (compare to 6s) , camera and its touch feeling. Its a worth buying mobile for me.', 'We are on apple ecosystem for almost eight years now with couple of iPads and iPhones, including Xr.  Bought iPhone 11 as a gift to my daughter who loves it. We chose for a purple coloured one. Believe me it is gorgeous and towards the lighter shade. Dazzling and brilliant!  The phone is great and does excellent RAM management like any other Apple device.  The screen, though a LCD and lesser ppi as compared to other flagship phones of competitor brands, is a delight to watch with perfect re... READ MORE', 'Nice value for money good and best price I phone mind blowing camera processor very fast other android mobile I am happy India top selling phone 2020', 'Please DONT buy from here,  I purchased Apple iPhone 11. with an exchange of IPhone 7, the exchange did not go well, iPhone 7 had a small scratch out side screen which i could never identify till date, but the FLIPKART person could, so he reduced 50% from exchange rate. I decided not to trade in, but paid money.  iPhone 11 Detail Below --------------------------------------------- It came with no charging, then i have put for charging, it took lot of time for charging, the phone also showe... READ MORE', 'This is my first ever iPhone. And I truly don’t regret switching to IOS from my Android.  It is easily an alternative to a DSLR camera. If you’re obsessed with photos and videos, just don’t think twice or don’t compare to other androids(Samsung S10 lite or OnePlus 8/8T), as it’s far better from them in every field. Comparing will only make you confused.  I am getting an average Screen on Time of around 10 hours with 30 percent left. I haven’t let my device discharged below 30 % as it aff... READ MORE', 'Everything is perfect pictures come out so clearly and at first I wasn’t sure when I got it then when I started to use it and get the hang of it it was amazing!! I can’t wait to see what the next future phones will be like. The screen display on this bad boy are unbelievable they are so clear and never fail me. The performance is super cool there is a lot of cool features as well I like this phone because I feel that it is easy to use and one of my favorite things about this phone is the Face... READ MORE', 'Value for money product. This iphone 11 is really amazing. Again nice release by apple. Great camera, battery backup is excellent. I just love this phone', \"The best all rounder iphone. Flipkart is doing a great job. They're delivery services are blazing fast. I got delivery on the same day. Genuine Apple Product. Working great. Talking about review There's no need of review for iphones. They're simply the best.\", \"I genuinely liked it. One of the best mobile phones I have used. It's sho smooth and it's security is very astonishing. Plus it has a very good camera quality. so overall it's a win win.\", \"If you are looking for a premium phone under 55k, this is the one for you.Got the iPhone 11 during the Republic day sale. Performance is top notch in this price range. Camera's do a perfect job in taking good quality photos and videos. Battery backup too is satisfactory. Writing this review after using for a week. Any further observations would be updated.\"]\n"
     ]
    }
   ],
   "source": [
    "full_review=[]\n",
    "for i in url_:\n",
    "    driver.get(i)\n",
    "    fr=driver.find_elements_by_xpath(\"//div[@class='t-ZTKy']\")\n",
    "    for j in fr:\n",
    "        full_review.append(j.text.replace('\\n',' '))\n",
    "full_review=full_review[0:100]\n",
    "print('\\n Full Review  \\n\\n',full_review)"
   ]
  },
  {
   "cell_type": "code",
   "execution_count": 174,
   "metadata": {},
   "outputs": [
    {
     "name": "stdout",
     "output_type": "stream",
     "text": [
      "length of Rating:  100 \n",
      "length of Review Summary:  100 \n",
      "length of Full Review:  100\n"
     ]
    }
   ],
   "source": [
    "print('length of Rating: ',len(rating),\n",
    "     '\\nlength of Review Summary: ',len(review_summary),\n",
    "      '\\nlength of Full Review: ',len(full_review))"
   ]
  },
  {
   "cell_type": "code",
   "execution_count": 175,
   "metadata": {},
   "outputs": [
    {
     "data": {
      "text/html": [
       "<div>\n",
       "<style scoped>\n",
       "    .dataframe tbody tr th:only-of-type {\n",
       "        vertical-align: middle;\n",
       "    }\n",
       "\n",
       "    .dataframe tbody tr th {\n",
       "        vertical-align: top;\n",
       "    }\n",
       "\n",
       "    .dataframe thead th {\n",
       "        text-align: right;\n",
       "    }\n",
       "</style>\n",
       "<table border=\"1\" class=\"dataframe\">\n",
       "  <thead>\n",
       "    <tr style=\"text-align: right;\">\n",
       "      <th></th>\n",
       "      <th>Rating</th>\n",
       "      <th>Review Summary</th>\n",
       "      <th>Full Review</th>\n",
       "    </tr>\n",
       "  </thead>\n",
       "  <tbody>\n",
       "    <tr>\n",
       "      <th>0</th>\n",
       "      <td>5</td>\n",
       "      <td>Simply awesome</td>\n",
       "      <td>Really satisfied with the Product I received.....</td>\n",
       "    </tr>\n",
       "    <tr>\n",
       "      <th>1</th>\n",
       "      <td>5</td>\n",
       "      <td>Brilliant</td>\n",
       "      <td>The Best Phone for the Money  The iPhone 11 of...</td>\n",
       "    </tr>\n",
       "    <tr>\n",
       "      <th>2</th>\n",
       "      <td>5</td>\n",
       "      <td>Perfect product!</td>\n",
       "      <td>Amazing phone with great cameras and better ba...</td>\n",
       "    </tr>\n",
       "    <tr>\n",
       "      <th>3</th>\n",
       "      <td>5</td>\n",
       "      <td>Worth every penny</td>\n",
       "      <td>Previously I was using one plus 3t it was a gr...</td>\n",
       "    </tr>\n",
       "    <tr>\n",
       "      <th>4</th>\n",
       "      <td>5</td>\n",
       "      <td>Fabulous!</td>\n",
       "      <td>This is my first iOS phone. I am very happy wi...</td>\n",
       "    </tr>\n",
       "    <tr>\n",
       "      <th>...</th>\n",
       "      <td>...</td>\n",
       "      <td>...</td>\n",
       "      <td>...</td>\n",
       "    </tr>\n",
       "    <tr>\n",
       "      <th>95</th>\n",
       "      <td>4</td>\n",
       "      <td>Worth every penny</td>\n",
       "      <td>Everything is perfect pictures come out so cle...</td>\n",
       "    </tr>\n",
       "    <tr>\n",
       "      <th>96</th>\n",
       "      <td>4</td>\n",
       "      <td>Highly recommended</td>\n",
       "      <td>Value for money product. This iphone 11 is rea...</td>\n",
       "    </tr>\n",
       "    <tr>\n",
       "      <th>97</th>\n",
       "      <td>5</td>\n",
       "      <td>Terrific</td>\n",
       "      <td>The best all rounder iphone. Flipkart is doing...</td>\n",
       "    </tr>\n",
       "    <tr>\n",
       "      <th>98</th>\n",
       "      <td>5</td>\n",
       "      <td>Classy product</td>\n",
       "      <td>I genuinely liked it. One of the best mobile p...</td>\n",
       "    </tr>\n",
       "    <tr>\n",
       "      <th>99</th>\n",
       "      <td>5</td>\n",
       "      <td>Nice product</td>\n",
       "      <td>If you are looking for a premium phone under 5...</td>\n",
       "    </tr>\n",
       "  </tbody>\n",
       "</table>\n",
       "<p>100 rows × 3 columns</p>\n",
       "</div>"
      ],
      "text/plain": [
       "   Rating      Review Summary  \\\n",
       "0       5      Simply awesome   \n",
       "1       5           Brilliant   \n",
       "2       5    Perfect product!   \n",
       "3       5   Worth every penny   \n",
       "4       5           Fabulous!   \n",
       "..    ...                 ...   \n",
       "95      4   Worth every penny   \n",
       "96      4  Highly recommended   \n",
       "97      5            Terrific   \n",
       "98      5      Classy product   \n",
       "99      5        Nice product   \n",
       "\n",
       "                                          Full Review  \n",
       "0   Really satisfied with the Product I received.....  \n",
       "1   The Best Phone for the Money  The iPhone 11 of...  \n",
       "2   Amazing phone with great cameras and better ba...  \n",
       "3   Previously I was using one plus 3t it was a gr...  \n",
       "4   This is my first iOS phone. I am very happy wi...  \n",
       "..                                                ...  \n",
       "95  Everything is perfect pictures come out so cle...  \n",
       "96  Value for money product. This iphone 11 is rea...  \n",
       "97  The best all rounder iphone. Flipkart is doing...  \n",
       "98  I genuinely liked it. One of the best mobile p...  \n",
       "99  If you are looking for a premium phone under 5...  \n",
       "\n",
       "[100 rows x 3 columns]"
      ]
     },
     "execution_count": 175,
     "metadata": {},
     "output_type": "execute_result"
    }
   ],
   "source": [
    "df=pd.DataFrame({'Rating':rating,'Review Summary':review_summary,'Full Review':full_review})\n",
    "df"
   ]
  },
  {
   "cell_type": "markdown",
   "metadata": {},
   "source": [
    "# "
   ]
  },
  {
   "cell_type": "markdown",
   "metadata": {},
   "source": [
    "## Q8.Scrape data for first 100 sneakers you find when you visit flipkart.com and search for “sneakers” in the search field."
   ]
  },
  {
   "cell_type": "code",
   "execution_count": 176,
   "metadata": {},
   "outputs": [],
   "source": [
    "import pandas as pd\n",
    "import selenium\n",
    "from selenium import webdriver"
   ]
  },
  {
   "cell_type": "code",
   "execution_count": 177,
   "metadata": {},
   "outputs": [
    {
     "data": {
      "text/plain": [
       "<selenium.webdriver.chrome.webdriver.WebDriver (session=\"81c55b0719069bd1d0849f23723f1cf0\")>"
      ]
     },
     "execution_count": 177,
     "metadata": {},
     "output_type": "execute_result"
    }
   ],
   "source": [
    "driver=webdriver.Chrome('chromedriver.exe')\n",
    "driver"
   ]
  },
  {
   "cell_type": "code",
   "execution_count": 178,
   "metadata": {},
   "outputs": [],
   "source": [
    "driver.get('https://www.flipkart.com/')"
   ]
  },
  {
   "cell_type": "code",
   "execution_count": 179,
   "metadata": {},
   "outputs": [],
   "source": [
    "login_box=driver.find_element_by_xpath(\"//button[@class='_2KpZ6l _2doB4z']\")\n",
    "login_box.click()"
   ]
  },
  {
   "cell_type": "code",
   "execution_count": 180,
   "metadata": {},
   "outputs": [],
   "source": [
    "enter=driver.find_element_by_name('q')\n",
    "enter.send_keys('sneakers')"
   ]
  },
  {
   "cell_type": "code",
   "execution_count": 181,
   "metadata": {},
   "outputs": [],
   "source": [
    "search=driver.find_element_by_xpath(\"//button[@class='L0Z3Pu']\")\n",
    "search.click()"
   ]
  },
  {
   "cell_type": "code",
   "execution_count": 182,
   "metadata": {},
   "outputs": [
    {
     "data": {
      "text/plain": [
       "['https://www.flipkart.com/search?q=sneakers&otracker=search&otracker1=search&marketplace=FLIPKART&as-show=on&as=off&page=1',\n",
       " 'https://www.flipkart.com/search?q=sneakers&otracker=search&otracker1=search&marketplace=FLIPKART&as-show=on&as=off&page=2',\n",
       " 'https://www.flipkart.com/search?q=sneakers&otracker=search&otracker1=search&marketplace=FLIPKART&as-show=on&as=off&page=3',\n",
       " 'https://www.flipkart.com/search?q=sneakers&otracker=search&otracker1=search&marketplace=FLIPKART&as-show=on&as=off&page=4',\n",
       " 'https://www.flipkart.com/search?q=sneakers&otracker=search&otracker1=search&marketplace=FLIPKART&as-show=on&as=off&page=5',\n",
       " 'https://www.flipkart.com/search?q=sneakers&otracker=search&otracker1=search&marketplace=FLIPKART&as-show=on&as=off&page=6',\n",
       " 'https://www.flipkart.com/search?q=sneakers&otracker=search&otracker1=search&marketplace=FLIPKART&as-show=on&as=off&page=7',\n",
       " 'https://www.flipkart.com/search?q=sneakers&otracker=search&otracker1=search&marketplace=FLIPKART&as-show=on&as=off&page=8',\n",
       " 'https://www.flipkart.com/search?q=sneakers&otracker=search&otracker1=search&marketplace=FLIPKART&as-show=on&as=off&page=9',\n",
       " 'https://www.flipkart.com/search?q=sneakers&otracker=search&otracker1=search&marketplace=FLIPKART&as-show=on&as=off&page=10']"
      ]
     },
     "execution_count": 182,
     "metadata": {},
     "output_type": "execute_result"
    }
   ],
   "source": [
    "url=driver.find_elements_by_xpath(\"//div[@class='_2MImiq']//a\")\n",
    "url_=[]\n",
    "for i in url:\n",
    "    url_.append(i.get_attribute('href'))\n",
    "url_=url_[0:10]\n",
    "url_"
   ]
  },
  {
   "cell_type": "code",
   "execution_count": 183,
   "metadata": {},
   "outputs": [
    {
     "name": "stdout",
     "output_type": "stream",
     "text": [
      "\n",
      " Brand Name \n",
      "\n",
      " ['Numenzo', 'HOC', 'Numenzo', 'M K FOOTWEAR', 'Robbie jones', 'CALCADOS', 'PEHANOSA', 'BRUTON', 'Robbie jones', 'Zsyto', 'Nilatin', 'BRUTON', 'KULP', 'ASTEROID', 'Shoes Bank', 'Robbie jones', 'Chevit', 'Labbin', 'World Wear Footwear', 'India hub', 'believe', 'Chevit', 'Chevit', 'Labbin', 'Chevit', 'Numenzo', 'Ktiz', 'Robbie jones', 'STRANGER BROTHERS', 'Robbie jones', 'ESSENCE', 'Chevit', 'bluemaker', 'HOTSTYLE', 'World Wear Footwear', 'tigonis', 'Zsyto', 'Magnolia', 'Stefano Rads', 'LishTree', 'Birde', 'HOTSTYLE', 'D-SNEAKERZ', 'Numenzo', 'World Wear Footwear', 'SCATCHITE', 'ESSENCE', 'HOC', 'Fzzirok', 'Zorth', 'Robbie jones', 'luxury fashion', 'Bonexy', 'bacca bucci', 'World Wear Footwear', 'BRUTON', 'Absolute comfort', 'Jack Diamond', 'Robbie jones', 'India hub', 'SHOELIFE', 'kardam&sons', 'Zixer', 'Robbie jones', 'mannu', 'Absolute comfort', 'Robbie jones', 'Labbin', 'Robbie jones', 'SPARX', 'Zsyto', 'Labbin', 'T-ROCK', 'Zorth', 'M K FOOTWEAR', 'Robbie jones', 'ESSENCE', 'Fzzirok', 'BRUTON', 'Chevit', 'Svpanther', 'ASIAN', 'World Wear Footwear', 'Numenzo', 'Numenzo', 'Zsyto', 'RODDICK SHOES', 'HOC', 'Fzzirok', 'HOCKWOOD', 'ESSENCE', 'BRUTON', 'STRANGER BROTHERS', 'Robbie jones', 'bluemaker', 'BRUTON', 'Absolute comfort', 'ESSENCE', 'Absolute comfort', 'India hub']\n"
     ]
    }
   ],
   "source": [
    "brand_name_=[]\n",
    "for i in url_:\n",
    "    driver.get(i)\n",
    "    brand=driver.find_elements_by_xpath(\"//div[@class='_2WkVRV']\")\n",
    "    for i in brand:\n",
    "        brand_name_.append(i.text)\n",
    "brand_name_=brand_name_[0:100]\n",
    "print('\\n Brand Name \\n\\n',brand_name_)"
   ]
  },
  {
   "cell_type": "code",
   "execution_count": 184,
   "metadata": {},
   "outputs": [
    {
     "name": "stdout",
     "output_type": "stream",
     "text": [
      "\n",
      " Price \n",
      "\n",
      " ['₹449', '₹474', '₹378', '₹449', '₹379', '₹748', '₹495', '₹499', '₹499', '₹298', '₹449', '₹379', '₹399', '₹499', '₹349', '₹379', '₹350', '₹499', '₹240', '₹403', '₹399', '₹683', '₹425', '₹499', '₹599', '₹426', '₹474', '₹495', '₹475', '₹499', '₹399', '₹379', '₹449', '₹199', '₹273', '₹399', '₹398', '₹377', '₹242', '₹499', '₹698', '₹283', '₹349', '₹449', '₹240', '₹379', '₹399', '₹379', '₹349', '₹450', '₹499', '₹499', '₹449', '₹949', '₹240', '₹403', '₹189', '₹635', '₹499', '₹499', '₹449', '₹405', '₹555', '₹499', '₹378', '₹284', '₹449', '₹399', '₹499', '₹699', '₹398', '₹379', '₹499', '₹448', '₹449', '₹759', '₹468', '₹399', '₹474', '₹495', '₹499', '₹629', '₹499', '₹449', '₹407', '₹328', '₹499', '₹379', '₹399', '₹692', '₹468', '₹474', '₹499', '₹499', '₹449', '₹499', '₹298', '₹468', '₹199', '₹403']\n"
     ]
    }
   ],
   "source": [
    "price1_=[]\n",
    "for i in url_:\n",
    "    driver.get(i)\n",
    "    price=driver.find_elements_by_xpath(\"//div[@class='_30jeq3']\")\n",
    "    for i in price:\n",
    "        price1_.append(i.text)\n",
    "price1_=price1_[0:100]\n",
    "print('\\n Price \\n\\n',price1_)"
   ]
  },
  {
   "cell_type": "code",
   "execution_count": 185,
   "metadata": {},
   "outputs": [
    {
     "name": "stdout",
     "output_type": "stream",
     "text": [
      "\n",
      " Discount % \n",
      "\n",
      " ['77% off', '88% off', '62% off', '55% off', '62% off', '62% off', '50% off', '80% off', '50% off', '77% off', '65% off', '81% off', '60% off', '75% off', '65% off', '87% off', '29% off', '50% off', '51% off', '86% off', '60% off', '72% off', '71% off', '50% off', '62% off', '78% off', '63% off', '66% off', '52% off', '50% off', '60% off', '62% off', '55% off', '60% off', '45% off', '60% off', '69% off', '62% off', '65% off', '61% off', '65% off', '43% off', '47% off', '77% off', '51% off', '62% off', '60% off', '81% off', '65% off', '54% off', '50% off', '87% off', '55% off', '62% off', '51% off', '80% off', '62% off', '36% off', '50% off', '86% off', '55% off', '76% off', '44% off', '69% off', '62% off', '71% off', '55% off', '50% off', '50% off', '69% off', '62% off', '50% off', '55% off', '55% off', '50% off', '53% off', '60% off', '88% off', '60% off', '50% off', '21% off', '81% off', '77% off', '59% off', '74% off', '50% off', '81% off', '60% off', '30% off', '53% off', '88% off', '50% off', '50% off', '55% off', '80% off', '70% off', '53% off', '60% off', '86% off', '61% off']\n"
     ]
    }
   ],
   "source": [
    "discount1_=[]\n",
    "for i in url_:\n",
    "    driver.get(i)\n",
    "    discount=driver.find_elements_by_xpath(\"//div[@class='_3Ay6Sb']\")\n",
    "    # using for loop to extracting text\n",
    "    for i in discount:\n",
    "        discount1_.append(i.text)\n",
    "discount1_=discount1_[0:100]\n",
    "print('\\n Discount % \\n\\n',discount1_)"
   ]
  },
  {
   "cell_type": "code",
   "execution_count": 186,
   "metadata": {},
   "outputs": [
    {
     "name": "stdout",
     "output_type": "stream",
     "text": [
      "\n",
      " Product Description  \n",
      "\n",
      " ['Sneakers For Men', 'Sneakers For Men', 'Sneakers For Men', 'Casual Sneakers Shoes For Men Sneakers For Men', 'Sneakers For Men', 'Luxury Fashionable Breathable White shoes for men Sneak...', 'Sneakers For Men', 'Black Sneaker For Men Sneakers For Men', 'Sneakers For Men', 'heart beat Sneakers For Men', \"Original Luxury Branded Fashionable Men's Casual Walkin...\", \"White Sneaker For Men's/Boy's Sneakers For Men\", 'Combo Pack Of 4 Casual Sneakers For Men', 'Super 445 Fashion Sneakers For Men', 'Sneakers For Men', '5011-Latest Collection Stylish Casual Loafer Sneakers S...', 'Casual Sneakers Green Shoes For Men And Boys Sneakers F...', 'Sneakers for men(black_6) Sneakers For Men', 'Speed Set of 5 Pairs Sneakers Outdoors Casuals for Men ...', 'Unique & Perfect Collection Combo Pack of 02 Shoes for ...', 'Fashionable casual sneakers shoes Sneakers For Men', 'Super Stylish & Trendy Combo Pack of 02 Pairs Sneakers ...', 'Sneakers For Men', 'Rockstyle Trending Multicolor Ultralight canvas Sport/ ...', 'Casual Sneakers White Shoes For Men And Boys Sneakers F...', 'Casual Sneakers Green Shoes For Men And Boys Sneakers F...', 'Casuals Sneakers For Men', 'Casual Sneakers Shoes For Men Sneakers For Men', 'casual for men (blue 06) Sneakers For Men', 'Latest Collection-1227 Stylish Casual Sports Sneakers F...', 'Unique & Perfect Collection Combo Pack of 02 Shoes for ...', 'Sneakers For Men', 'Sneakers For Men', 'Sneakers For Men', 'Combo Pack of 4 Casual Shoes Sneakers For Men', 'Sneakers Sneakers For Men', \"Casual , Partywear Sneakers Shoes For Men's And Boys Wh...\", 'Sneakers For Men', 'Sneakers For Men', 'Sneakers Sneakers For Men', 'Sneakers For Men', 'Luxury Fashionable Breathable White shoes for men Sneak...', 'New Fashion Outdoor Trendy Lightweight Casual,Canvas St...', 'Casual Sneakers Green Shoes For Men And Boys Sneakers F...', 'Fashionable casual sneaker shoes Sneakers For Men', 'Sneakers For Men', 'Fashion Sneakers For Men', 'Men 5014 Latest Collection Stylish Casual Sports Loafer...', 'Modern & Trendy Collection Combo Pack of 02 Shoes for M...', 'Casual Sneakers Shoes For Men And Boys Sneakers For Men', 'Fashionable casual sneakers shoes Sneakers For Men', 'Sneakers For Men', 'Sneakers For Men', 'mnnu casual running shoes, walking shoes, Sneakers For ...', 'Sneakers For Men', 'Sneakers For Men', 'Sneakers For Men', 'Casual Sneakers Green Shoes For Men And Boys Sneakers F...', 'Casual Sneakers White Shoes For Men And Boys Sneakers F...', 'Synthetic Leather Casual Sneakers Shoes For Men Sneaker...', 'Sneakers For Men', 'Casual Sneakers Shoes For Men Sneakers For Men', 'Trendy Sneakers For Men', 'Combo Pack Of 4 Casual Sneakers For Men', 'Speed Set of 5 Pairs Sneakers Outdoors Casuals for Men ...', 'Skypy-31 Walking Shoes,Training Shoes,Sneakers,Loafers,...', 'Combo Pack of 4 Latest Collection Stylish Casual Loafer...', 'Sneakers For Men', 'Sneakers For Men', 'Fashion Outdoor Canvas Casual Light Weight Lace-up Even...', 'Sneakers For Men', 'Trendy Sneakers For Men', 'Sneakers For Men', 'Sneakers For Men', 'Casual Sneakers Shoes For Men Sneakers For Men', 'casual shoe for men Sneakers For Men', 'Luxury Fashionable Breathable White shoes for men Sneak...', 'Sneakers For Men', 'Trendy Sneakers For Men', 'Combo Pack Of 4 Casual Sneakers For Men', \"Casual , Partywear Sneakers Shoes For Men's And Boys Wh...\", 'TREAD LITE LUX Sneakers For Men', 'Trenzo II IDP Sneakers For Men', 'Fashionable casual sneakers shoes Sneakers For Men', 'Fashionable casual sneaker shoes Sneakers For Men', 'Combo Pack of 2 Casual Shoes Sneakers For Men', 'Trend Sneakers For Men', 'Casual Sneakers Green Shoes For Men And Boys Sneakers F...', 'Sneakers Sneakers For Men', 'SD-323 Sneakers For Men', 'Speed Set of 5 Pairs Sneakers Outdoors Casuals for Men ...', 'shoes for boys Sneakers For Men', '170 Smart Grey Lace-Ups Casuals for Men Sneakers For Me...', 'Sneakers For Men', 'Simha IDP Sneakers For Men', 'Sneakers For Men', 'White Sneakers Sneakers For Men', 'Casual Sneakers Shoes For Men Sneakers For Men', 'Combo Pack of 2 Walking Shoes Sneakers For Men', 'Chevit Latest Fashion Combo Pack of 2 Pairs Casual Outd...']\n"
     ]
    }
   ],
   "source": [
    "product_descr=[]\n",
    "for i in url_:\n",
    "    driver.get(i)\n",
    "    product=driver.find_elements_by_xpath(\"//a[@class='IRpwTa']\")\n",
    "    # using for loop to extracting text\n",
    "    for i in product:\n",
    "        product_descr.append(i.text)\n",
    "product_descr=product_descr[0:100]\n",
    "print('\\n Product Description  \\n\\n',product_descr)"
   ]
  },
  {
   "cell_type": "code",
   "execution_count": 187,
   "metadata": {},
   "outputs": [
    {
     "name": "stdout",
     "output_type": "stream",
     "text": [
      "length of Brand Name:  100 \n",
      "length of Price:  100 \n",
      "length of Discount Percentage:  100 \n",
      "length of Product Description:  100\n"
     ]
    }
   ],
   "source": [
    "print('length of Brand Name: ',len(brand_name_),\n",
    "     '\\nlength of Price: ',len(price1_),\n",
    "      '\\nlength of Discount Percentage: ',len(discount1_),\n",
    "      '\\nlength of Product Description: ',len(product_descr))"
   ]
  },
  {
   "cell_type": "code",
   "execution_count": 189,
   "metadata": {},
   "outputs": [
    {
     "data": {
      "text/html": [
       "<div>\n",
       "<style scoped>\n",
       "    .dataframe tbody tr th:only-of-type {\n",
       "        vertical-align: middle;\n",
       "    }\n",
       "\n",
       "    .dataframe tbody tr th {\n",
       "        vertical-align: top;\n",
       "    }\n",
       "\n",
       "    .dataframe thead th {\n",
       "        text-align: right;\n",
       "    }\n",
       "</style>\n",
       "<table border=\"1\" class=\"dataframe\">\n",
       "  <thead>\n",
       "    <tr style=\"text-align: right;\">\n",
       "      <th></th>\n",
       "      <th>Brand Name</th>\n",
       "      <th>Product Description</th>\n",
       "      <th>Price</th>\n",
       "      <th>Discount %</th>\n",
       "    </tr>\n",
       "  </thead>\n",
       "  <tbody>\n",
       "    <tr>\n",
       "      <th>0</th>\n",
       "      <td>Numenzo</td>\n",
       "      <td>Sneakers For Men</td>\n",
       "      <td>₹449</td>\n",
       "      <td>77% off</td>\n",
       "    </tr>\n",
       "    <tr>\n",
       "      <th>1</th>\n",
       "      <td>HOC</td>\n",
       "      <td>Sneakers For Men</td>\n",
       "      <td>₹474</td>\n",
       "      <td>88% off</td>\n",
       "    </tr>\n",
       "    <tr>\n",
       "      <th>2</th>\n",
       "      <td>Numenzo</td>\n",
       "      <td>Sneakers For Men</td>\n",
       "      <td>₹378</td>\n",
       "      <td>62% off</td>\n",
       "    </tr>\n",
       "    <tr>\n",
       "      <th>3</th>\n",
       "      <td>M K FOOTWEAR</td>\n",
       "      <td>Casual Sneakers Shoes For Men Sneakers For Men</td>\n",
       "      <td>₹449</td>\n",
       "      <td>55% off</td>\n",
       "    </tr>\n",
       "    <tr>\n",
       "      <th>4</th>\n",
       "      <td>Robbie jones</td>\n",
       "      <td>Sneakers For Men</td>\n",
       "      <td>₹379</td>\n",
       "      <td>62% off</td>\n",
       "    </tr>\n",
       "  </tbody>\n",
       "</table>\n",
       "</div>"
      ],
      "text/plain": [
       "     Brand Name                             Product Description Price  \\\n",
       "0       Numenzo                                Sneakers For Men  ₹449   \n",
       "1           HOC                                Sneakers For Men  ₹474   \n",
       "2       Numenzo                                Sneakers For Men  ₹378   \n",
       "3  M K FOOTWEAR  Casual Sneakers Shoes For Men Sneakers For Men  ₹449   \n",
       "4  Robbie jones                                Sneakers For Men  ₹379   \n",
       "\n",
       "  Discount %  \n",
       "0    77% off  \n",
       "1    88% off  \n",
       "2    62% off  \n",
       "3    55% off  \n",
       "4    62% off  "
      ]
     },
     "execution_count": 189,
     "metadata": {},
     "output_type": "execute_result"
    }
   ],
   "source": [
    "df=pd.DataFrame({'Brand Name':brand_name_,'Product Description':product_descr,'Price':price1_,'Discount %':discount1_})\n",
    "df.head()"
   ]
  },
  {
   "cell_type": "markdown",
   "metadata": {},
   "source": [
    "# "
   ]
  },
  {
   "cell_type": "markdown",
   "metadata": {},
   "source": [
    "# 9.Go to the link - https://www.myntra.com/shoes Set Price filter to “Rs. 6649 to Rs. 13099” , Color filter to “Black”"
   ]
  },
  {
   "cell_type": "code",
   "execution_count": 190,
   "metadata": {},
   "outputs": [],
   "source": [
    "import pandas \n",
    "import selenium\n",
    "from selenium import webdriver"
   ]
  },
  {
   "cell_type": "code",
   "execution_count": 191,
   "metadata": {},
   "outputs": [
    {
     "data": {
      "text/plain": [
       "<selenium.webdriver.chrome.webdriver.WebDriver (session=\"ab83ceb95909814e6888f07293aa07ed\")>"
      ]
     },
     "execution_count": 191,
     "metadata": {},
     "output_type": "execute_result"
    }
   ],
   "source": [
    "driver=webdriver.Chrome('chromedriver.exe')\n",
    "driver"
   ]
  },
  {
   "cell_type": "code",
   "execution_count": 192,
   "metadata": {},
   "outputs": [],
   "source": [
    "driver.get('https://www.myntra.com/shoes')"
   ]
  },
  {
   "cell_type": "code",
   "execution_count": 193,
   "metadata": {},
   "outputs": [],
   "source": [
    "cf=driver.find_element_by_xpath(\"/html/body/div[2]/div/div[1]/main/div[3]/div[1]/section/div/div[6]/ul/li[1]/label\")\n",
    "cf.click()"
   ]
  },
  {
   "cell_type": "code",
   "execution_count": 194,
   "metadata": {},
   "outputs": [],
   "source": [
    "pf=driver.find_element_by_xpath(\"/html/body/div[2]/div/div[1]/main/div[3]/div[1]/section/div/div[5]/ul/li[2]/label/div\")\n",
    "pf.click()"
   ]
  },
  {
   "cell_type": "code",
   "execution_count": 195,
   "metadata": {},
   "outputs": [
    {
     "data": {
      "text/plain": [
       "['https://www.myntra.com/shoes?f=Color%3ABlack_36454f&plaEnabled=false&rf=Price%3A6687.0_13125.0_6687.0%20TO%2013125.0',\n",
       " 'https://www.myntra.com/shoes?f=Color%3ABlack_36454f&plaEnabled=false&rf=Price%3A6687.0_13125.0_6687.0%20TO%2013125.0&p=2',\n",
       " 'https://www.myntra.com/shoes?f=Color%3ABlack_36454f&plaEnabled=false&rf=Price%3A6687.0_13125.0_6687.0%20TO%2013125.0&p=3',\n",
       " 'https://www.myntra.com/shoes?f=Color%3ABlack_36454f&plaEnabled=false&rf=Price%3A6687.0_13125.0_6687.0%20TO%2013125.0&p=4',\n",
       " 'https://www.myntra.com/shoes?f=Color%3ABlack_36454f&plaEnabled=false&rf=Price%3A6687.0_13125.0_6687.0%20TO%2013125.0&p=5']"
      ]
     },
     "execution_count": 195,
     "metadata": {},
     "output_type": "execute_result"
    }
   ],
   "source": [
    "url=driver.find_elements_by_xpath(\"//div[@class='results-showMoreContainer']//a\")\n",
    "urll=[]\n",
    "for i in url:\n",
    "    urll.append(i.get_attribute('href'))\n",
    "urll=urll[0:5] # reduce to 5 pages\n",
    "urll"
   ]
  },
  {
   "cell_type": "code",
   "execution_count": 196,
   "metadata": {},
   "outputs": [
    {
     "name": "stdout",
     "output_type": "stream",
     "text": [
      "\n",
      " Brand Name  \n",
      "\n",
      " ['ALDO', 'Nike', 'ALDO', 'Puma', 'Nike', 'ALDO', 'Nike', 'UNDER ARMOUR', 'Puma', 'UNDER ARMOUR', 'Nike', 'Skechers', 'PUMA Hoops', 'Hush Puppies', 'FORCLAZ By Decathlon', 'Nike', 'Puma', 'ASICS', 'Hush Puppies', 'Hush Puppies', 'Hush Puppies', 'UNDER ARMOUR', 'UNDER ARMOUR', 'Hush Puppies', 'Hush Puppies', 'Puma', 'Nike', 'Puma', 'Hush Puppies', 'Hush Puppies', 'Hush Puppies', 'Hush Puppies', 'Tommy Hilfiger', 'DAVINCHI', 'ALDO', 'Kalenji By Decathlon', 'J.FONTINI', 'Kenneth Cole', 'KIPRUN By Decathlon', 'Ruosh', 'Bugatti', 'J.FONTINI', 'Ruosh', 'Puma', 'Geox', 'Geox', 'FILA', 'UNDER ARMOUR', 'ALDO', 'Kenneth Cole', 'Geox', 'Puma', 'Geox', 'Ruosh', 'RARE RABBIT', 'Nike', 'J.FONTINI', 'Geox', 'Geox', 'Nike', 'Nike', 'Bugatti', 'Ruosh', 'Nike', 'Hush Puppies', 'KLEAT', 'Nike', 'Nike', 'Geox', 'ADIDAS', 'Cole Haan', 'Cole Haan', 'Geox', 'Cole Haan', 'Geox', 'Ruosh', 'Puma', 'Kenneth Cole', 'VIONIC', 'ASICS', 'Kenneth Cole', 'UNDER ARMOUR', 'KLEAT', 'Hush Puppies', 'Lacoste', 'Kenneth Cole', 'J.FONTINI', 'ADIDAS', 'Puma', 'Cole Haan', 'Kenneth Cole', 'Geox', 'Cole Haan', 'Geox', 'Cole Haan', 'Heel & Buckle London', 'Heel & Buckle London', 'Saint G', 'Heel & Buckle London', 'Geox']\n"
     ]
    }
   ],
   "source": [
    "brandd=[]\n",
    "for i in urll:\n",
    "    driver.get(i)\n",
    "    b=driver.find_elements_by_xpath(\"//h3[@class='product-brand']\")\n",
    "    for i in b:\n",
    "        brandd.append(i.text)\n",
    "brandd=brandd[0:100]\n",
    "print('\\n Brand Name  \\n\\n',brandd)"
   ]
  },
  {
   "cell_type": "code",
   "execution_count": 197,
   "metadata": {},
   "outputs": [
    {
     "name": "stdout",
     "output_type": "stream",
     "text": [
      "\n",
      " Short Description  \n",
      "\n",
      " ['Men Driving Shoes', 'Men Sneakers', 'LEBRON XVIII Basketball Shoes', 'Mesh Hybrid Fuego Running', 'Men Sneakers', 'Unisex LEBRON XVIII Basketball', 'Men Running Shoes', 'Women FREE RN 5.0 Shoes', 'Women Liquify Rebel Running', 'Women TriBase Reign 2 Training', 'Men CHALLENGER OG Sneakers', 'Men Leather Slip-On Shoes', 'Men Flex Advantage 4.0Upstream', 'Women Solid Leather Pumps', 'Women Air Max Siren Sneakers', 'TREKKING 100 Boots', 'Men Running Shoes', 'Men Solid Leather Formal Slip-Ons', 'Unisex Clyde Basketball Shoes', 'Men Colourblocked Driving Shoes', 'Men Leather Slip-On Sneakers', 'Women HOVR Rise 2 Training', 'HOVR Sonic 3 Running Shoes', 'Men Leather Slip-On Sneakers', 'Men Leather Derbys', 'Men DBREAK-TYPE Sneakers', 'Men Football Shoes', 'Women Deviate Nitro Running', 'Men Solid Leather Formal Derbys', 'Men Formal Derbys', 'Men Solid Leather Formal Slip-Ons', 'Men Textured Formal Leather Loafers', 'Men Solid Leather Formal Slip-Ons', 'Men Solid Sneakers', 'Men KD500 Running Shoe', 'Women Running Shoes', 'Men Textured Leather Loafers', 'Men Solid Leather Formal Slip-Ons', 'Men Perforated Mule Sneakers', 'Men Textured Leather Loafers', 'Men Textured Derbys', 'Men IGNITE Flash EvoKNIT', 'Men Leather Semiformal Driving', 'Women Sneakers', 'Men Leather Formal Slip Ons', 'GS SC 3Zero IV Basketball', 'Women Sandals', 'Men Solid Leather Formal Derbys', 'Men Formal Leather Brogues', 'Men Leather Formal Derbys', 'Men Solid Leather Formal Derbys', 'Men Formal Leather Brogues', 'Men Leather Formal Derbys', 'Men 365 Evoknit Ignite Ct Football', 'Men Leather Formal Derbys', '', 'Women ZOOM FLY 3 Running Shoes', 'Men Perforations Leather Brogues', 'Men Textured Leather Loafers', 'Men Leather Formal Derbys', 'Women Leather Solid Pumps', 'Men AIR ZOOM PEGASUS 38 Run', 'Men AIR ZOOM PEGASUS 38 Run', 'Men Solid Leather Formal Monk Shoes', 'Men Solid Leather Formal Monks', 'Men REACT MILER 2 Running', 'Men Woven Design Sneakers', 'Men REACT MILER 2 Running', 'Unisex TREY 5 Basketball Shoes', 'Men Leather Driving Shoes', 'Women Edge Lux 4 Running', 'Men GENERATION ZEROGRAND STITCHLITE', 'Men Wingtip Oxford Sneakers', 'Men Leather Slip-On Sneakers', 'Leather Sneakers', 'Men Leather Driving Shoes', 'Men Textured Leather Monks', 'Men Leather Sneakers', 'Men Textured Sneakers', 'Men Running Shoes', 'Men Textured Sneakers', 'HOVR Infinite 2 Running Shoes', 'Men Textured Oxfords', 'Men Woven Design Sneakers', 'Men Colourblocked Sneakers', 'Men Woven Design Loafers', 'Men Solid Loafers', 'Men WhirlZ Running Shoes', 'Men Ultra Triller FM Shoes', 'Women Open Toe Flats', 'Men Formal Derbys', 'Men Leather Formal Monks', 'Women Sneakers', 'Women Solid Leather Loafers', 'Women Leather Sneakers', 'Men Leather Formal Oxfords', 'Women Solid Leather Gladiators', 'Women Heeled Boots', 'Women Solid Leather Heels', 'Women Woven Design Slip-On Sneakers']\n"
     ]
    }
   ],
   "source": [
    "d=[]\n",
    "for i in urll:\n",
    "    driver.get(i)\n",
    "    pd=driver.find_elements_by_xpath(\"//h4[@class='product-product']\")\n",
    "    for i in pd:\n",
    "        d.append(i.text)\n",
    "d=d[0:100]\n",
    "print('\\n Short Description  \\n\\n',d)"
   ]
  },
  {
   "cell_type": "code",
   "execution_count": 198,
   "metadata": {},
   "outputs": [
    {
     "name": "stdout",
     "output_type": "stream",
     "text": [
      "\n",
      " Price  \n",
      "\n",
      " ['Rs. 11999', 'Rs. 9999', 'Rs. 12316Rs. 17595( 30 % OFF)', 'Rs. 6999', 'Rs. 9999', 'Rs. 12316Rs. 17595(30% OFF)', 'Rs. 12999', 'Rs. 6795Rs. 7995(15% OFF)', 'Rs. 8999', 'Rs. 11999', 'Rs. 6965Rs. 8195(15% OFF)', 'Rs. 6999', 'Rs. 6999', 'Rs. 9999', 'Rs. 6965Rs. 8195(15% OFF)', 'Rs. 6999', 'Rs. 6899Rs. 9999(31% OFF)', 'Rs. 8999', 'Rs. 7699Rs. 10999(30% OFF)', 'Rs. 8999', 'Rs. 6999', 'Rs. 9999', 'Rs. 10999', 'Rs. 9999', 'Rs. 7999', 'Rs. 6965Rs. 8195(15% OFF)', 'Rs. 12749Rs. 16999(25% OFF)', 'Rs. 11249Rs. 14999(25% OFF)', 'Rs. 9999', 'Rs. 9999', 'Rs. 9999', 'Rs. 8990', 'Rs. 8999', 'Rs. 7599', 'Rs. 7857Rs. 8449(7% OFF)', 'Rs. 7006Rs. 7149(2% OFF)', 'Rs. 7690', 'Rs. 6990', 'Rs. 6999', 'Rs. 6990', 'Rs. 8990', 'Rs. 6999', 'Rs. 10490', 'Rs. 8999', 'Rs. 8399Rs. 11999(30% OFF)', 'Rs. 7499', 'Rs. 8999', 'Rs. 7066Rs. 13590(48% OFF)', 'Rs. 7490', 'Rs. 7349Rs. 10499(30% OFF)', 'Rs. 8999', 'Rs. 8399Rs. 11999(30% OFF)', 'Rs. 7066Rs. 13590(48% OFF)', 'Rs. 7490', 'Rs. 7349Rs. 10499(30% OFF)', 'Rs. 6999Rs. 9999( 30 % OFF)', 'Rs. 6995Rs. 13990(50% OFF)', 'Rs. 11895Rs. 13995(15% OFF)', 'Rs. 6999', 'Rs. 8043Rs. 11490(30% OFF)', 'Rs. 7194Rs. 11990(40% OFF)', 'Rs. 6990', 'Rs. 8499', 'Rs. 6990', 'Rs. 9995', 'Rs. 9995', 'Rs. 7999', 'Rs. 11495', 'Rs. 9999', 'Rs. 6999', 'Rs. 7999', 'Rs. 11495', 'Rs. 11999', 'Rs. 12999', 'Rs. 9490', 'Rs. 10999', 'Rs. 9990', 'Rs. 6990', 'Rs. 11249Rs. 14999(25% OFF)', 'Rs. 6793Rs. 9990(32% OFF)', 'Rs. 7039Rs. 10999(36% OFF)', 'Rs. 11999', 'Rs. 8590', 'Rs. 11999', 'Rs. 6999', 'Rs. 6999', 'Rs. 8650', 'Rs. 7413Rs. 10590(30% OFF)', 'Rs. 7999', 'Rs. 7990', 'Rs. 7149Rs. 10999(35% OFF)', 'Rs. 6749Rs. 8999(25% OFF)', 'Rs. 6499Rs. 9999(35% OFF)', 'Rs. 11999', 'Rs. 7413Rs. 10590(30% OFF)', 'Rs. 7999Rs. 15999(50% OFF)', 'Rs. 12999', 'Rs. 7999', 'Rs. 8195', 'Rs. 10999']\n"
     ]
    }
   ],
   "source": [
    "p=[]\n",
    "for i in urll:\n",
    "    driver.get(i)\n",
    "\n",
    "    pr=driver.find_elements_by_xpath(\"//div[@class='product-price']\")\n",
    "    for i in pr:\n",
    "        p.append(i.text)\n",
    "p=p[0:100]\n",
    "print('\\n Price  \\n\\n',p)"
   ]
  },
  {
   "cell_type": "code",
   "execution_count": 199,
   "metadata": {},
   "outputs": [
    {
     "name": "stdout",
     "output_type": "stream",
     "text": [
      "length of Brand Name:  100 \n",
      "length of Price:  100 \n",
      "length of Short Description:  100\n"
     ]
    }
   ],
   "source": [
    "print('length of Brand Name: ',len(brandd),\n",
    "     '\\nlength of Price: ',len(p),\n",
    "      '\\nlength of Short Description: ',len(d))"
   ]
  },
  {
   "cell_type": "code",
   "execution_count": 200,
   "metadata": {},
   "outputs": [
    {
     "data": {
      "text/html": [
       "<div>\n",
       "<style scoped>\n",
       "    .dataframe tbody tr th:only-of-type {\n",
       "        vertical-align: middle;\n",
       "    }\n",
       "\n",
       "    .dataframe tbody tr th {\n",
       "        vertical-align: top;\n",
       "    }\n",
       "\n",
       "    .dataframe thead th {\n",
       "        text-align: right;\n",
       "    }\n",
       "</style>\n",
       "<table border=\"1\" class=\"dataframe\">\n",
       "  <thead>\n",
       "    <tr style=\"text-align: right;\">\n",
       "      <th></th>\n",
       "      <th>Brand</th>\n",
       "      <th>Price</th>\n",
       "      <th>Short Desc</th>\n",
       "    </tr>\n",
       "  </thead>\n",
       "  <tbody>\n",
       "    <tr>\n",
       "      <th>0</th>\n",
       "      <td>ALDO</td>\n",
       "      <td>Rs. 11999</td>\n",
       "      <td>Men Driving Shoes</td>\n",
       "    </tr>\n",
       "    <tr>\n",
       "      <th>1</th>\n",
       "      <td>Nike</td>\n",
       "      <td>Rs. 9999</td>\n",
       "      <td>Men Sneakers</td>\n",
       "    </tr>\n",
       "    <tr>\n",
       "      <th>2</th>\n",
       "      <td>ALDO</td>\n",
       "      <td>Rs. 12316Rs. 17595( 30 % OFF)</td>\n",
       "      <td>LEBRON XVIII Basketball Shoes</td>\n",
       "    </tr>\n",
       "    <tr>\n",
       "      <th>3</th>\n",
       "      <td>Puma</td>\n",
       "      <td>Rs. 6999</td>\n",
       "      <td>Mesh Hybrid Fuego Running</td>\n",
       "    </tr>\n",
       "    <tr>\n",
       "      <th>4</th>\n",
       "      <td>Nike</td>\n",
       "      <td>Rs. 9999</td>\n",
       "      <td>Men Sneakers</td>\n",
       "    </tr>\n",
       "    <tr>\n",
       "      <th>...</th>\n",
       "      <td>...</td>\n",
       "      <td>...</td>\n",
       "      <td>...</td>\n",
       "    </tr>\n",
       "    <tr>\n",
       "      <th>95</th>\n",
       "      <td>Heel &amp; Buckle London</td>\n",
       "      <td>Rs. 7999Rs. 15999(50% OFF)</td>\n",
       "      <td>Men Leather Formal Oxfords</td>\n",
       "    </tr>\n",
       "    <tr>\n",
       "      <th>96</th>\n",
       "      <td>Heel &amp; Buckle London</td>\n",
       "      <td>Rs. 12999</td>\n",
       "      <td>Women Solid Leather Gladiators</td>\n",
       "    </tr>\n",
       "    <tr>\n",
       "      <th>97</th>\n",
       "      <td>Saint G</td>\n",
       "      <td>Rs. 7999</td>\n",
       "      <td>Women Heeled Boots</td>\n",
       "    </tr>\n",
       "    <tr>\n",
       "      <th>98</th>\n",
       "      <td>Heel &amp; Buckle London</td>\n",
       "      <td>Rs. 8195</td>\n",
       "      <td>Women Solid Leather Heels</td>\n",
       "    </tr>\n",
       "    <tr>\n",
       "      <th>99</th>\n",
       "      <td>Geox</td>\n",
       "      <td>Rs. 10999</td>\n",
       "      <td>Women Woven Design Slip-On Sneakers</td>\n",
       "    </tr>\n",
       "  </tbody>\n",
       "</table>\n",
       "<p>100 rows × 3 columns</p>\n",
       "</div>"
      ],
      "text/plain": [
       "                   Brand                          Price  \\\n",
       "0                   ALDO                      Rs. 11999   \n",
       "1                   Nike                       Rs. 9999   \n",
       "2                   ALDO  Rs. 12316Rs. 17595( 30 % OFF)   \n",
       "3                   Puma                       Rs. 6999   \n",
       "4                   Nike                       Rs. 9999   \n",
       "..                   ...                            ...   \n",
       "95  Heel & Buckle London     Rs. 7999Rs. 15999(50% OFF)   \n",
       "96  Heel & Buckle London                      Rs. 12999   \n",
       "97               Saint G                       Rs. 7999   \n",
       "98  Heel & Buckle London                       Rs. 8195   \n",
       "99                  Geox                      Rs. 10999   \n",
       "\n",
       "                             Short Desc  \n",
       "0                     Men Driving Shoes  \n",
       "1                          Men Sneakers  \n",
       "2         LEBRON XVIII Basketball Shoes  \n",
       "3             Mesh Hybrid Fuego Running  \n",
       "4                          Men Sneakers  \n",
       "..                                  ...  \n",
       "95           Men Leather Formal Oxfords  \n",
       "96       Women Solid Leather Gladiators  \n",
       "97                   Women Heeled Boots  \n",
       "98            Women Solid Leather Heels  \n",
       "99  Women Woven Design Slip-On Sneakers  \n",
       "\n",
       "[100 rows x 3 columns]"
      ]
     },
     "execution_count": 200,
     "metadata": {},
     "output_type": "execute_result"
    }
   ],
   "source": [
    "df=pandas.DataFrame({'Brand':brandd,'Price':p,'Short Desc':d})\n",
    "df"
   ]
  },
  {
   "cell_type": "markdown",
   "metadata": {},
   "source": [
    "# "
   ]
  },
  {
   "cell_type": "markdown",
   "metadata": {},
   "source": [
    "# 10.Go to webpage https://www.amazon.in/ Enter “Laptop” in the search field and then click the search icon.Then set CPU Type filter to “Intel Core i7” and “Intel Core i9”"
   ]
  },
  {
   "cell_type": "code",
   "execution_count": 269,
   "metadata": {},
   "outputs": [],
   "source": [
    "import pandas \n",
    "import selenium\n",
    "from selenium import webdriver"
   ]
  },
  {
   "cell_type": "code",
   "execution_count": 270,
   "metadata": {},
   "outputs": [
    {
     "data": {
      "text/plain": [
       "<selenium.webdriver.chrome.webdriver.WebDriver (session=\"cf2b48f5d6d13f6ac93afe67da8210ad\")>"
      ]
     },
     "execution_count": 270,
     "metadata": {},
     "output_type": "execute_result"
    }
   ],
   "source": [
    "driver=webdriver.Chrome('chromedriver.exe')\n",
    "driver"
   ]
  },
  {
   "cell_type": "code",
   "execution_count": 271,
   "metadata": {},
   "outputs": [],
   "source": [
    "driver.get('https://www.amazon.in/')"
   ]
  },
  {
   "cell_type": "code",
   "execution_count": 272,
   "metadata": {},
   "outputs": [],
   "source": [
    "s=driver.find_element_by_xpath(\"//input[@id='twotabsearchtextbox']\")\n",
    "s.send_keys('Laptop')"
   ]
  },
  {
   "cell_type": "code",
   "execution_count": 273,
   "metadata": {},
   "outputs": [],
   "source": [
    "sbc=driver.find_element_by_xpath(\"//input[@id='nav-search-submit-button']\")\n",
    "sbc.click()"
   ]
  },
  {
   "cell_type": "code",
   "execution_count": 274,
   "metadata": {
    "scrolled": true
   },
   "outputs": [],
   "source": [
    "i7=driver.find_element_by_xpath(\"/html/body/div[1]/div[2]/div[1]/div/div[2]/div/div[3]/span/div[1]/span/div/div/div[5]/ul[1]/li[26]/span/a/div/label/i\")\n",
    "i7.click()"
   ]
  },
  {
   "cell_type": "code",
   "execution_count": 275,
   "metadata": {},
   "outputs": [],
   "source": [
    "i9=driver.find_element_by_xpath(\"/html/body/div[1]/div[2]/div[1]/div/div[2]/div/div[3]/span/div[1]/span/div/div/div[5]/ul[1]/li[28]/span/a/div/label/i\")\n",
    "i9.click()"
   ]
  },
  {
   "cell_type": "code",
   "execution_count": 276,
   "metadata": {},
   "outputs": [
    {
     "name": "stdout",
     "output_type": "stream",
     "text": [
      "\n",
      " Laptop Title  \n",
      "\n",
      " ['MSI GS66 Stealth, Intel 10th Gen. i7-10875H, 15.6\" (39.62cms) FHD Gaming Laptop (16GB*2/1TB NVMe SSD/Windows 10 Home/Nvidia RTX 2070 Super Max-Q/ Black/2.1Kg), 10SFS-488IN', 'MSI GF65 Thin, Intel i7-10750H, 15.6\" FHD (39.6 cm) IPS-Level 144Hz Panel Laptop (16GB/512GB NVMe SSD/Windows 10 Home/Nvidia GTX1660 Ti 6GB GDDR6/Black/1.86Kg), 10SDR-1280IN', 'HP Pavilion (2021) Thin & Light 11th Gen Core i7 Laptop, 16 GB RAM, 1TB SSD, Iris Xe Graphics, 14\" (35.56cms) FHD Screen, Windows 10, MS Office, Backlit Keyboard (14-dv0058TU)', 'HP Pavilion x360 (2021) 14\" (35.56cms) FHD Touchscreen Laptop, 11th Gen Core i7, 8 GB RAM, 512GB SSD, 2-in-1 Convertible, Windows 10, MS Office, Finger Print Reader (14-dw1040TU)', 'Mi Notebook Horizon Edition 14 Intel Core i7-10510U 10th Gen 14-inch (35.56 cms) Thin and Light Laptop(8GB/512GB SSD/Windows 10/Nvidia MX350 2GB Graphics/Grey/1.35Kg), XMA1904-AF+Webcam', 'HP 14 Thin & Light 14\" (35.56cms) FHD Laptop (11th Gen Intel i7-1165G7/8GB/512GB SSD/Windows 10/MS Office 2019/Alexa Built-in/Pale Gold/1.47 kg), 14s-dr2007TU', 'Lenovo IdeaPad Flex 5 11th Gen Intel Core i7 14-inch FHD IPS 2-in-1 Touchscreen Laptop (16GB/512GB SSD/Win 10/Office 2019/Lenovo Digital Pen Stylus/Fingerprint Reader/Graphite Grey/1.5Kg), 82HS0092IN', 'MSI GF65 Thin, Intel i7-10750H, 15.6\" FHD (39.6 cm) IPS-Level 144Hz Panel Laptop (16GB/512GB NVMe SSD/Windows 10 Home/Nvidia GTX1660 Ti 6GB GDDR6/Black/1.86Kg), 10SDR-1280IN', 'Life Digital Laptop 15.6-inch (39.62 cms) (Intel Core i7, 4GB RAM, 256GB SSD, Windows 10), ZED AIR CX7', 'Dell 14 (2021) i7-1165G7 2in1 Touch Screen Laptop, 16Gb RAM, 512Gb SSD, 14” (35.56 cms) FHD Display, Win 10 + MSO, Backlit KB + FPR + Active Pen, Silver Metal Color (Inspiron 5410, D560469WIN9S)', 'MSI GF63 Thin 10SCSR-019IN Intel Core i7-10750H 10th Gen 15.6-inch 120Hz Laptop(8GB/512GB NVMe SSD /Windows 10 Home/Nvidia GeForce GTX 1650Ti Max-Q 4GB/Black/1.8Kg ) 9S7-16R412-019', 'Lenovo Legion Y540 Intel Core i7 9th Gen 15.6” FHD Gaming (8GB/256SSD + 1TBHDD/Win10/NVIDIA GeForce GTX 1650 4GB/Raven Black/2.3kg), 81SY00U7IN', 'ASUS VivoBook S S14 Intel Core i7-1165G7 11th Gen 14-inch FHD Thin and Light Laptop (8GB RAM/512GB SSD + 32GB Optane Memory/Windows 10/Office 2019/Iris X Graphics ;Dreamy White;1.4 Kg), S433EA-AM702TS', '(Renewed) Dell Intel Core i7 7th Gen12.5 Inch(31.75 cms) (1920 x 1080)FHD TOUCHSCREEN Laptop (16GB RAM/512GB SSD/Windows 10 Pro/MS Office/Intel Integrated HD Graphics /1.18Kg,Black) Latitude E7280', '(Renewed) Dell XPS 9370 13.3-inch UHD Thin & Light Laptop(8th Gen i7-8550U/16GB/512GB SSD/Win 10 + MS Office/Integrated Graphics), Gold', '(Renewed) Life Digital Laptop 15.6-inch (39.62 cms) (Intel Core i7, 4GB RAM, 256GB SSD, Windows 10), ZED AIR CX7']\n"
     ]
    }
   ],
   "source": [
    "lt=[]\n",
    "# extracting laptop title\n",
    "lt_=driver.find_elements_by_xpath(\"//h2[@class='a-size-mini a-spacing-none a-color-base s-line-clamp-2']\")\n",
    "for i in lt_:\n",
    "    lt.append(i.text)\n",
    "lt=lt[:-10]\n",
    "print('\\n Laptop Title  \\n\\n',lt)"
   ]
  },
  {
   "cell_type": "code",
   "execution_count": 277,
   "metadata": {},
   "outputs": [
    {
     "name": "stdout",
     "output_type": "stream",
     "text": [
      "\n",
      " Price  \n",
      "\n",
      " ['2,55,990', '94,171', '83,993', '78,993', '59,999', '88,990', '83,990', '94,171', '40,932', '91,790', '84,990', '69,990', '76,990', '61,999', '88,423', '32,745']\n"
     ]
    }
   ],
   "source": [
    "p_=[]\n",
    "# extracting price\n",
    "pr_=driver.find_elements_by_xpath(\"//span[@class='a-price-whole']\")\n",
    "for i in pr_:\n",
    "    p_.append(i.text)\n",
    "p_=p_[:16]\n",
    "print('\\n Price  \\n\\n',p_)"
   ]
  },
  {
   "cell_type": "code",
   "execution_count": 278,
   "metadata": {},
   "outputs": [
    {
     "data": {
      "text/plain": [
       "['https://www.amazon.in/gp/slredirect/picassoRedirect.html/ref=pa_sp_atf_computers_sr_pg1_1?ie=UTF8&adId=A05780271S4CN3OBO5F46&url=%2FMSI-GS66-Stealth-i7-10875H-10SFS-488IN%2Fdp%2FB08KG3CHVR%2Fref%3Dsr_1_1_sspa%3Fdchild%3D1%26keywords%3DLaptop%26qid%3D1626350353%26refinements%3Dp_n_feature_thirteen_browse-bin%253A12598163031%257C16757432031%26rnid%3D12598141031%26s%3Dcomputers%26sr%3D1-1-spons%26psc%3D1&qualifier=1626350353&id=8004536383414434&widgetName=sp_atf',\n",
       " 'https://www.amazon.in/gp/slredirect/picassoRedirect.html/ref=pa_sp_atf_computers_sr_pg1_1?ie=UTF8&adId=A0872671147908G7LKB8X&url=%2FMSI-i7-10750H-IPS-Level-Windows-10SDR-1280IN%2Fdp%2FB093L8JCZV%2Fref%3Dsr_1_2_sspa%3Fdchild%3D1%26keywords%3DLaptop%26qid%3D1626350353%26refinements%3Dp_n_feature_thirteen_browse-bin%253A12598163031%257C16757432031%26rnid%3D12598141031%26s%3Dcomputers%26sr%3D1-2-spons%26psc%3D1&qualifier=1626350353&id=8004536383414434&widgetName=sp_atf',\n",
       " 'https://www.amazon.in/HP-Pavilion-Graphics-35-56cms-14-dv0058TU/dp/B08WB857GB/ref=sr_1_3?dchild=1&keywords=Laptop&qid=1626350353&refinements=p_n_feature_thirteen_browse-bin%3A12598163031%7C16757432031&rnid=12598141031&s=computers&sr=1-3',\n",
       " 'https://www.amazon.in/HP-Pavilion-Touchscreen-Convertible-14-dw1040TU/dp/B08R843NHL/ref=sr_1_4?dchild=1&keywords=Laptop&qid=1626350353&refinements=p_n_feature_thirteen_browse-bin%3A12598163031%7C16757432031&rnid=12598141031&s=computers&sr=1-4',\n",
       " 'https://www.amazon.in/Notebook-Horizon-i7-10510U-Graphics-XMA1904-AF/dp/B089F2W1KW/ref=sr_1_5?dchild=1&keywords=Laptop&qid=1626350353&refinements=p_n_feature_thirteen_browse-bin%3A12598163031%7C16757432031&rnid=12598141031&s=computers&sr=1-5',\n",
       " 'https://www.amazon.in/HP-35-56cms-i7-1165G7-Windows-14s-dr2007TU/dp/B08N57LR4X/ref=sr_1_6?dchild=1&keywords=Laptop&qid=1626350353&refinements=p_n_feature_thirteen_browse-bin%3A12598163031%7C16757432031&rnid=12598141031&s=computers&sr=1-6',\n",
       " 'https://www.amazon.in/Lenovo-Touchscreen-Fingerprint-Graphite-82HS0092IN/dp/B08WRZQBQ6/ref=sr_1_7?dchild=1&keywords=Laptop&qid=1626350353&refinements=p_n_feature_thirteen_browse-bin%3A12598163031%7C16757432031&rnid=12598141031&s=computers&sr=1-7',\n",
       " 'https://www.amazon.in/MSI-i7-10750H-IPS-Level-Windows-10SDR-1280IN/dp/B093L8JCZV/ref=sr_1_8?dchild=1&keywords=Laptop&qid=1626350353&refinements=p_n_feature_thirteen_browse-bin%3A12598163031%7C16757432031&rnid=12598141031&s=computers&sr=1-8',\n",
       " 'https://www.amazon.in/LifeDigital-Laptop-Intel%C2%AE-Storage-Windows/dp/B08HRMHZ8J/ref=sr_1_9?dchild=1&keywords=Laptop&qid=1626350353&refinements=p_n_feature_thirteen_browse-bin%3A12598163031%7C16757432031&rnid=12598141031&s=computers&sr=1-9',\n",
       " 'https://www.amazon.in/Dell-i7-1165G7-Inspiron-5410-D560469WIN9S/dp/B095S9NJ4S/ref=sr_1_10?dchild=1&keywords=Laptop&qid=1626350353&refinements=p_n_feature_thirteen_browse-bin%3A12598163031%7C16757432031&rnid=12598141031&s=computers&sr=1-10',\n",
       " 'https://www.amazon.in/GF63-Thin-10SCSR-019IN-i7-10750H-9S7-16R412-019/dp/B0897SXQNN/ref=sr_1_11?dchild=1&keywords=Laptop&qid=1626350353&refinements=p_n_feature_thirteen_browse-bin%3A12598163031%7C16757432031&rnid=12598141031&s=computers&sr=1-11',\n",
       " 'https://www.amazon.in/Lenovo-Legion-Gaming-GeForce-81SY00U7IN/dp/B092MRQCJ6/ref=sr_1_12?dchild=1&keywords=Laptop&qid=1626350353&refinements=p_n_feature_thirteen_browse-bin%3A12598163031%7C16757432031&rnid=12598141031&s=computers&sr=1-12',\n",
       " 'https://www.amazon.in/ASUS-VivoBook-i7-1165G7-Graphics-S433EA-AM702TS/dp/B08SN9GJXH/ref=sr_1_13?dchild=1&keywords=Laptop&qid=1626350353&refinements=p_n_feature_thirteen_browse-bin%3A12598163031%7C16757432031&rnid=12598141031&s=computers&sr=1-13',\n",
       " 'https://www.amazon.in/Dell-TOUCHSCREEN-Integrated-Graphics-Latitude/dp/B097YXTS33/ref=sr_1_14?dchild=1&keywords=Laptop&qid=1626350353&refinements=p_n_feature_thirteen_browse-bin%3A12598163031%7C16757432031&rnid=12598141031&s=computers&sr=1-14',\n",
       " 'https://www.amazon.in/Dell-13-3-inch-i7-8550U-Integrated-Graphics/dp/B09813L8BX/ref=sr_1_15?dchild=1&keywords=Laptop&qid=1626350353&refinements=p_n_feature_thirteen_browse-bin%3A12598163031%7C16757432031&rnid=12598141031&s=computers&sr=1-15',\n",
       " 'https://www.amazon.in/Renewed-Digital-Laptop-15-6-inch-Windows/dp/B095WTQ3MM/ref=sr_1_16?dchild=1&keywords=Laptop&qid=1626350353&refinements=p_n_feature_thirteen_browse-bin%3A12598163031%7C16757432031&rnid=12598141031&s=computers&sr=1-16',\n",
       " 'https://www.amazon.in/Dell-1366x768-Integrated-Graphics-Latitude/dp/B0974W4W9W/ref=sr_1_17?dchild=1&keywords=Laptop&qid=1626350353&refinements=p_n_feature_thirteen_browse-bin%3A12598163031%7C16757432031&rnid=12598141031&s=computers&sr=1-17',\n",
       " 'https://www.amazon.in/Lenovo-Ideapad-Windows-Graphics-81Y400BPIN/dp/B087D38ZNG/ref=sr_1_18?dchild=1&keywords=Laptop&qid=1626350353&refinements=p_n_feature_thirteen_browse-bin%3A12598163031%7C16757432031&rnid=12598141031&s=computers&sr=1-18',\n",
       " 'https://www.amazon.in/LifeDigital-Laptop-Intel%C2%AE-Storage-Windows/dp/B08HRHFV23/ref=sr_1_19?dchild=1&keywords=Laptop&qid=1626350353&refinements=p_n_feature_thirteen_browse-bin%3A12598163031%7C16757432031&rnid=12598141031&s=computers&sr=1-19',\n",
       " 'https://www.amazon.in/Dell-1366x768-Integrated-Graphics-Latitude/dp/B09752NVNF/ref=sr_1_20?dchild=1&keywords=Laptop&qid=1626350353&refinements=p_n_feature_thirteen_browse-bin%3A12598163031%7C16757432031&rnid=12598141031&s=computers&sr=1-20',\n",
       " 'https://www.amazon.in/Lenovo-ThinkPad-1920x1080-Fingerprint-Bluetooth/dp/B07YM16SHV/ref=sr_1_21?dchild=1&keywords=Laptop&qid=1626350353&refinements=p_n_feature_thirteen_browse-bin%3A12598163031%7C16757432031&rnid=12598141031&s=computers&sr=1-21',\n",
       " 'https://www.amazon.in/Asus-Zephyrus-GeForce-i7-8750H-GX531GW-AS76/dp/B07KS1JF2H/ref=sr_1_22?dchild=1&keywords=Laptop&qid=1626350353&refinements=p_n_feature_thirteen_browse-bin%3A12598163031%7C16757432031&rnid=12598141031&s=computers&sr=1-22',\n",
       " 'https://www.amazon.in/Nexstgo-NP15N1IN008P-15-6-inch-i7-8550U-Integrated/dp/B07KGP3HP3/ref=sr_1_23?dchild=1&keywords=Laptop&qid=1626350353&refinements=p_n_feature_thirteen_browse-bin%3A12598163031%7C16757432031&rnid=12598141031&s=computers&sr=1-23',\n",
       " 'https://www.amazon.in/Renewed-Lenovo-Integrated-Graphics-WARRANTY/dp/B092Z9PXWT/ref=sr_1_24?dchild=1&keywords=Laptop&qid=1626350353&refinements=p_n_feature_thirteen_browse-bin%3A12598163031%7C16757432031&rnid=12598141031&s=computers&sr=1-24',\n",
       " 'https://www.amazon.in/Renewed-Dell-Integrated-Graphics-Latitude/dp/B098TTQFJB/ref=sr_1_25?dchild=1&keywords=Laptop&qid=1626350353&refinements=p_n_feature_thirteen_browse-bin%3A12598163031%7C16757432031&rnid=12598141031&s=computers&sr=1-25',\n",
       " 'https://www.amazon.in/Dell-15-6-inch-i7-10750H-NVIDIA1650-D560260WIN9BE/dp/B08H9PTSYR/ref=sr_1_26?dchild=1&keywords=Laptop&qid=1626350353&refinements=p_n_feature_thirteen_browse-bin%3A12598163031%7C16757432031&rnid=12598141031&s=computers&sr=1-26']"
      ]
     },
     "execution_count": 278,
     "metadata": {},
     "output_type": "execute_result"
    }
   ],
   "source": [
    "# extracting all urls for rating inside page\n",
    "url=driver.find_elements_by_xpath(\"//a[@class='a-link-normal a-text-normal']\")\n",
    "url_=[]\n",
    "for i in url:\n",
    "    url_.append(i.get_attribute('href'))\n",
    "url_"
   ]
  },
  {
   "cell_type": "code",
   "execution_count": 279,
   "metadata": {},
   "outputs": [
    {
     "name": "stdout",
     "output_type": "stream",
     "text": [
      "\n",
      " Rating \n",
      "\n",
      " ['2 out of 5', '3.8 out of 5', '4.5 out of 5', '4 out of 5', '4.4 out of 5', '4.6 out of 5', '4 out of 5', '3.8 out of 5', '3.7 out of 5', '4.2 out of 5', '2.9 out of 5', '4.3 out of 5', '4.3 out of 5', '1 out of 5', '3.2 out of 5', '1 out of 5']\n"
     ]
    }
   ],
   "source": [
    "r_=[]\n",
    "for i in url_:\n",
    "    driver.get(i) # to open the url\n",
    "    lr=driver.find_elements_by_xpath(\"//div[@class='a-fixed-left-grid-col aok-align-center a-col-right']\")\n",
    "    for i in lr:\n",
    "        r_.append(i.text.replace('\\n',' '))\n",
    "r_=r_[:16]\n",
    "print('\\n Rating \\n\\n',r_)"
   ]
  },
  {
   "cell_type": "code",
   "execution_count": 280,
   "metadata": {},
   "outputs": [
    {
     "name": "stdout",
     "output_type": "stream",
     "text": [
      "length of Laptop Title:  16 \n",
      "length of Price:  16 \n",
      "length of Rating:  16\n"
     ]
    }
   ],
   "source": [
    "print('length of Laptop Title: ',len(lt),\n",
    "     '\\nlength of Price: ',len(p_),\n",
    "      '\\nlength of Rating: ',len(r_))"
   ]
  },
  {
   "cell_type": "code",
   "execution_count": 281,
   "metadata": {},
   "outputs": [
    {
     "data": {
      "text/html": [
       "<div>\n",
       "<style scoped>\n",
       "    .dataframe tbody tr th:only-of-type {\n",
       "        vertical-align: middle;\n",
       "    }\n",
       "\n",
       "    .dataframe tbody tr th {\n",
       "        vertical-align: top;\n",
       "    }\n",
       "\n",
       "    .dataframe thead th {\n",
       "        text-align: right;\n",
       "    }\n",
       "</style>\n",
       "<table border=\"1\" class=\"dataframe\">\n",
       "  <thead>\n",
       "    <tr style=\"text-align: right;\">\n",
       "      <th></th>\n",
       "      <th>Laptop Title</th>\n",
       "      <th>Price</th>\n",
       "      <th>Rating</th>\n",
       "    </tr>\n",
       "  </thead>\n",
       "  <tbody>\n",
       "    <tr>\n",
       "      <th>0</th>\n",
       "      <td>MSI GS66 Stealth, Intel 10th Gen. i7-10875H, 1...</td>\n",
       "      <td>2,55,990</td>\n",
       "      <td>2 out of 5</td>\n",
       "    </tr>\n",
       "    <tr>\n",
       "      <th>1</th>\n",
       "      <td>MSI GF65 Thin, Intel i7-10750H, 15.6\" FHD (39....</td>\n",
       "      <td>94,171</td>\n",
       "      <td>3.8 out of 5</td>\n",
       "    </tr>\n",
       "    <tr>\n",
       "      <th>2</th>\n",
       "      <td>HP Pavilion (2021) Thin &amp; Light 11th Gen Core ...</td>\n",
       "      <td>83,993</td>\n",
       "      <td>4.5 out of 5</td>\n",
       "    </tr>\n",
       "    <tr>\n",
       "      <th>3</th>\n",
       "      <td>HP Pavilion x360 (2021) 14\" (35.56cms) FHD Tou...</td>\n",
       "      <td>78,993</td>\n",
       "      <td>4 out of 5</td>\n",
       "    </tr>\n",
       "    <tr>\n",
       "      <th>4</th>\n",
       "      <td>Mi Notebook Horizon Edition 14 Intel Core i7-1...</td>\n",
       "      <td>59,999</td>\n",
       "      <td>4.4 out of 5</td>\n",
       "    </tr>\n",
       "    <tr>\n",
       "      <th>5</th>\n",
       "      <td>HP 14 Thin &amp; Light 14\" (35.56cms) FHD Laptop (...</td>\n",
       "      <td>88,990</td>\n",
       "      <td>4.6 out of 5</td>\n",
       "    </tr>\n",
       "    <tr>\n",
       "      <th>6</th>\n",
       "      <td>Lenovo IdeaPad Flex 5 11th Gen Intel Core i7 1...</td>\n",
       "      <td>83,990</td>\n",
       "      <td>4 out of 5</td>\n",
       "    </tr>\n",
       "    <tr>\n",
       "      <th>7</th>\n",
       "      <td>MSI GF65 Thin, Intel i7-10750H, 15.6\" FHD (39....</td>\n",
       "      <td>94,171</td>\n",
       "      <td>3.8 out of 5</td>\n",
       "    </tr>\n",
       "    <tr>\n",
       "      <th>8</th>\n",
       "      <td>Life Digital Laptop 15.6-inch (39.62 cms) (Int...</td>\n",
       "      <td>40,932</td>\n",
       "      <td>3.7 out of 5</td>\n",
       "    </tr>\n",
       "    <tr>\n",
       "      <th>9</th>\n",
       "      <td>Dell 14 (2021) i7-1165G7 2in1 Touch Screen Lap...</td>\n",
       "      <td>91,790</td>\n",
       "      <td>4.2 out of 5</td>\n",
       "    </tr>\n",
       "    <tr>\n",
       "      <th>10</th>\n",
       "      <td>MSI GF63 Thin 10SCSR-019IN Intel Core i7-10750...</td>\n",
       "      <td>84,990</td>\n",
       "      <td>2.9 out of 5</td>\n",
       "    </tr>\n",
       "    <tr>\n",
       "      <th>11</th>\n",
       "      <td>Lenovo Legion Y540 Intel Core i7 9th Gen 15.6”...</td>\n",
       "      <td>69,990</td>\n",
       "      <td>4.3 out of 5</td>\n",
       "    </tr>\n",
       "    <tr>\n",
       "      <th>12</th>\n",
       "      <td>ASUS VivoBook S S14 Intel Core i7-1165G7 11th ...</td>\n",
       "      <td>76,990</td>\n",
       "      <td>4.3 out of 5</td>\n",
       "    </tr>\n",
       "    <tr>\n",
       "      <th>13</th>\n",
       "      <td>(Renewed) Dell Intel Core i7 7th Gen12.5 Inch(...</td>\n",
       "      <td>61,999</td>\n",
       "      <td>1 out of 5</td>\n",
       "    </tr>\n",
       "    <tr>\n",
       "      <th>14</th>\n",
       "      <td>(Renewed) Dell XPS 9370 13.3-inch UHD Thin &amp; L...</td>\n",
       "      <td>88,423</td>\n",
       "      <td>3.2 out of 5</td>\n",
       "    </tr>\n",
       "    <tr>\n",
       "      <th>15</th>\n",
       "      <td>(Renewed) Life Digital Laptop 15.6-inch (39.62...</td>\n",
       "      <td>32,745</td>\n",
       "      <td>1 out of 5</td>\n",
       "    </tr>\n",
       "  </tbody>\n",
       "</table>\n",
       "</div>"
      ],
      "text/plain": [
       "                                         Laptop Title     Price        Rating\n",
       "0   MSI GS66 Stealth, Intel 10th Gen. i7-10875H, 1...  2,55,990    2 out of 5\n",
       "1   MSI GF65 Thin, Intel i7-10750H, 15.6\" FHD (39....    94,171  3.8 out of 5\n",
       "2   HP Pavilion (2021) Thin & Light 11th Gen Core ...    83,993  4.5 out of 5\n",
       "3   HP Pavilion x360 (2021) 14\" (35.56cms) FHD Tou...    78,993    4 out of 5\n",
       "4   Mi Notebook Horizon Edition 14 Intel Core i7-1...    59,999  4.4 out of 5\n",
       "5   HP 14 Thin & Light 14\" (35.56cms) FHD Laptop (...    88,990  4.6 out of 5\n",
       "6   Lenovo IdeaPad Flex 5 11th Gen Intel Core i7 1...    83,990    4 out of 5\n",
       "7   MSI GF65 Thin, Intel i7-10750H, 15.6\" FHD (39....    94,171  3.8 out of 5\n",
       "8   Life Digital Laptop 15.6-inch (39.62 cms) (Int...    40,932  3.7 out of 5\n",
       "9   Dell 14 (2021) i7-1165G7 2in1 Touch Screen Lap...    91,790  4.2 out of 5\n",
       "10  MSI GF63 Thin 10SCSR-019IN Intel Core i7-10750...    84,990  2.9 out of 5\n",
       "11  Lenovo Legion Y540 Intel Core i7 9th Gen 15.6”...    69,990  4.3 out of 5\n",
       "12  ASUS VivoBook S S14 Intel Core i7-1165G7 11th ...    76,990  4.3 out of 5\n",
       "13  (Renewed) Dell Intel Core i7 7th Gen12.5 Inch(...    61,999    1 out of 5\n",
       "14  (Renewed) Dell XPS 9370 13.3-inch UHD Thin & L...    88,423  3.2 out of 5\n",
       "15  (Renewed) Life Digital Laptop 15.6-inch (39.62...    32,745    1 out of 5"
      ]
     },
     "execution_count": 281,
     "metadata": {},
     "output_type": "execute_result"
    }
   ],
   "source": [
    "df=pandas.DataFrame({'Laptop Title':lt,'Price':p_,'Rating':r_})\n",
    "df"
   ]
  },
  {
   "cell_type": "code",
   "execution_count": null,
   "metadata": {},
   "outputs": [],
   "source": []
  }
 ],
 "metadata": {
  "kernelspec": {
   "display_name": "Python 3",
   "language": "python",
   "name": "python3"
  },
  "language_info": {
   "codemirror_mode": {
    "name": "ipython",
    "version": 3
   },
   "file_extension": ".py",
   "mimetype": "text/x-python",
   "name": "python",
   "nbconvert_exporter": "python",
   "pygments_lexer": "ipython3",
   "version": "3.8.5"
  }
 },
 "nbformat": 4,
 "nbformat_minor": 5
}
