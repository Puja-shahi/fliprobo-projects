{
 "cells": [
  {
   "cell_type": "code",
   "execution_count": null,
   "metadata": {},
   "outputs": [],
   "source": [
    "# find the factorial of a numnber"
   ]
  },
  {
   "cell_type": "code",
   "execution_count": 18,
   "metadata": {
    "scrolled": true
   },
   "outputs": [
    {
     "name": "stdout",
     "output_type": "stream",
     "text": [
      "enter a number 5\n",
      "factorial of 5 is 120\n"
     ]
    }
   ],
   "source": [
    "num =int(input(\"enter a number \"))\n",
    "n=1\n",
    "for i in range(1,x+1):\n",
    "    n=n*i\n",
    "print(\"factorial of\",num, \"is\", n)\n",
    "\n"
   ]
  },
  {
   "cell_type": "code",
   "execution_count": null,
   "metadata": {},
   "outputs": [],
   "source": [
    "# find whether the number is prime or composite "
   ]
  },
  {
   "cell_type": "code",
   "execution_count": 10,
   "metadata": {},
   "outputs": [
    {
     "name": "stdout",
     "output_type": "stream",
     "text": [
      "enter any number= 6\n",
      "6 is a composite number\n"
     ]
    }
   ],
   "source": [
    "p=int(input('enter any number= '))\n",
    "if p==1:\n",
    "    print(p, \"is a prime number\")\n",
    "elif p==0:\n",
    "    print(p, 'is neither a composite nor a prime nember')\n",
    "elif p>1:\n",
    "    for i in range(2,p):\n",
    "        if p%i==0:\n",
    "            print(p, 'is a composite number')\n",
    "            break\n",
    "    else:\n",
    "        print(p, 'is a prime number')        "
   ]
  },
  {
   "cell_type": "code",
   "execution_count": null,
   "metadata": {},
   "outputs": [],
   "source": [
    "# check if the string is Palindrome"
   ]
  },
  {
   "cell_type": "code",
   "execution_count": 13,
   "metadata": {},
   "outputs": [
    {
     "name": "stdout",
     "output_type": "stream",
     "text": [
      "Enter a string:hooh\n",
      "hooh is a palindrome string\n"
     ]
    }
   ],
   "source": [
    "s=input((\"Enter a string:\"))\n",
    "s=s.casefold()\n",
    "rev_s = reversed(s)\n",
    "if list(s) == list(rev_s):  \n",
    "      print(s, \"is a palindrome string\")\n",
    "else:  \n",
    "      print(s, \"is not a palindrome string\")"
   ]
  },
  {
   "cell_type": "code",
   "execution_count": null,
   "metadata": {},
   "outputs": [],
   "source": [
    "# find the third side of a right-angled triangle if two sides are given"
   ]
  },
  {
   "cell_type": "code",
   "execution_count": 1,
   "metadata": {},
   "outputs": [
    {
     "name": "stdout",
     "output_type": "stream",
     "text": [
      "enter the lenth of base of trianle = 2\n",
      "enter the length of perpendicular of triangle= 3\n",
      "length of third side of the right-angled triangle is 3.605551275463989\n"
     ]
    }
   ],
   "source": [
    "import math as m\n",
    "l=int(input('enter the lenth of base of trianle = '))\n",
    "h=int(input('enter the length of perpendicular of triangle= '))\n",
    "hyp=(l*l)+(h*h)\n",
    "hy=m.sqrt(hyp)\n",
    "print(\"length of third side of the right-angled triangle is\", hy)"
   ]
  },
  {
   "cell_type": "code",
   "execution_count": null,
   "metadata": {},
   "outputs": [],
   "source": [
    "# print the frequency of each character present in the string"
   ]
  },
  {
   "cell_type": "code",
   "execution_count": 3,
   "metadata": {},
   "outputs": [
    {
     "name": "stdout",
     "output_type": "stream",
     "text": [
      "enter the string: aabc\n",
      "Per char frequency in 'aabc' is :\n",
      " {'a': 2, 'b': 1, 'c': 1}\n"
     ]
    }
   ],
   "source": [
    "s=input('enter the string: ')\n",
    "f={} \n",
    "for i in s: \n",
    "    if i in f: \n",
    "        f[i]+=1\n",
    "    else: \n",
    "        f[i]=1\n",
    "\n",
    "print (\"Per char frequency in '{}' is :\\n {}\".format(s, str(f)))"
   ]
  },
  {
   "cell_type": "code",
   "execution_count": null,
   "metadata": {},
   "outputs": [],
   "source": []
  },
  {
   "cell_type": "code",
   "execution_count": null,
   "metadata": {},
   "outputs": [],
   "source": []
  }
 ],
 "metadata": {
  "kernelspec": {
   "display_name": "Python 3",
   "language": "python",
   "name": "python3"
  },
  "language_info": {
   "codemirror_mode": {
    "name": "ipython",
    "version": 3
   },
   "file_extension": ".py",
   "mimetype": "text/x-python",
   "name": "python",
   "nbconvert_exporter": "python",
   "pygments_lexer": "ipython3",
   "version": "3.8.5"
  }
 },
 "nbformat": 4,
 "nbformat_minor": 4
}
